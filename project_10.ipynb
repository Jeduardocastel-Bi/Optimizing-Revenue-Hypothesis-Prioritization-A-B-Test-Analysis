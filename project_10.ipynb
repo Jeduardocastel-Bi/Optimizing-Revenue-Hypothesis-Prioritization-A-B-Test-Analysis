{
 "cells": [
  {
   "cell_type": "markdown",
   "metadata": {},
   "source": [
    "Hola **Jairo**!\n",
    "\n",
    "Soy **Patricio Requena** 👋. Es un placer ser el revisor de tu proyecto el día de hoy!\n",
    "\n",
    "Revisaré tu proyecto detenidamente con el objetivo de ayudarte a mejorar y perfeccionar tus habilidades. Durante mi revisión, identificaré áreas donde puedas hacer mejoras en tu código, señalando específicamente qué y cómo podrías ajustar para optimizar el rendimiento y la claridad de tu proyecto. Además, es importante para mí destacar los aspectos que has manejado excepcionalmente bien. Reconocer tus fortalezas te ayudará a entender qué técnicas y métodos están funcionando a tu favor y cómo puedes aplicarlos en futuras tareas. \n",
    "\n",
    "_**Recuerda que al final de este notebook encontrarás un comentario general de mi parte**_, empecemos!\n",
    "\n",
    "Encontrarás mis comentarios dentro de cajas verdes, amarillas o rojas, ⚠️ **por favor, no muevas, modifiques o borres mis comentarios** ⚠️:\n",
    "\n",
    "\n",
    "<div class=\"alert alert-block alert-success\">\n",
    "<b>Comentario del revisor</b> <a class=“tocSkip”></a>\n",
    "Si todo está perfecto.\n",
    "</div>\n",
    "\n",
    "<div class=\"alert alert-block alert-warning\">\n",
    "<b>Comentario del revisor</b> <a class=“tocSkip”></a>\n",
    "Si tu código está bien pero se puede mejorar o hay algún detalle que le hace falta.\n",
    "</div>\n",
    "\n",
    "<div class=\"alert alert-block alert-danger\">\n",
    "<b>Comentario del revisor</b> <a class=“tocSkip”></a>\n",
    "Si de pronto hace falta algo o existe algún problema con tu código o conclusiones.\n",
    "</div>\n",
    "\n",
    "Puedes responderme de esta forma:\n",
    "<div class=\"alert alert-block alert-info\">\n",
    "<b>Respuesta del estudiante</b> <a class=“tocSkip”></a>\n",
    "</div>"
   ]
  },
  {
   "cell_type": "markdown",
   "metadata": {},
   "source": [
    "## Introducciòn del Proyecto\n"
   ]
  },
  {
   "cell_type": "markdown",
   "metadata": {},
   "source": [
    "\n",
    "Eres analista en una gran tienda online. Junto con el departamento de marketing has recopilado una lista de hipótesis que pueden ayudar a aumentar los ingresos.\n",
    "\n",
    "Tienes que priorizar estas hipótesis, lanzar un test A/B y analizar los resultados.\n"
   ]
  },
  {
   "cell_type": "markdown",
   "metadata": {},
   "source": [
    "<div class=\"alert alert-block alert-success\">\n",
    "<b>Comentario del revisor (1ra Iteracion)</b> <a class=“tocSkip”></a>\n",
    "\n",
    "Excelente trabajo incluyendo la redacción de la introducción! Procura mantener esta práctica y hacerlo un poco más detallada en tus próximos proyectos ya que esto ayuda a entender el objetivo del proyecto\n",
    "</div>"
   ]
  },
  {
   "cell_type": "markdown",
   "metadata": {},
   "source": [
    "## Pre-procesar los datos"
   ]
  },
  {
   "cell_type": "code",
   "execution_count": 104,
   "metadata": {},
   "outputs": [],
   "source": [
    "# importar librerias \n",
    "import pandas as pd \n",
    "import numpy as np \n",
    "import scipy.stats as stats\n",
    "import datetime as dt \n",
    "import matplotlib.pyplot as plt "
   ]
  },
  {
   "cell_type": "code",
   "execution_count": 105,
   "metadata": {},
   "outputs": [],
   "source": [
    "#Leer los datasets:\n",
    "\n",
    "orders = pd.read_csv('/datasets/orders_us.csv')\n",
    "visits = pd.read_csv('/datasets/visits_us.csv')\n",
    "hypotheses = pd.read_csv('/datasets/hypotheses_us.csv', sep=';')"
   ]
  },
  {
   "cell_type": "code",
   "execution_count": 106,
   "metadata": {},
   "outputs": [
    {
     "data": {
      "text/html": [
       "<div>\n",
       "<style scoped>\n",
       "    .dataframe tbody tr th:only-of-type {\n",
       "        vertical-align: middle;\n",
       "    }\n",
       "\n",
       "    .dataframe tbody tr th {\n",
       "        vertical-align: top;\n",
       "    }\n",
       "\n",
       "    .dataframe thead th {\n",
       "        text-align: right;\n",
       "    }\n",
       "</style>\n",
       "<table border=\"1\" class=\"dataframe\">\n",
       "  <thead>\n",
       "    <tr style=\"text-align: right;\">\n",
       "      <th></th>\n",
       "      <th>Hypothesis</th>\n",
       "      <th>Reach</th>\n",
       "      <th>Impact</th>\n",
       "      <th>Confidence</th>\n",
       "      <th>Effort</th>\n",
       "    </tr>\n",
       "  </thead>\n",
       "  <tbody>\n",
       "    <tr>\n",
       "      <th>0</th>\n",
       "      <td>Add two new channels for attracting traffic. T...</td>\n",
       "      <td>3</td>\n",
       "      <td>10</td>\n",
       "      <td>8</td>\n",
       "      <td>6</td>\n",
       "    </tr>\n",
       "    <tr>\n",
       "      <th>1</th>\n",
       "      <td>Launch your own delivery service. This will sh...</td>\n",
       "      <td>2</td>\n",
       "      <td>5</td>\n",
       "      <td>4</td>\n",
       "      <td>10</td>\n",
       "    </tr>\n",
       "    <tr>\n",
       "      <th>2</th>\n",
       "      <td>Add product recommendation blocks to the store...</td>\n",
       "      <td>8</td>\n",
       "      <td>3</td>\n",
       "      <td>7</td>\n",
       "      <td>3</td>\n",
       "    </tr>\n",
       "    <tr>\n",
       "      <th>3</th>\n",
       "      <td>Change the category structure. This will incre...</td>\n",
       "      <td>8</td>\n",
       "      <td>3</td>\n",
       "      <td>3</td>\n",
       "      <td>8</td>\n",
       "    </tr>\n",
       "    <tr>\n",
       "      <th>4</th>\n",
       "      <td>Change the background color on the main page. ...</td>\n",
       "      <td>3</td>\n",
       "      <td>1</td>\n",
       "      <td>1</td>\n",
       "      <td>1</td>\n",
       "    </tr>\n",
       "    <tr>\n",
       "      <th>5</th>\n",
       "      <td>Add a customer review page. This will increase...</td>\n",
       "      <td>3</td>\n",
       "      <td>2</td>\n",
       "      <td>2</td>\n",
       "      <td>3</td>\n",
       "    </tr>\n",
       "    <tr>\n",
       "      <th>6</th>\n",
       "      <td>Show banners with current offers and sales on ...</td>\n",
       "      <td>5</td>\n",
       "      <td>3</td>\n",
       "      <td>8</td>\n",
       "      <td>3</td>\n",
       "    </tr>\n",
       "    <tr>\n",
       "      <th>7</th>\n",
       "      <td>Add a subscription form to all the main pages....</td>\n",
       "      <td>10</td>\n",
       "      <td>7</td>\n",
       "      <td>8</td>\n",
       "      <td>5</td>\n",
       "    </tr>\n",
       "    <tr>\n",
       "      <th>8</th>\n",
       "      <td>Launch a promotion that gives users discounts ...</td>\n",
       "      <td>1</td>\n",
       "      <td>9</td>\n",
       "      <td>9</td>\n",
       "      <td>5</td>\n",
       "    </tr>\n",
       "  </tbody>\n",
       "</table>\n",
       "</div>"
      ],
      "text/plain": [
       "                                          Hypothesis  Reach  Impact  \\\n",
       "0  Add two new channels for attracting traffic. T...      3      10   \n",
       "1  Launch your own delivery service. This will sh...      2       5   \n",
       "2  Add product recommendation blocks to the store...      8       3   \n",
       "3  Change the category structure. This will incre...      8       3   \n",
       "4  Change the background color on the main page. ...      3       1   \n",
       "5  Add a customer review page. This will increase...      3       2   \n",
       "6  Show banners with current offers and sales on ...      5       3   \n",
       "7  Add a subscription form to all the main pages....     10       7   \n",
       "8  Launch a promotion that gives users discounts ...      1       9   \n",
       "\n",
       "   Confidence  Effort  \n",
       "0           8       6  \n",
       "1           4      10  \n",
       "2           7       3  \n",
       "3           3       8  \n",
       "4           1       1  \n",
       "5           2       3  \n",
       "6           8       3  \n",
       "7           8       5  \n",
       "8           9       5  "
      ]
     },
     "execution_count": 106,
     "metadata": {},
     "output_type": "execute_result"
    }
   ],
   "source": [
    "hypotheses"
   ]
  },
  {
   "cell_type": "markdown",
   "metadata": {},
   "source": [
    "Son 9 Hypotesis para probar, pero no podemos probar todas, por eso debemos escoger cuales vamos a probar, de acuerdo a nuestro presupuesto y tiempo. Para definir esto, tenemos un Framework (metodologia para saber cual vamos a probar) "
   ]
  },
  {
   "cell_type": "code",
   "execution_count": 107,
   "metadata": {},
   "outputs": [
    {
     "name": "stdout",
     "output_type": "stream",
     "text": [
      "<class 'pandas.core.frame.DataFrame'>\n",
      "RangeIndex: 9 entries, 0 to 8\n",
      "Data columns (total 5 columns):\n",
      " #   Column      Non-Null Count  Dtype \n",
      "---  ------      --------------  ----- \n",
      " 0   Hypothesis  9 non-null      object\n",
      " 1   Reach       9 non-null      int64 \n",
      " 2   Impact      9 non-null      int64 \n",
      " 3   Confidence  9 non-null      int64 \n",
      " 4   Effort      9 non-null      int64 \n",
      "dtypes: int64(4), object(1)\n",
      "memory usage: 488.0+ bytes\n"
     ]
    }
   ],
   "source": [
    "hypotheses.info()"
   ]
  },
  {
   "cell_type": "code",
   "execution_count": 108,
   "metadata": {},
   "outputs": [
    {
     "data": {
      "text/plain": [
       "0"
      ]
     },
     "execution_count": 108,
     "metadata": {},
     "output_type": "execute_result"
    }
   ],
   "source": [
    "hypotheses.duplicated().sum()"
   ]
  },
  {
   "cell_type": "code",
   "execution_count": 109,
   "metadata": {},
   "outputs": [
    {
     "data": {
      "text/plain": [
       "Hypothesis    0\n",
       "Reach         0\n",
       "Impact        0\n",
       "Confidence    0\n",
       "Effort        0\n",
       "dtype: int64"
      ]
     },
     "execution_count": 109,
     "metadata": {},
     "output_type": "execute_result"
    }
   ],
   "source": [
    "hypotheses.isna().sum()"
   ]
  },
  {
   "cell_type": "code",
   "execution_count": 110,
   "metadata": {},
   "outputs": [],
   "source": [
    "# declarar funcion para limpiar datos\n",
    "\n",
    "def limpiar_datos(data):\n",
    "    new_columns = []\n",
    "    for columna in data.columns:\n",
    "        columna_limpia = columna.lower()\n",
    "        new_columns.append(columna_limpia)\n",
    "    data.columns = new_columns\n",
    "\n",
    "    return data.head()"
   ]
  },
  {
   "cell_type": "code",
   "execution_count": 111,
   "metadata": {},
   "outputs": [
    {
     "data": {
      "text/html": [
       "<div>\n",
       "<style scoped>\n",
       "    .dataframe tbody tr th:only-of-type {\n",
       "        vertical-align: middle;\n",
       "    }\n",
       "\n",
       "    .dataframe tbody tr th {\n",
       "        vertical-align: top;\n",
       "    }\n",
       "\n",
       "    .dataframe thead th {\n",
       "        text-align: right;\n",
       "    }\n",
       "</style>\n",
       "<table border=\"1\" class=\"dataframe\">\n",
       "  <thead>\n",
       "    <tr style=\"text-align: right;\">\n",
       "      <th></th>\n",
       "      <th>hypothesis</th>\n",
       "      <th>reach</th>\n",
       "      <th>impact</th>\n",
       "      <th>confidence</th>\n",
       "      <th>effort</th>\n",
       "    </tr>\n",
       "  </thead>\n",
       "  <tbody>\n",
       "    <tr>\n",
       "      <th>0</th>\n",
       "      <td>Add two new channels for attracting traffic. T...</td>\n",
       "      <td>3</td>\n",
       "      <td>10</td>\n",
       "      <td>8</td>\n",
       "      <td>6</td>\n",
       "    </tr>\n",
       "    <tr>\n",
       "      <th>1</th>\n",
       "      <td>Launch your own delivery service. This will sh...</td>\n",
       "      <td>2</td>\n",
       "      <td>5</td>\n",
       "      <td>4</td>\n",
       "      <td>10</td>\n",
       "    </tr>\n",
       "    <tr>\n",
       "      <th>2</th>\n",
       "      <td>Add product recommendation blocks to the store...</td>\n",
       "      <td>8</td>\n",
       "      <td>3</td>\n",
       "      <td>7</td>\n",
       "      <td>3</td>\n",
       "    </tr>\n",
       "    <tr>\n",
       "      <th>3</th>\n",
       "      <td>Change the category structure. This will incre...</td>\n",
       "      <td>8</td>\n",
       "      <td>3</td>\n",
       "      <td>3</td>\n",
       "      <td>8</td>\n",
       "    </tr>\n",
       "    <tr>\n",
       "      <th>4</th>\n",
       "      <td>Change the background color on the main page. ...</td>\n",
       "      <td>3</td>\n",
       "      <td>1</td>\n",
       "      <td>1</td>\n",
       "      <td>1</td>\n",
       "    </tr>\n",
       "  </tbody>\n",
       "</table>\n",
       "</div>"
      ],
      "text/plain": [
       "                                          hypothesis  reach  impact  \\\n",
       "0  Add two new channels for attracting traffic. T...      3      10   \n",
       "1  Launch your own delivery service. This will sh...      2       5   \n",
       "2  Add product recommendation blocks to the store...      8       3   \n",
       "3  Change the category structure. This will incre...      8       3   \n",
       "4  Change the background color on the main page. ...      3       1   \n",
       "\n",
       "   confidence  effort  \n",
       "0           8       6  \n",
       "1           4      10  \n",
       "2           7       3  \n",
       "3           3       8  \n",
       "4           1       1  "
      ]
     },
     "execution_count": 111,
     "metadata": {},
     "output_type": "execute_result"
    }
   ],
   "source": [
    "limpiar_datos(hypotheses)"
   ]
  },
  {
   "cell_type": "markdown",
   "metadata": {},
   "source": [
    "<div class=\"alert alert-block alert-success\">\n",
    "<b>Comentario del revisor (1ra Iteracion)</b> <a class=“tocSkip”></a>\n",
    "\n",
    "Buen trabajo con la revisión inicial de tus datos y la transformación de los mismos, siempre es importante entender con lo que trabajarás!\n",
    "</div>"
   ]
  },
  {
   "cell_type": "markdown",
   "metadata": {},
   "source": [
    "## Parte 1: ICE"
   ]
  },
  {
   "cell_type": "markdown",
   "metadata": {},
   "source": [
    "Para saber que Hipotesis vamos a probar es necesario usar la metodologia ICE (impact, Confidence, Ease). Entre > es el impacto puede generar mayores ventas. Confianza= que tan seguro estoy que mi experimiento va a probar la hipotesis. Esfuerzo = Puede ejecutarse esta prueba facilmente **** Our Goal: Tener un Experimiento con alto impacto y confianza y menor esfuerzo***"
   ]
  },
  {
   "cell_type": "code",
   "execution_count": 112,
   "metadata": {},
   "outputs": [
    {
     "data": {
      "text/plain": [
       "'Add two new channels for attracting traffic. This will bring 30% more users'"
      ]
     },
     "execution_count": 112,
     "metadata": {},
     "output_type": "execute_result"
    }
   ],
   "source": [
    "#Vamos a extraer la primea Hypothesis:\n",
    "\n",
    "hypotheses.iloc[0,0]"
   ]
  },
  {
   "cell_type": "code",
   "execution_count": 113,
   "metadata": {},
   "outputs": [],
   "source": [
    "# Vamos a seleccionar las Hypotesis que vamos a probar:\n",
    "\n",
    "hypotheses['ICE'] = hypotheses['impact'] * hypotheses['confidence'] / hypotheses['effort']"
   ]
  },
  {
   "cell_type": "code",
   "execution_count": 114,
   "metadata": {},
   "outputs": [
    {
     "data": {
      "text/html": [
       "<div>\n",
       "<style scoped>\n",
       "    .dataframe tbody tr th:only-of-type {\n",
       "        vertical-align: middle;\n",
       "    }\n",
       "\n",
       "    .dataframe tbody tr th {\n",
       "        vertical-align: top;\n",
       "    }\n",
       "\n",
       "    .dataframe thead th {\n",
       "        text-align: right;\n",
       "    }\n",
       "</style>\n",
       "<table border=\"1\" class=\"dataframe\">\n",
       "  <thead>\n",
       "    <tr style=\"text-align: right;\">\n",
       "      <th></th>\n",
       "      <th>hypothesis</th>\n",
       "      <th>reach</th>\n",
       "      <th>impact</th>\n",
       "      <th>confidence</th>\n",
       "      <th>effort</th>\n",
       "      <th>ICE</th>\n",
       "    </tr>\n",
       "  </thead>\n",
       "  <tbody>\n",
       "    <tr>\n",
       "      <th>0</th>\n",
       "      <td>Add two new channels for attracting traffic. T...</td>\n",
       "      <td>3</td>\n",
       "      <td>10</td>\n",
       "      <td>8</td>\n",
       "      <td>6</td>\n",
       "      <td>13.333333</td>\n",
       "    </tr>\n",
       "    <tr>\n",
       "      <th>1</th>\n",
       "      <td>Launch your own delivery service. This will sh...</td>\n",
       "      <td>2</td>\n",
       "      <td>5</td>\n",
       "      <td>4</td>\n",
       "      <td>10</td>\n",
       "      <td>2.000000</td>\n",
       "    </tr>\n",
       "    <tr>\n",
       "      <th>2</th>\n",
       "      <td>Add product recommendation blocks to the store...</td>\n",
       "      <td>8</td>\n",
       "      <td>3</td>\n",
       "      <td>7</td>\n",
       "      <td>3</td>\n",
       "      <td>7.000000</td>\n",
       "    </tr>\n",
       "    <tr>\n",
       "      <th>3</th>\n",
       "      <td>Change the category structure. This will incre...</td>\n",
       "      <td>8</td>\n",
       "      <td>3</td>\n",
       "      <td>3</td>\n",
       "      <td>8</td>\n",
       "      <td>1.125000</td>\n",
       "    </tr>\n",
       "    <tr>\n",
       "      <th>4</th>\n",
       "      <td>Change the background color on the main page. ...</td>\n",
       "      <td>3</td>\n",
       "      <td>1</td>\n",
       "      <td>1</td>\n",
       "      <td>1</td>\n",
       "      <td>1.000000</td>\n",
       "    </tr>\n",
       "    <tr>\n",
       "      <th>5</th>\n",
       "      <td>Add a customer review page. This will increase...</td>\n",
       "      <td>3</td>\n",
       "      <td>2</td>\n",
       "      <td>2</td>\n",
       "      <td>3</td>\n",
       "      <td>1.333333</td>\n",
       "    </tr>\n",
       "    <tr>\n",
       "      <th>6</th>\n",
       "      <td>Show banners with current offers and sales on ...</td>\n",
       "      <td>5</td>\n",
       "      <td>3</td>\n",
       "      <td>8</td>\n",
       "      <td>3</td>\n",
       "      <td>8.000000</td>\n",
       "    </tr>\n",
       "    <tr>\n",
       "      <th>7</th>\n",
       "      <td>Add a subscription form to all the main pages....</td>\n",
       "      <td>10</td>\n",
       "      <td>7</td>\n",
       "      <td>8</td>\n",
       "      <td>5</td>\n",
       "      <td>11.200000</td>\n",
       "    </tr>\n",
       "    <tr>\n",
       "      <th>8</th>\n",
       "      <td>Launch a promotion that gives users discounts ...</td>\n",
       "      <td>1</td>\n",
       "      <td>9</td>\n",
       "      <td>9</td>\n",
       "      <td>5</td>\n",
       "      <td>16.200000</td>\n",
       "    </tr>\n",
       "  </tbody>\n",
       "</table>\n",
       "</div>"
      ],
      "text/plain": [
       "                                          hypothesis  reach  impact  \\\n",
       "0  Add two new channels for attracting traffic. T...      3      10   \n",
       "1  Launch your own delivery service. This will sh...      2       5   \n",
       "2  Add product recommendation blocks to the store...      8       3   \n",
       "3  Change the category structure. This will incre...      8       3   \n",
       "4  Change the background color on the main page. ...      3       1   \n",
       "5  Add a customer review page. This will increase...      3       2   \n",
       "6  Show banners with current offers and sales on ...      5       3   \n",
       "7  Add a subscription form to all the main pages....     10       7   \n",
       "8  Launch a promotion that gives users discounts ...      1       9   \n",
       "\n",
       "   confidence  effort        ICE  \n",
       "0           8       6  13.333333  \n",
       "1           4      10   2.000000  \n",
       "2           7       3   7.000000  \n",
       "3           3       8   1.125000  \n",
       "4           1       1   1.000000  \n",
       "5           2       3   1.333333  \n",
       "6           8       3   8.000000  \n",
       "7           8       5  11.200000  \n",
       "8           9       5  16.200000  "
      ]
     },
     "execution_count": 114,
     "metadata": {},
     "output_type": "execute_result"
    }
   ],
   "source": [
    "hypotheses"
   ]
  },
  {
   "cell_type": "code",
   "execution_count": 115,
   "metadata": {},
   "outputs": [
    {
     "data": {
      "text/html": [
       "<div>\n",
       "<style scoped>\n",
       "    .dataframe tbody tr th:only-of-type {\n",
       "        vertical-align: middle;\n",
       "    }\n",
       "\n",
       "    .dataframe tbody tr th {\n",
       "        vertical-align: top;\n",
       "    }\n",
       "\n",
       "    .dataframe thead th {\n",
       "        text-align: right;\n",
       "    }\n",
       "</style>\n",
       "<table border=\"1\" class=\"dataframe\">\n",
       "  <thead>\n",
       "    <tr style=\"text-align: right;\">\n",
       "      <th></th>\n",
       "      <th>hypothesis</th>\n",
       "      <th>reach</th>\n",
       "      <th>impact</th>\n",
       "      <th>confidence</th>\n",
       "      <th>effort</th>\n",
       "      <th>ICE</th>\n",
       "    </tr>\n",
       "  </thead>\n",
       "  <tbody>\n",
       "    <tr>\n",
       "      <th>8</th>\n",
       "      <td>Launch a promotion that gives users discounts ...</td>\n",
       "      <td>1</td>\n",
       "      <td>9</td>\n",
       "      <td>9</td>\n",
       "      <td>5</td>\n",
       "      <td>16.200000</td>\n",
       "    </tr>\n",
       "    <tr>\n",
       "      <th>0</th>\n",
       "      <td>Add two new channels for attracting traffic. T...</td>\n",
       "      <td>3</td>\n",
       "      <td>10</td>\n",
       "      <td>8</td>\n",
       "      <td>6</td>\n",
       "      <td>13.333333</td>\n",
       "    </tr>\n",
       "    <tr>\n",
       "      <th>7</th>\n",
       "      <td>Add a subscription form to all the main pages....</td>\n",
       "      <td>10</td>\n",
       "      <td>7</td>\n",
       "      <td>8</td>\n",
       "      <td>5</td>\n",
       "      <td>11.200000</td>\n",
       "    </tr>\n",
       "    <tr>\n",
       "      <th>6</th>\n",
       "      <td>Show banners with current offers and sales on ...</td>\n",
       "      <td>5</td>\n",
       "      <td>3</td>\n",
       "      <td>8</td>\n",
       "      <td>3</td>\n",
       "      <td>8.000000</td>\n",
       "    </tr>\n",
       "    <tr>\n",
       "      <th>2</th>\n",
       "      <td>Add product recommendation blocks to the store...</td>\n",
       "      <td>8</td>\n",
       "      <td>3</td>\n",
       "      <td>7</td>\n",
       "      <td>3</td>\n",
       "      <td>7.000000</td>\n",
       "    </tr>\n",
       "    <tr>\n",
       "      <th>1</th>\n",
       "      <td>Launch your own delivery service. This will sh...</td>\n",
       "      <td>2</td>\n",
       "      <td>5</td>\n",
       "      <td>4</td>\n",
       "      <td>10</td>\n",
       "      <td>2.000000</td>\n",
       "    </tr>\n",
       "    <tr>\n",
       "      <th>5</th>\n",
       "      <td>Add a customer review page. This will increase...</td>\n",
       "      <td>3</td>\n",
       "      <td>2</td>\n",
       "      <td>2</td>\n",
       "      <td>3</td>\n",
       "      <td>1.333333</td>\n",
       "    </tr>\n",
       "    <tr>\n",
       "      <th>3</th>\n",
       "      <td>Change the category structure. This will incre...</td>\n",
       "      <td>8</td>\n",
       "      <td>3</td>\n",
       "      <td>3</td>\n",
       "      <td>8</td>\n",
       "      <td>1.125000</td>\n",
       "    </tr>\n",
       "    <tr>\n",
       "      <th>4</th>\n",
       "      <td>Change the background color on the main page. ...</td>\n",
       "      <td>3</td>\n",
       "      <td>1</td>\n",
       "      <td>1</td>\n",
       "      <td>1</td>\n",
       "      <td>1.000000</td>\n",
       "    </tr>\n",
       "  </tbody>\n",
       "</table>\n",
       "</div>"
      ],
      "text/plain": [
       "                                          hypothesis  reach  impact  \\\n",
       "8  Launch a promotion that gives users discounts ...      1       9   \n",
       "0  Add two new channels for attracting traffic. T...      3      10   \n",
       "7  Add a subscription form to all the main pages....     10       7   \n",
       "6  Show banners with current offers and sales on ...      5       3   \n",
       "2  Add product recommendation blocks to the store...      8       3   \n",
       "1  Launch your own delivery service. This will sh...      2       5   \n",
       "5  Add a customer review page. This will increase...      3       2   \n",
       "3  Change the category structure. This will incre...      8       3   \n",
       "4  Change the background color on the main page. ...      3       1   \n",
       "\n",
       "   confidence  effort        ICE  \n",
       "8           9       5  16.200000  \n",
       "0           8       6  13.333333  \n",
       "7           8       5  11.200000  \n",
       "6           8       3   8.000000  \n",
       "2           7       3   7.000000  \n",
       "1           4      10   2.000000  \n",
       "5           2       3   1.333333  \n",
       "3           3       8   1.125000  \n",
       "4           1       1   1.000000  "
      ]
     },
     "execution_count": 115,
     "metadata": {},
     "output_type": "execute_result"
    }
   ],
   "source": [
    "# Vamos a Ordenarlo de mayor a menor (el ICE es bueno cuando es mayor)\n",
    "\n",
    "hypotheses.sort_values(by='ICE', ascending=False)"
   ]
  },
  {
   "cell_type": "markdown",
   "metadata": {},
   "source": [
    "Las hipotesis con mejores puntajes de ICE, Es decir mayor IMpacto, confianza y mejor esfuerzo son la 8 01 y la 7)"
   ]
  },
  {
   "cell_type": "markdown",
   "metadata": {},
   "source": [
    "### RICE\n",
    "Es un metodo que nos permite priorizar oportunidades, problemas o soluciones. Es más preciso que el ICE, ya que RICE mide el alcance. Se calcula = (Alcance* Impacto * Confiabilidad) / Esfuerzo"
   ]
  },
  {
   "cell_type": "code",
   "execution_count": 116,
   "metadata": {},
   "outputs": [],
   "source": [
    "# Vamos a calcular es RICE:\n",
    "\n",
    "hypotheses['RICE'] = hypotheses['reach']  * hypotheses['impact'] * hypotheses['confidence'] / hypotheses['effort']"
   ]
  },
  {
   "cell_type": "code",
   "execution_count": 117,
   "metadata": {},
   "outputs": [
    {
     "data": {
      "text/html": [
       "<div>\n",
       "<style scoped>\n",
       "    .dataframe tbody tr th:only-of-type {\n",
       "        vertical-align: middle;\n",
       "    }\n",
       "\n",
       "    .dataframe tbody tr th {\n",
       "        vertical-align: top;\n",
       "    }\n",
       "\n",
       "    .dataframe thead th {\n",
       "        text-align: right;\n",
       "    }\n",
       "</style>\n",
       "<table border=\"1\" class=\"dataframe\">\n",
       "  <thead>\n",
       "    <tr style=\"text-align: right;\">\n",
       "      <th></th>\n",
       "      <th>hypothesis</th>\n",
       "      <th>reach</th>\n",
       "      <th>impact</th>\n",
       "      <th>confidence</th>\n",
       "      <th>effort</th>\n",
       "      <th>ICE</th>\n",
       "      <th>RICE</th>\n",
       "    </tr>\n",
       "  </thead>\n",
       "  <tbody>\n",
       "    <tr>\n",
       "      <th>7</th>\n",
       "      <td>Add a subscription form to all the main pages....</td>\n",
       "      <td>10</td>\n",
       "      <td>7</td>\n",
       "      <td>8</td>\n",
       "      <td>5</td>\n",
       "      <td>11.200000</td>\n",
       "      <td>112.0</td>\n",
       "    </tr>\n",
       "    <tr>\n",
       "      <th>2</th>\n",
       "      <td>Add product recommendation blocks to the store...</td>\n",
       "      <td>8</td>\n",
       "      <td>3</td>\n",
       "      <td>7</td>\n",
       "      <td>3</td>\n",
       "      <td>7.000000</td>\n",
       "      <td>56.0</td>\n",
       "    </tr>\n",
       "    <tr>\n",
       "      <th>0</th>\n",
       "      <td>Add two new channels for attracting traffic. T...</td>\n",
       "      <td>3</td>\n",
       "      <td>10</td>\n",
       "      <td>8</td>\n",
       "      <td>6</td>\n",
       "      <td>13.333333</td>\n",
       "      <td>40.0</td>\n",
       "    </tr>\n",
       "    <tr>\n",
       "      <th>6</th>\n",
       "      <td>Show banners with current offers and sales on ...</td>\n",
       "      <td>5</td>\n",
       "      <td>3</td>\n",
       "      <td>8</td>\n",
       "      <td>3</td>\n",
       "      <td>8.000000</td>\n",
       "      <td>40.0</td>\n",
       "    </tr>\n",
       "    <tr>\n",
       "      <th>8</th>\n",
       "      <td>Launch a promotion that gives users discounts ...</td>\n",
       "      <td>1</td>\n",
       "      <td>9</td>\n",
       "      <td>9</td>\n",
       "      <td>5</td>\n",
       "      <td>16.200000</td>\n",
       "      <td>16.2</td>\n",
       "    </tr>\n",
       "    <tr>\n",
       "      <th>3</th>\n",
       "      <td>Change the category structure. This will incre...</td>\n",
       "      <td>8</td>\n",
       "      <td>3</td>\n",
       "      <td>3</td>\n",
       "      <td>8</td>\n",
       "      <td>1.125000</td>\n",
       "      <td>9.0</td>\n",
       "    </tr>\n",
       "    <tr>\n",
       "      <th>1</th>\n",
       "      <td>Launch your own delivery service. This will sh...</td>\n",
       "      <td>2</td>\n",
       "      <td>5</td>\n",
       "      <td>4</td>\n",
       "      <td>10</td>\n",
       "      <td>2.000000</td>\n",
       "      <td>4.0</td>\n",
       "    </tr>\n",
       "    <tr>\n",
       "      <th>5</th>\n",
       "      <td>Add a customer review page. This will increase...</td>\n",
       "      <td>3</td>\n",
       "      <td>2</td>\n",
       "      <td>2</td>\n",
       "      <td>3</td>\n",
       "      <td>1.333333</td>\n",
       "      <td>4.0</td>\n",
       "    </tr>\n",
       "    <tr>\n",
       "      <th>4</th>\n",
       "      <td>Change the background color on the main page. ...</td>\n",
       "      <td>3</td>\n",
       "      <td>1</td>\n",
       "      <td>1</td>\n",
       "      <td>1</td>\n",
       "      <td>1.000000</td>\n",
       "      <td>3.0</td>\n",
       "    </tr>\n",
       "  </tbody>\n",
       "</table>\n",
       "</div>"
      ],
      "text/plain": [
       "                                          hypothesis  reach  impact  \\\n",
       "7  Add a subscription form to all the main pages....     10       7   \n",
       "2  Add product recommendation blocks to the store...      8       3   \n",
       "0  Add two new channels for attracting traffic. T...      3      10   \n",
       "6  Show banners with current offers and sales on ...      5       3   \n",
       "8  Launch a promotion that gives users discounts ...      1       9   \n",
       "3  Change the category structure. This will incre...      8       3   \n",
       "1  Launch your own delivery service. This will sh...      2       5   \n",
       "5  Add a customer review page. This will increase...      3       2   \n",
       "4  Change the background color on the main page. ...      3       1   \n",
       "\n",
       "   confidence  effort        ICE   RICE  \n",
       "7           8       5  11.200000  112.0  \n",
       "2           7       3   7.000000   56.0  \n",
       "0           8       6  13.333333   40.0  \n",
       "6           8       3   8.000000   40.0  \n",
       "8           9       5  16.200000   16.2  \n",
       "3           3       8   1.125000    9.0  \n",
       "1           4      10   2.000000    4.0  \n",
       "5           2       3   1.333333    4.0  \n",
       "4           1       1   1.000000    3.0  "
      ]
     },
     "execution_count": 117,
     "metadata": {},
     "output_type": "execute_result"
    }
   ],
   "source": [
    "hypotheses.sort_values(by='RICE', ascending=False, inplace=True)\n",
    "hypotheses"
   ]
  },
  {
   "cell_type": "markdown",
   "metadata": {},
   "source": [
    "#Cuando ordenamos por el RICE, nos damos cuenta que la hipotesis que tiene mayor alcance es la 7, seguida de las 2 y 0"
   ]
  },
  {
   "cell_type": "markdown",
   "metadata": {},
   "source": [
    "#Escogeré las primeras 3 hipotesis para realizar el análisis"
   ]
  },
  {
   "cell_type": "markdown",
   "metadata": {},
   "source": [
    "<div class=\"alert alert-block alert-warning\">\n",
    "<b>Comentario del revisor (1ra Iteracion)</b> <a class=“tocSkip”></a>\n",
    "\n",
    "Muy buen trabajo con el cálculo para la priorización con los diferentes frameworks! Te recomendaría presentar en gráfica para que sea más fácil realizar la comparación del cambio entre los dos frameworks\n",
    "</div>"
   ]
  },
  {
   "cell_type": "markdown",
   "metadata": {},
   "source": [
    "## Parte 2. Analisis del Test A/B"
   ]
  },
  {
   "cell_type": "markdown",
   "metadata": {},
   "source": [
    "Vamos a escoger la Hipotesis numero 3, que está en la posición 5, ya que esta hipotesis tiene una diferencia que puede ser impactado en los dos grupo A / B (Si yo cambio la estructura del catalogo, los visitantes van a encontrar los productos mas rápido)"
   ]
  },
  {
   "cell_type": "markdown",
   "metadata": {},
   "source": [
    "Vamos a asumir que el Grupo A=No hay cambio - B= Si hay un cambio de boton de categoria"
   ]
  },
  {
   "cell_type": "code",
   "execution_count": 118,
   "metadata": {},
   "outputs": [
    {
     "data": {
      "text/plain": [
       "'Change the category structure. This will increase conversion since users will find the products they want more quickly'"
      ]
     },
     "execution_count": 118,
     "metadata": {},
     "output_type": "execute_result"
    }
   ],
   "source": [
    "hypotheses.iloc[5,0]"
   ]
  },
  {
   "cell_type": "markdown",
   "metadata": {},
   "source": [
    "### Datasets = Orders"
   ]
  },
  {
   "cell_type": "code",
   "execution_count": 119,
   "metadata": {},
   "outputs": [],
   "source": [
    "#Vamos a analizar el dataframe: orders\n",
    "\n",
    "orders = pd.read_csv('/datasets/orders_us.csv')"
   ]
  },
  {
   "cell_type": "code",
   "execution_count": 120,
   "metadata": {},
   "outputs": [
    {
     "data": {
      "text/html": [
       "<div>\n",
       "<style scoped>\n",
       "    .dataframe tbody tr th:only-of-type {\n",
       "        vertical-align: middle;\n",
       "    }\n",
       "\n",
       "    .dataframe tbody tr th {\n",
       "        vertical-align: top;\n",
       "    }\n",
       "\n",
       "    .dataframe thead th {\n",
       "        text-align: right;\n",
       "    }\n",
       "</style>\n",
       "<table border=\"1\" class=\"dataframe\">\n",
       "  <thead>\n",
       "    <tr style=\"text-align: right;\">\n",
       "      <th></th>\n",
       "      <th>transactionId</th>\n",
       "      <th>visitorId</th>\n",
       "      <th>date</th>\n",
       "      <th>revenue</th>\n",
       "      <th>group</th>\n",
       "    </tr>\n",
       "  </thead>\n",
       "  <tbody>\n",
       "    <tr>\n",
       "      <th>0</th>\n",
       "      <td>3667963787</td>\n",
       "      <td>3312258926</td>\n",
       "      <td>2019-08-15</td>\n",
       "      <td>30.4</td>\n",
       "      <td>B</td>\n",
       "    </tr>\n",
       "    <tr>\n",
       "      <th>1</th>\n",
       "      <td>2804400009</td>\n",
       "      <td>3642806036</td>\n",
       "      <td>2019-08-15</td>\n",
       "      <td>15.2</td>\n",
       "      <td>B</td>\n",
       "    </tr>\n",
       "    <tr>\n",
       "      <th>2</th>\n",
       "      <td>2961555356</td>\n",
       "      <td>4069496402</td>\n",
       "      <td>2019-08-15</td>\n",
       "      <td>10.2</td>\n",
       "      <td>A</td>\n",
       "    </tr>\n",
       "    <tr>\n",
       "      <th>3</th>\n",
       "      <td>3797467345</td>\n",
       "      <td>1196621759</td>\n",
       "      <td>2019-08-15</td>\n",
       "      <td>155.1</td>\n",
       "      <td>B</td>\n",
       "    </tr>\n",
       "    <tr>\n",
       "      <th>4</th>\n",
       "      <td>2282983706</td>\n",
       "      <td>2322279887</td>\n",
       "      <td>2019-08-15</td>\n",
       "      <td>40.5</td>\n",
       "      <td>B</td>\n",
       "    </tr>\n",
       "  </tbody>\n",
       "</table>\n",
       "</div>"
      ],
      "text/plain": [
       "   transactionId   visitorId        date  revenue group\n",
       "0     3667963787  3312258926  2019-08-15     30.4     B\n",
       "1     2804400009  3642806036  2019-08-15     15.2     B\n",
       "2     2961555356  4069496402  2019-08-15     10.2     A\n",
       "3     3797467345  1196621759  2019-08-15    155.1     B\n",
       "4     2282983706  2322279887  2019-08-15     40.5     B"
      ]
     },
     "execution_count": 120,
     "metadata": {},
     "output_type": "execute_result"
    }
   ],
   "source": [
    "orders.head()"
   ]
  },
  {
   "cell_type": "code",
   "execution_count": 121,
   "metadata": {},
   "outputs": [
    {
     "name": "stdout",
     "output_type": "stream",
     "text": [
      "<class 'pandas.core.frame.DataFrame'>\n",
      "RangeIndex: 1197 entries, 0 to 1196\n",
      "Data columns (total 5 columns):\n",
      " #   Column         Non-Null Count  Dtype  \n",
      "---  ------         --------------  -----  \n",
      " 0   transactionId  1197 non-null   int64  \n",
      " 1   visitorId      1197 non-null   int64  \n",
      " 2   date           1197 non-null   object \n",
      " 3   revenue        1197 non-null   float64\n",
      " 4   group          1197 non-null   object \n",
      "dtypes: float64(1), int64(2), object(2)\n",
      "memory usage: 46.9+ KB\n"
     ]
    }
   ],
   "source": [
    "orders.info()"
   ]
  },
  {
   "cell_type": "code",
   "execution_count": 122,
   "metadata": {},
   "outputs": [
    {
     "data": {
      "text/plain": [
       "transactionId    0\n",
       "visitorId        0\n",
       "date             0\n",
       "revenue          0\n",
       "group            0\n",
       "dtype: int64"
      ]
     },
     "execution_count": 122,
     "metadata": {},
     "output_type": "execute_result"
    }
   ],
   "source": [
    "orders.isna().sum()"
   ]
  },
  {
   "cell_type": "code",
   "execution_count": 123,
   "metadata": {},
   "outputs": [
    {
     "data": {
      "text/plain": [
       "0"
      ]
     },
     "execution_count": 123,
     "metadata": {},
     "output_type": "execute_result"
    }
   ],
   "source": [
    "orders.duplicated().sum()"
   ]
  },
  {
   "cell_type": "code",
   "execution_count": 124,
   "metadata": {},
   "outputs": [
    {
     "data": {
      "text/html": [
       "<div>\n",
       "<style scoped>\n",
       "    .dataframe tbody tr th:only-of-type {\n",
       "        vertical-align: middle;\n",
       "    }\n",
       "\n",
       "    .dataframe tbody tr th {\n",
       "        vertical-align: top;\n",
       "    }\n",
       "\n",
       "    .dataframe thead th {\n",
       "        text-align: right;\n",
       "    }\n",
       "</style>\n",
       "<table border=\"1\" class=\"dataframe\">\n",
       "  <thead>\n",
       "    <tr style=\"text-align: right;\">\n",
       "      <th></th>\n",
       "      <th>transactionId</th>\n",
       "      <th>visitorId</th>\n",
       "      <th>date</th>\n",
       "      <th>revenue</th>\n",
       "      <th>group</th>\n",
       "    </tr>\n",
       "  </thead>\n",
       "  <tbody>\n",
       "    <tr>\n",
       "      <th>0</th>\n",
       "      <td>3667963787</td>\n",
       "      <td>3312258926</td>\n",
       "      <td>2019-08-15</td>\n",
       "      <td>30.4</td>\n",
       "      <td>B</td>\n",
       "    </tr>\n",
       "    <tr>\n",
       "      <th>1</th>\n",
       "      <td>2804400009</td>\n",
       "      <td>3642806036</td>\n",
       "      <td>2019-08-15</td>\n",
       "      <td>15.2</td>\n",
       "      <td>B</td>\n",
       "    </tr>\n",
       "    <tr>\n",
       "      <th>2</th>\n",
       "      <td>2961555356</td>\n",
       "      <td>4069496402</td>\n",
       "      <td>2019-08-15</td>\n",
       "      <td>10.2</td>\n",
       "      <td>A</td>\n",
       "    </tr>\n",
       "    <tr>\n",
       "      <th>3</th>\n",
       "      <td>3797467345</td>\n",
       "      <td>1196621759</td>\n",
       "      <td>2019-08-15</td>\n",
       "      <td>155.1</td>\n",
       "      <td>B</td>\n",
       "    </tr>\n",
       "    <tr>\n",
       "      <th>4</th>\n",
       "      <td>2282983706</td>\n",
       "      <td>2322279887</td>\n",
       "      <td>2019-08-15</td>\n",
       "      <td>40.5</td>\n",
       "      <td>B</td>\n",
       "    </tr>\n",
       "    <tr>\n",
       "      <th>...</th>\n",
       "      <td>...</td>\n",
       "      <td>...</td>\n",
       "      <td>...</td>\n",
       "      <td>...</td>\n",
       "      <td>...</td>\n",
       "    </tr>\n",
       "    <tr>\n",
       "      <th>1192</th>\n",
       "      <td>2662137336</td>\n",
       "      <td>3733762160</td>\n",
       "      <td>2019-08-14</td>\n",
       "      <td>100.8</td>\n",
       "      <td>B</td>\n",
       "    </tr>\n",
       "    <tr>\n",
       "      <th>1193</th>\n",
       "      <td>2203539145</td>\n",
       "      <td>370388673</td>\n",
       "      <td>2019-08-14</td>\n",
       "      <td>50.1</td>\n",
       "      <td>A</td>\n",
       "    </tr>\n",
       "    <tr>\n",
       "      <th>1194</th>\n",
       "      <td>1807773912</td>\n",
       "      <td>573423106</td>\n",
       "      <td>2019-08-14</td>\n",
       "      <td>165.3</td>\n",
       "      <td>A</td>\n",
       "    </tr>\n",
       "    <tr>\n",
       "      <th>1195</th>\n",
       "      <td>1947021204</td>\n",
       "      <td>1614305549</td>\n",
       "      <td>2019-08-14</td>\n",
       "      <td>5.5</td>\n",
       "      <td>A</td>\n",
       "    </tr>\n",
       "    <tr>\n",
       "      <th>1196</th>\n",
       "      <td>3936777065</td>\n",
       "      <td>2108080724</td>\n",
       "      <td>2019-08-15</td>\n",
       "      <td>3120.1</td>\n",
       "      <td>B</td>\n",
       "    </tr>\n",
       "  </tbody>\n",
       "</table>\n",
       "<p>1197 rows × 5 columns</p>\n",
       "</div>"
      ],
      "text/plain": [
       "      transactionId   visitorId       date  revenue group\n",
       "0        3667963787  3312258926 2019-08-15     30.4     B\n",
       "1        2804400009  3642806036 2019-08-15     15.2     B\n",
       "2        2961555356  4069496402 2019-08-15     10.2     A\n",
       "3        3797467345  1196621759 2019-08-15    155.1     B\n",
       "4        2282983706  2322279887 2019-08-15     40.5     B\n",
       "...             ...         ...        ...      ...   ...\n",
       "1192     2662137336  3733762160 2019-08-14    100.8     B\n",
       "1193     2203539145   370388673 2019-08-14     50.1     A\n",
       "1194     1807773912   573423106 2019-08-14    165.3     A\n",
       "1195     1947021204  1614305549 2019-08-14      5.5     A\n",
       "1196     3936777065  2108080724 2019-08-15   3120.1     B\n",
       "\n",
       "[1197 rows x 5 columns]"
      ]
     },
     "execution_count": 124,
     "metadata": {},
     "output_type": "execute_result"
    }
   ],
   "source": [
    "# Transformo tipo object a fecha:\n",
    "\n",
    "orders['date'] = pd.to_datetime(orders['date'])\n",
    "orders"
   ]
  },
  {
   "cell_type": "code",
   "execution_count": 125,
   "metadata": {},
   "outputs": [
    {
     "name": "stdout",
     "output_type": "stream",
     "text": [
      "<class 'pandas.core.frame.DataFrame'>\n",
      "RangeIndex: 1197 entries, 0 to 1196\n",
      "Data columns (total 5 columns):\n",
      " #   Column         Non-Null Count  Dtype         \n",
      "---  ------         --------------  -----         \n",
      " 0   transactionId  1197 non-null   int64         \n",
      " 1   visitorId      1197 non-null   int64         \n",
      " 2   date           1197 non-null   datetime64[ns]\n",
      " 3   revenue        1197 non-null   float64       \n",
      " 4   group          1197 non-null   object        \n",
      "dtypes: datetime64[ns](1), float64(1), int64(2), object(1)\n",
      "memory usage: 46.9+ KB\n"
     ]
    }
   ],
   "source": [
    "orders.info()"
   ]
  },
  {
   "cell_type": "markdown",
   "metadata": {},
   "source": [
    "#Vamos a analizar si hay duplicados por visitors es decir si una visitante ingreso a la pagina mas de una vez en los dos grupos)"
   ]
  },
  {
   "cell_type": "code",
   "execution_count": 126,
   "metadata": {},
   "outputs": [
    {
     "data": {
      "text/plain": [
       "108"
      ]
     },
     "execution_count": 126,
     "metadata": {},
     "output_type": "execute_result"
    }
   ],
   "source": [
    "orders.duplicated(subset=['visitorId', 'group']).sum()"
   ]
  },
  {
   "cell_type": "markdown",
   "metadata": {},
   "source": [
    "#Esto quiere decir que hay 108 visitantes que visitaron los dos grupos A y B"
   ]
  },
  {
   "cell_type": "code",
   "execution_count": 127,
   "metadata": {},
   "outputs": [
    {
     "data": {
      "text/plain": [
       "26"
      ]
     },
     "execution_count": 127,
     "metadata": {},
     "output_type": "execute_result"
    }
   ],
   "source": [
    "#Vamos a revisar si un mismo visitor estuvo en un mismo dia en los dos grupos: \n",
    "\n",
    "orders.duplicated(subset=['visitorId', 'group', 'date']).sum()"
   ]
  },
  {
   "cell_type": "markdown",
   "metadata": {},
   "source": [
    "#26 personas visitaron el mismo dia los grupos A y B"
   ]
  },
  {
   "cell_type": "markdown",
   "metadata": {},
   "source": [
    "### Datasets = visits (cantidad de veces que alguien entro a la página)"
   ]
  },
  {
   "cell_type": "code",
   "execution_count": 128,
   "metadata": {},
   "outputs": [
    {
     "data": {
      "text/html": [
       "<div>\n",
       "<style scoped>\n",
       "    .dataframe tbody tr th:only-of-type {\n",
       "        vertical-align: middle;\n",
       "    }\n",
       "\n",
       "    .dataframe tbody tr th {\n",
       "        vertical-align: top;\n",
       "    }\n",
       "\n",
       "    .dataframe thead th {\n",
       "        text-align: right;\n",
       "    }\n",
       "</style>\n",
       "<table border=\"1\" class=\"dataframe\">\n",
       "  <thead>\n",
       "    <tr style=\"text-align: right;\">\n",
       "      <th></th>\n",
       "      <th>date</th>\n",
       "      <th>group</th>\n",
       "      <th>visits</th>\n",
       "    </tr>\n",
       "  </thead>\n",
       "  <tbody>\n",
       "    <tr>\n",
       "      <th>0</th>\n",
       "      <td>2019-08-01</td>\n",
       "      <td>A</td>\n",
       "      <td>719</td>\n",
       "    </tr>\n",
       "    <tr>\n",
       "      <th>1</th>\n",
       "      <td>2019-08-02</td>\n",
       "      <td>A</td>\n",
       "      <td>619</td>\n",
       "    </tr>\n",
       "    <tr>\n",
       "      <th>2</th>\n",
       "      <td>2019-08-03</td>\n",
       "      <td>A</td>\n",
       "      <td>507</td>\n",
       "    </tr>\n",
       "    <tr>\n",
       "      <th>3</th>\n",
       "      <td>2019-08-04</td>\n",
       "      <td>A</td>\n",
       "      <td>717</td>\n",
       "    </tr>\n",
       "    <tr>\n",
       "      <th>4</th>\n",
       "      <td>2019-08-05</td>\n",
       "      <td>A</td>\n",
       "      <td>756</td>\n",
       "    </tr>\n",
       "    <tr>\n",
       "      <th>...</th>\n",
       "      <td>...</td>\n",
       "      <td>...</td>\n",
       "      <td>...</td>\n",
       "    </tr>\n",
       "    <tr>\n",
       "      <th>57</th>\n",
       "      <td>2019-08-27</td>\n",
       "      <td>B</td>\n",
       "      <td>720</td>\n",
       "    </tr>\n",
       "    <tr>\n",
       "      <th>58</th>\n",
       "      <td>2019-08-28</td>\n",
       "      <td>B</td>\n",
       "      <td>654</td>\n",
       "    </tr>\n",
       "    <tr>\n",
       "      <th>59</th>\n",
       "      <td>2019-08-29</td>\n",
       "      <td>B</td>\n",
       "      <td>531</td>\n",
       "    </tr>\n",
       "    <tr>\n",
       "      <th>60</th>\n",
       "      <td>2019-08-30</td>\n",
       "      <td>B</td>\n",
       "      <td>490</td>\n",
       "    </tr>\n",
       "    <tr>\n",
       "      <th>61</th>\n",
       "      <td>2019-08-31</td>\n",
       "      <td>B</td>\n",
       "      <td>718</td>\n",
       "    </tr>\n",
       "  </tbody>\n",
       "</table>\n",
       "<p>62 rows × 3 columns</p>\n",
       "</div>"
      ],
      "text/plain": [
       "          date group  visits\n",
       "0   2019-08-01     A     719\n",
       "1   2019-08-02     A     619\n",
       "2   2019-08-03     A     507\n",
       "3   2019-08-04     A     717\n",
       "4   2019-08-05     A     756\n",
       "..         ...   ...     ...\n",
       "57  2019-08-27     B     720\n",
       "58  2019-08-28     B     654\n",
       "59  2019-08-29     B     531\n",
       "60  2019-08-30     B     490\n",
       "61  2019-08-31     B     718\n",
       "\n",
       "[62 rows x 3 columns]"
      ]
     },
     "execution_count": 128,
     "metadata": {},
     "output_type": "execute_result"
    }
   ],
   "source": [
    "visits"
   ]
  },
  {
   "cell_type": "code",
   "execution_count": 129,
   "metadata": {},
   "outputs": [],
   "source": [
    "visits['date'] = pd.to_datetime(visits['date'])"
   ]
  },
  {
   "cell_type": "code",
   "execution_count": 130,
   "metadata": {},
   "outputs": [
    {
     "name": "stdout",
     "output_type": "stream",
     "text": [
      "<class 'pandas.core.frame.DataFrame'>\n",
      "RangeIndex: 62 entries, 0 to 61\n",
      "Data columns (total 3 columns):\n",
      " #   Column  Non-Null Count  Dtype         \n",
      "---  ------  --------------  -----         \n",
      " 0   date    62 non-null     datetime64[ns]\n",
      " 1   group   62 non-null     object        \n",
      " 2   visits  62 non-null     int64         \n",
      "dtypes: datetime64[ns](1), int64(1), object(1)\n",
      "memory usage: 1.6+ KB\n"
     ]
    }
   ],
   "source": [
    "visits.info()"
   ]
  },
  {
   "cell_type": "code",
   "execution_count": 131,
   "metadata": {},
   "outputs": [
    {
     "data": {
      "text/html": [
       "<div>\n",
       "<style scoped>\n",
       "    .dataframe tbody tr th:only-of-type {\n",
       "        vertical-align: middle;\n",
       "    }\n",
       "\n",
       "    .dataframe tbody tr th {\n",
       "        vertical-align: top;\n",
       "    }\n",
       "\n",
       "    .dataframe thead th {\n",
       "        text-align: right;\n",
       "    }\n",
       "</style>\n",
       "<table border=\"1\" class=\"dataframe\">\n",
       "  <thead>\n",
       "    <tr style=\"text-align: right;\">\n",
       "      <th></th>\n",
       "      <th>date</th>\n",
       "      <th>group</th>\n",
       "      <th>visits</th>\n",
       "    </tr>\n",
       "  </thead>\n",
       "  <tbody>\n",
       "    <tr>\n",
       "      <th>0</th>\n",
       "      <td>2019-08-01</td>\n",
       "      <td>A</td>\n",
       "      <td>719</td>\n",
       "    </tr>\n",
       "    <tr>\n",
       "      <th>1</th>\n",
       "      <td>2019-08-02</td>\n",
       "      <td>A</td>\n",
       "      <td>619</td>\n",
       "    </tr>\n",
       "    <tr>\n",
       "      <th>2</th>\n",
       "      <td>2019-08-03</td>\n",
       "      <td>A</td>\n",
       "      <td>507</td>\n",
       "    </tr>\n",
       "    <tr>\n",
       "      <th>3</th>\n",
       "      <td>2019-08-04</td>\n",
       "      <td>A</td>\n",
       "      <td>717</td>\n",
       "    </tr>\n",
       "    <tr>\n",
       "      <th>4</th>\n",
       "      <td>2019-08-05</td>\n",
       "      <td>A</td>\n",
       "      <td>756</td>\n",
       "    </tr>\n",
       "  </tbody>\n",
       "</table>\n",
       "</div>"
      ],
      "text/plain": [
       "        date group  visits\n",
       "0 2019-08-01     A     719\n",
       "1 2019-08-02     A     619\n",
       "2 2019-08-03     A     507\n",
       "3 2019-08-04     A     717\n",
       "4 2019-08-05     A     756"
      ]
     },
     "execution_count": 131,
     "metadata": {},
     "output_type": "execute_result"
    }
   ],
   "source": [
    "visits.head()"
   ]
  },
  {
   "cell_type": "code",
   "execution_count": 132,
   "metadata": {},
   "outputs": [
    {
     "name": "stdout",
     "output_type": "stream",
     "text": [
      "group\n",
      "A    18736\n",
      "B    18916\n",
      "Name: visits, dtype: int64\n"
     ]
    }
   ],
   "source": [
    "# Sumar las visitas por grupo\n",
    "visitas_por_grupo = visits.groupby('group')['visits'].sum()\n",
    "\n",
    "print(visitas_por_grupo)"
   ]
  },
  {
   "cell_type": "markdown",
   "metadata": {},
   "source": [
    "El grupo B es el que ha tenido mayores visitas en la pagina"
   ]
  },
  {
   "cell_type": "code",
   "execution_count": 133,
   "metadata": {},
   "outputs": [
    {
     "data": {
      "text/html": [
       "<div>\n",
       "<style scoped>\n",
       "    .dataframe tbody tr th:only-of-type {\n",
       "        vertical-align: middle;\n",
       "    }\n",
       "\n",
       "    .dataframe tbody tr th {\n",
       "        vertical-align: top;\n",
       "    }\n",
       "\n",
       "    .dataframe thead th {\n",
       "        text-align: right;\n",
       "    }\n",
       "</style>\n",
       "<table border=\"1\" class=\"dataframe\">\n",
       "  <thead>\n",
       "    <tr style=\"text-align: right;\">\n",
       "      <th></th>\n",
       "      <th>date</th>\n",
       "      <th>group</th>\n",
       "    </tr>\n",
       "  </thead>\n",
       "  <tbody>\n",
       "    <tr>\n",
       "      <th>55</th>\n",
       "      <td>2019-08-01</td>\n",
       "      <td>A</td>\n",
       "    </tr>\n",
       "    <tr>\n",
       "      <th>66</th>\n",
       "      <td>2019-08-01</td>\n",
       "      <td>B</td>\n",
       "    </tr>\n",
       "    <tr>\n",
       "      <th>175</th>\n",
       "      <td>2019-08-02</td>\n",
       "      <td>A</td>\n",
       "    </tr>\n",
       "    <tr>\n",
       "      <th>173</th>\n",
       "      <td>2019-08-02</td>\n",
       "      <td>B</td>\n",
       "    </tr>\n",
       "    <tr>\n",
       "      <th>291</th>\n",
       "      <td>2019-08-03</td>\n",
       "      <td>A</td>\n",
       "    </tr>\n",
       "    <tr>\n",
       "      <th>...</th>\n",
       "      <td>...</td>\n",
       "      <td>...</td>\n",
       "    </tr>\n",
       "    <tr>\n",
       "      <th>497</th>\n",
       "      <td>2019-08-29</td>\n",
       "      <td>A</td>\n",
       "    </tr>\n",
       "    <tr>\n",
       "      <th>690</th>\n",
       "      <td>2019-08-30</td>\n",
       "      <td>B</td>\n",
       "    </tr>\n",
       "    <tr>\n",
       "      <th>730</th>\n",
       "      <td>2019-08-30</td>\n",
       "      <td>A</td>\n",
       "    </tr>\n",
       "    <tr>\n",
       "      <th>930</th>\n",
       "      <td>2019-08-31</td>\n",
       "      <td>B</td>\n",
       "    </tr>\n",
       "    <tr>\n",
       "      <th>958</th>\n",
       "      <td>2019-08-31</td>\n",
       "      <td>A</td>\n",
       "    </tr>\n",
       "  </tbody>\n",
       "</table>\n",
       "<p>62 rows × 2 columns</p>\n",
       "</div>"
      ],
      "text/plain": [
       "          date group\n",
       "55  2019-08-01     A\n",
       "66  2019-08-01     B\n",
       "175 2019-08-02     A\n",
       "173 2019-08-02     B\n",
       "291 2019-08-03     A\n",
       "..         ...   ...\n",
       "497 2019-08-29     A\n",
       "690 2019-08-30     B\n",
       "730 2019-08-30     A\n",
       "930 2019-08-31     B\n",
       "958 2019-08-31     A\n",
       "\n",
       "[62 rows x 2 columns]"
      ]
     },
     "execution_count": 133,
     "metadata": {},
     "output_type": "execute_result"
    }
   ],
   "source": [
    "#Vamos a revisar las fechas de las ordenes, en las que los grupos visitaron las paginas\n",
    "\n",
    "groups_by_dates = orders[['date', 'group']].drop_duplicates().sort_values(by='date')\n",
    "groups_by_dates"
   ]
  },
  {
   "cell_type": "code",
   "execution_count": 134,
   "metadata": {},
   "outputs": [],
   "source": [
    "# Ahora agruparemos los grupos por fecha, para conocer cuantas facturas, visitantes y ventas se realizaron por grupo"
   ]
  },
  {
   "cell_type": "code",
   "execution_count": 135,
   "metadata": {},
   "outputs": [
    {
     "data": {
      "text/plain": [
       "visitorId\n",
       "2654030115    2\n",
       "3891541246    2\n",
       "3941795274    2\n",
       "1404934699    2\n",
       "351125977     2\n",
       "             ..\n",
       "1476256851    1\n",
       "1476741193    1\n",
       "1484903144    1\n",
       "1485964287    1\n",
       "4283872382    1\n",
       "Name: group, Length: 1031, dtype: int64"
      ]
     },
     "execution_count": 135,
     "metadata": {},
     "output_type": "execute_result"
    }
   ],
   "source": [
    "#Vamos a revisar si el mismo usuario estuvo en cada grupo\n",
    "\n",
    "orders.groupby(['visitorId'])['group'].nunique().sort_values(ascending=False)"
   ]
  },
  {
   "cell_type": "markdown",
   "metadata": {},
   "source": [
    "#La tabla anterior significa que hay visitantes que pertenecen a solo un grupo o a los dos"
   ]
  },
  {
   "cell_type": "code",
   "execution_count": 136,
   "metadata": {},
   "outputs": [
    {
     "data": {
      "text/html": [
       "<div>\n",
       "<style scoped>\n",
       "    .dataframe tbody tr th:only-of-type {\n",
       "        vertical-align: middle;\n",
       "    }\n",
       "\n",
       "    .dataframe tbody tr th {\n",
       "        vertical-align: top;\n",
       "    }\n",
       "\n",
       "    .dataframe thead th {\n",
       "        text-align: right;\n",
       "    }\n",
       "</style>\n",
       "<table border=\"1\" class=\"dataframe\">\n",
       "  <thead>\n",
       "    <tr style=\"text-align: right;\">\n",
       "      <th></th>\n",
       "      <th>visitorId</th>\n",
       "      <th>date</th>\n",
       "      <th>group</th>\n",
       "    </tr>\n",
       "  </thead>\n",
       "  <tbody>\n",
       "    <tr>\n",
       "      <th>0</th>\n",
       "      <td>2587333274</td>\n",
       "      <td>2019-08-08</td>\n",
       "      <td>2</td>\n",
       "    </tr>\n",
       "    <tr>\n",
       "      <th>1</th>\n",
       "      <td>477780734</td>\n",
       "      <td>2019-08-30</td>\n",
       "      <td>2</td>\n",
       "    </tr>\n",
       "    <tr>\n",
       "      <th>2</th>\n",
       "      <td>2579882178</td>\n",
       "      <td>2019-08-18</td>\n",
       "      <td>2</td>\n",
       "    </tr>\n",
       "    <tr>\n",
       "      <th>3</th>\n",
       "      <td>2038680547</td>\n",
       "      <td>2019-08-04</td>\n",
       "      <td>2</td>\n",
       "    </tr>\n",
       "    <tr>\n",
       "      <th>4</th>\n",
       "      <td>1316129916</td>\n",
       "      <td>2019-08-27</td>\n",
       "      <td>2</td>\n",
       "    </tr>\n",
       "    <tr>\n",
       "      <th>5</th>\n",
       "      <td>232979603</td>\n",
       "      <td>2019-08-31</td>\n",
       "      <td>2</td>\n",
       "    </tr>\n",
       "    <tr>\n",
       "      <th>6</th>\n",
       "      <td>3891541246</td>\n",
       "      <td>2019-08-04</td>\n",
       "      <td>2</td>\n",
       "    </tr>\n",
       "    <tr>\n",
       "      <th>7</th>\n",
       "      <td>1801183820</td>\n",
       "      <td>2019-08-05</td>\n",
       "      <td>2</td>\n",
       "    </tr>\n",
       "    <tr>\n",
       "      <th>8</th>\n",
       "      <td>3062433592</td>\n",
       "      <td>2019-08-12</td>\n",
       "      <td>2</td>\n",
       "    </tr>\n",
       "    <tr>\n",
       "      <th>9</th>\n",
       "      <td>1230306981</td>\n",
       "      <td>2019-08-09</td>\n",
       "      <td>2</td>\n",
       "    </tr>\n",
       "    <tr>\n",
       "      <th>10</th>\n",
       "      <td>237748145</td>\n",
       "      <td>2019-08-15</td>\n",
       "      <td>2</td>\n",
       "    </tr>\n",
       "    <tr>\n",
       "      <th>11</th>\n",
       "      <td>3951559397</td>\n",
       "      <td>2019-08-29</td>\n",
       "      <td>2</td>\n",
       "    </tr>\n",
       "    <tr>\n",
       "      <th>12</th>\n",
       "      <td>2949041841</td>\n",
       "      <td>2019-08-14</td>\n",
       "      <td>2</td>\n",
       "    </tr>\n",
       "    <tr>\n",
       "      <th>13</th>\n",
       "      <td>3963646447</td>\n",
       "      <td>2019-08-14</td>\n",
       "      <td>2</td>\n",
       "    </tr>\n",
       "    <tr>\n",
       "      <th>14</th>\n",
       "      <td>2378935119</td>\n",
       "      <td>2019-08-10</td>\n",
       "      <td>2</td>\n",
       "    </tr>\n",
       "    <tr>\n",
       "      <th>15</th>\n",
       "      <td>4266935830</td>\n",
       "      <td>2019-08-29</td>\n",
       "      <td>2</td>\n",
       "    </tr>\n",
       "    <tr>\n",
       "      <th>16</th>\n",
       "      <td>2686716486</td>\n",
       "      <td>2019-08-23</td>\n",
       "      <td>2</td>\n",
       "    </tr>\n",
       "    <tr>\n",
       "      <th>17</th>\n",
       "      <td>3202540741</td>\n",
       "      <td>2019-08-24</td>\n",
       "      <td>2</td>\n",
       "    </tr>\n",
       "    <tr>\n",
       "      <th>18</th>\n",
       "      <td>1614305549</td>\n",
       "      <td>2019-08-29</td>\n",
       "      <td>2</td>\n",
       "    </tr>\n",
       "    <tr>\n",
       "      <th>19</th>\n",
       "      <td>3717692402</td>\n",
       "      <td>2019-08-21</td>\n",
       "      <td>2</td>\n",
       "    </tr>\n",
       "    <tr>\n",
       "      <th>20</th>\n",
       "      <td>2458001652</td>\n",
       "      <td>2019-08-06</td>\n",
       "      <td>2</td>\n",
       "    </tr>\n",
       "    <tr>\n",
       "      <th>21</th>\n",
       "      <td>4256040402</td>\n",
       "      <td>2019-08-31</td>\n",
       "      <td>2</td>\n",
       "    </tr>\n",
       "    <tr>\n",
       "      <th>22</th>\n",
       "      <td>3766097110</td>\n",
       "      <td>2019-08-30</td>\n",
       "      <td>2</td>\n",
       "    </tr>\n",
       "  </tbody>\n",
       "</table>\n",
       "</div>"
      ],
      "text/plain": [
       "     visitorId       date  group\n",
       "0   2587333274 2019-08-08      2\n",
       "1    477780734 2019-08-30      2\n",
       "2   2579882178 2019-08-18      2\n",
       "3   2038680547 2019-08-04      2\n",
       "4   1316129916 2019-08-27      2\n",
       "5    232979603 2019-08-31      2\n",
       "6   3891541246 2019-08-04      2\n",
       "7   1801183820 2019-08-05      2\n",
       "8   3062433592 2019-08-12      2\n",
       "9   1230306981 2019-08-09      2\n",
       "10   237748145 2019-08-15      2\n",
       "11  3951559397 2019-08-29      2\n",
       "12  2949041841 2019-08-14      2\n",
       "13  3963646447 2019-08-14      2\n",
       "14  2378935119 2019-08-10      2\n",
       "15  4266935830 2019-08-29      2\n",
       "16  2686716486 2019-08-23      2\n",
       "17  3202540741 2019-08-24      2\n",
       "18  1614305549 2019-08-29      2\n",
       "19  3717692402 2019-08-21      2\n",
       "20  2458001652 2019-08-06      2\n",
       "21  4256040402 2019-08-31      2\n",
       "22  3766097110 2019-08-30      2"
      ]
     },
     "execution_count": 136,
     "metadata": {},
     "output_type": "execute_result"
    }
   ],
   "source": [
    "#Ahora vamos a investigar si los visitantes entraron el mismo día a los dos grupos\n",
    "\n",
    "visitors_with_two_groups =orders.groupby(['visitorId', 'date'])['group'].nunique().sort_values(ascending=False).reset_index().query('group>1')\n",
    "visitors_with_two_groups"
   ]
  },
  {
   "cell_type": "markdown",
   "metadata": {},
   "source": [
    "#Hay 22 usuarios que entraron el mismo dia a los dos grupos en la pagina web, por lo cual se toma la decision de eliminarlos ya que nos dañan el analisis"
   ]
  },
  {
   "cell_type": "code",
   "execution_count": 137,
   "metadata": {},
   "outputs": [
    {
     "data": {
      "text/plain": [
       "0     2587333274\n",
       "1      477780734\n",
       "2     2579882178\n",
       "3     2038680547\n",
       "4     1316129916\n",
       "5      232979603\n",
       "6     3891541246\n",
       "7     1801183820\n",
       "8     3062433592\n",
       "9     1230306981\n",
       "10     237748145\n",
       "11    3951559397\n",
       "12    2949041841\n",
       "13    3963646447\n",
       "14    2378935119\n",
       "15    4266935830\n",
       "16    2686716486\n",
       "17    3202540741\n",
       "18    1614305549\n",
       "19    3717692402\n",
       "20    2458001652\n",
       "21    4256040402\n",
       "22    3766097110\n",
       "Name: visitorId, dtype: int64"
      ]
     },
     "execution_count": 137,
     "metadata": {},
     "output_type": "execute_result"
    }
   ],
   "source": [
    "visitors_with_two_groups['visitorId']"
   ]
  },
  {
   "cell_type": "markdown",
   "metadata": {},
   "source": [
    "<div class=\"alert alert-block alert-warning\">\n",
    "<b>Comentario del revisor (1ra Iteracion)</b> <a class=“tocSkip”></a>\n",
    "\n",
    "Para un mejor orden todo este proceso de exploración te recomendaría realizarlo antes de pasar a la parte del cálculo con los frameworks\n",
    "</div>"
   ]
  },
  {
   "cell_type": "markdown",
   "metadata": {},
   "source": [
    "## Analiza el test A/B:\n"
   ]
  },
  {
   "cell_type": "markdown",
   "metadata": {},
   "source": [
    "### Ingreso Acumulado por grupo"
   ]
  },
  {
   "cell_type": "code",
   "execution_count": 138,
   "metadata": {},
   "outputs": [],
   "source": [
    "# matriz con valores unicos\n",
    "\n",
    "dates_groups = orders[['date', 'group']].drop_duplicates()"
   ]
  },
  {
   "cell_type": "code",
   "execution_count": 139,
   "metadata": {},
   "outputs": [],
   "source": [
    "# aplicar metodos a cada grupo, ordenar los resultados por columnas date y group \n",
    "\n",
    "orders_agg = dates_groups.apply(\n",
    "    \n",
    "        lambda x: orders[\n",
    "        np.logical_and(orders['date'] <= x['date'], \n",
    "                       orders['group']== x['group'])\n",
    "    ].agg({\n",
    "        'date':'max',\n",
    "        'group':'max',\n",
    "        'transactionId':pd.Series.nunique,\n",
    "        'visitorId':pd.Series.nunique,\n",
    "        'revenue':'sum'\n",
    "    }),\n",
    "    axis=1\n",
    ").sort_values(by=['date','group'])"
   ]
  },
  {
   "cell_type": "code",
   "execution_count": 140,
   "metadata": {},
   "outputs": [
    {
     "data": {
      "text/html": [
       "<div>\n",
       "<style scoped>\n",
       "    .dataframe tbody tr th:only-of-type {\n",
       "        vertical-align: middle;\n",
       "    }\n",
       "\n",
       "    .dataframe tbody tr th {\n",
       "        vertical-align: top;\n",
       "    }\n",
       "\n",
       "    .dataframe thead th {\n",
       "        text-align: right;\n",
       "    }\n",
       "</style>\n",
       "<table border=\"1\" class=\"dataframe\">\n",
       "  <thead>\n",
       "    <tr style=\"text-align: right;\">\n",
       "      <th></th>\n",
       "      <th>date</th>\n",
       "      <th>group</th>\n",
       "      <th>transactionId</th>\n",
       "      <th>visitorId</th>\n",
       "      <th>revenue</th>\n",
       "    </tr>\n",
       "  </thead>\n",
       "  <tbody>\n",
       "    <tr>\n",
       "      <th>55</th>\n",
       "      <td>2019-08-01</td>\n",
       "      <td>A</td>\n",
       "      <td>24</td>\n",
       "      <td>20</td>\n",
       "      <td>2356.8</td>\n",
       "    </tr>\n",
       "    <tr>\n",
       "      <th>66</th>\n",
       "      <td>2019-08-01</td>\n",
       "      <td>B</td>\n",
       "      <td>21</td>\n",
       "      <td>20</td>\n",
       "      <td>1620.0</td>\n",
       "    </tr>\n",
       "    <tr>\n",
       "      <th>175</th>\n",
       "      <td>2019-08-02</td>\n",
       "      <td>A</td>\n",
       "      <td>44</td>\n",
       "      <td>38</td>\n",
       "      <td>3860.3</td>\n",
       "    </tr>\n",
       "    <tr>\n",
       "      <th>173</th>\n",
       "      <td>2019-08-02</td>\n",
       "      <td>B</td>\n",
       "      <td>45</td>\n",
       "      <td>43</td>\n",
       "      <td>4243.8</td>\n",
       "    </tr>\n",
       "    <tr>\n",
       "      <th>291</th>\n",
       "      <td>2019-08-03</td>\n",
       "      <td>A</td>\n",
       "      <td>68</td>\n",
       "      <td>62</td>\n",
       "      <td>5675.5</td>\n",
       "    </tr>\n",
       "    <tr>\n",
       "      <th>...</th>\n",
       "      <td>...</td>\n",
       "      <td>...</td>\n",
       "      <td>...</td>\n",
       "      <td>...</td>\n",
       "      <td>...</td>\n",
       "    </tr>\n",
       "    <tr>\n",
       "      <th>496</th>\n",
       "      <td>2019-08-29</td>\n",
       "      <td>B</td>\n",
       "      <td>596</td>\n",
       "      <td>544</td>\n",
       "      <td>87343.0</td>\n",
       "    </tr>\n",
       "    <tr>\n",
       "      <th>730</th>\n",
       "      <td>2019-08-30</td>\n",
       "      <td>A</td>\n",
       "      <td>545</td>\n",
       "      <td>493</td>\n",
       "      <td>63563.5</td>\n",
       "    </tr>\n",
       "    <tr>\n",
       "      <th>690</th>\n",
       "      <td>2019-08-30</td>\n",
       "      <td>B</td>\n",
       "      <td>620</td>\n",
       "      <td>567</td>\n",
       "      <td>90736.3</td>\n",
       "    </tr>\n",
       "    <tr>\n",
       "      <th>958</th>\n",
       "      <td>2019-08-31</td>\n",
       "      <td>A</td>\n",
       "      <td>557</td>\n",
       "      <td>503</td>\n",
       "      <td>64554.9</td>\n",
       "    </tr>\n",
       "    <tr>\n",
       "      <th>930</th>\n",
       "      <td>2019-08-31</td>\n",
       "      <td>B</td>\n",
       "      <td>640</td>\n",
       "      <td>586</td>\n",
       "      <td>92840.6</td>\n",
       "    </tr>\n",
       "  </tbody>\n",
       "</table>\n",
       "<p>62 rows × 5 columns</p>\n",
       "</div>"
      ],
      "text/plain": [
       "          date group  transactionId  visitorId  revenue\n",
       "55  2019-08-01     A             24         20   2356.8\n",
       "66  2019-08-01     B             21         20   1620.0\n",
       "175 2019-08-02     A             44         38   3860.3\n",
       "173 2019-08-02     B             45         43   4243.8\n",
       "291 2019-08-03     A             68         62   5675.5\n",
       "..         ...   ...            ...        ...      ...\n",
       "496 2019-08-29     B            596        544  87343.0\n",
       "730 2019-08-30     A            545        493  63563.5\n",
       "690 2019-08-30     B            620        567  90736.3\n",
       "958 2019-08-31     A            557        503  64554.9\n",
       "930 2019-08-31     B            640        586  92840.6\n",
       "\n",
       "[62 rows x 5 columns]"
      ]
     },
     "execution_count": 140,
     "metadata": {},
     "output_type": "execute_result"
    }
   ],
   "source": [
    "orders_agg"
   ]
  },
  {
   "cell_type": "code",
   "execution_count": 141,
   "metadata": {},
   "outputs": [],
   "source": [
    "# visitantes que ingresaron a la pagina por grupo\n",
    "\n",
    "visits_agg = dates_groups.apply(\n",
    "    lambda x: visits[\n",
    "        np.logical_and(visits['date'] <= x['date'], visits['group']== x['group'])\n",
    "    ].agg({\n",
    "        'date':'max',\n",
    "        'group':'max',\n",
    "        'visits':'sum'\n",
    "    }),\n",
    "    axis=1\n",
    ").sort_values(by=['date','group'])"
   ]
  },
  {
   "cell_type": "code",
   "execution_count": 142,
   "metadata": {},
   "outputs": [
    {
     "data": {
      "text/html": [
       "<div>\n",
       "<style scoped>\n",
       "    .dataframe tbody tr th:only-of-type {\n",
       "        vertical-align: middle;\n",
       "    }\n",
       "\n",
       "    .dataframe tbody tr th {\n",
       "        vertical-align: top;\n",
       "    }\n",
       "\n",
       "    .dataframe thead th {\n",
       "        text-align: right;\n",
       "    }\n",
       "</style>\n",
       "<table border=\"1\" class=\"dataframe\">\n",
       "  <thead>\n",
       "    <tr style=\"text-align: right;\">\n",
       "      <th></th>\n",
       "      <th>date</th>\n",
       "      <th>group</th>\n",
       "      <th>visits</th>\n",
       "    </tr>\n",
       "  </thead>\n",
       "  <tbody>\n",
       "    <tr>\n",
       "      <th>55</th>\n",
       "      <td>2019-08-01</td>\n",
       "      <td>A</td>\n",
       "      <td>719</td>\n",
       "    </tr>\n",
       "    <tr>\n",
       "      <th>66</th>\n",
       "      <td>2019-08-01</td>\n",
       "      <td>B</td>\n",
       "      <td>713</td>\n",
       "    </tr>\n",
       "    <tr>\n",
       "      <th>175</th>\n",
       "      <td>2019-08-02</td>\n",
       "      <td>A</td>\n",
       "      <td>1338</td>\n",
       "    </tr>\n",
       "    <tr>\n",
       "      <th>173</th>\n",
       "      <td>2019-08-02</td>\n",
       "      <td>B</td>\n",
       "      <td>1294</td>\n",
       "    </tr>\n",
       "    <tr>\n",
       "      <th>291</th>\n",
       "      <td>2019-08-03</td>\n",
       "      <td>A</td>\n",
       "      <td>1845</td>\n",
       "    </tr>\n",
       "    <tr>\n",
       "      <th>...</th>\n",
       "      <td>...</td>\n",
       "      <td>...</td>\n",
       "      <td>...</td>\n",
       "    </tr>\n",
       "    <tr>\n",
       "      <th>496</th>\n",
       "      <td>2019-08-29</td>\n",
       "      <td>B</td>\n",
       "      <td>17708</td>\n",
       "    </tr>\n",
       "    <tr>\n",
       "      <th>730</th>\n",
       "      <td>2019-08-30</td>\n",
       "      <td>A</td>\n",
       "      <td>18037</td>\n",
       "    </tr>\n",
       "    <tr>\n",
       "      <th>690</th>\n",
       "      <td>2019-08-30</td>\n",
       "      <td>B</td>\n",
       "      <td>18198</td>\n",
       "    </tr>\n",
       "    <tr>\n",
       "      <th>958</th>\n",
       "      <td>2019-08-31</td>\n",
       "      <td>A</td>\n",
       "      <td>18736</td>\n",
       "    </tr>\n",
       "    <tr>\n",
       "      <th>930</th>\n",
       "      <td>2019-08-31</td>\n",
       "      <td>B</td>\n",
       "      <td>18916</td>\n",
       "    </tr>\n",
       "  </tbody>\n",
       "</table>\n",
       "<p>62 rows × 3 columns</p>\n",
       "</div>"
      ],
      "text/plain": [
       "          date group  visits\n",
       "55  2019-08-01     A     719\n",
       "66  2019-08-01     B     713\n",
       "175 2019-08-02     A    1338\n",
       "173 2019-08-02     B    1294\n",
       "291 2019-08-03     A    1845\n",
       "..         ...   ...     ...\n",
       "496 2019-08-29     B   17708\n",
       "730 2019-08-30     A   18037\n",
       "690 2019-08-30     B   18198\n",
       "958 2019-08-31     A   18736\n",
       "930 2019-08-31     B   18916\n",
       "\n",
       "[62 rows x 3 columns]"
      ]
     },
     "execution_count": 142,
     "metadata": {},
     "output_type": "execute_result"
    }
   ],
   "source": [
    "visits_agg"
   ]
  },
  {
   "cell_type": "code",
   "execution_count": 143,
   "metadata": {},
   "outputs": [],
   "source": [
    "#Realizaremos una columna de hechos:Fusionando las dos tablas anteriores:\n",
    "\n",
    "fct_experiment = orders_agg.merge(visits_agg, on=['date', 'group'], how='outer')"
   ]
  },
  {
   "cell_type": "code",
   "execution_count": 144,
   "metadata": {},
   "outputs": [
    {
     "data": {
      "text/html": [
       "<div>\n",
       "<style scoped>\n",
       "    .dataframe tbody tr th:only-of-type {\n",
       "        vertical-align: middle;\n",
       "    }\n",
       "\n",
       "    .dataframe tbody tr th {\n",
       "        vertical-align: top;\n",
       "    }\n",
       "\n",
       "    .dataframe thead th {\n",
       "        text-align: right;\n",
       "    }\n",
       "</style>\n",
       "<table border=\"1\" class=\"dataframe\">\n",
       "  <thead>\n",
       "    <tr style=\"text-align: right;\">\n",
       "      <th></th>\n",
       "      <th>date</th>\n",
       "      <th>group</th>\n",
       "      <th>transactionId</th>\n",
       "      <th>visitorId</th>\n",
       "      <th>revenue</th>\n",
       "      <th>visits</th>\n",
       "    </tr>\n",
       "  </thead>\n",
       "  <tbody>\n",
       "    <tr>\n",
       "      <th>0</th>\n",
       "      <td>2019-08-01</td>\n",
       "      <td>A</td>\n",
       "      <td>24</td>\n",
       "      <td>20</td>\n",
       "      <td>2356.8</td>\n",
       "      <td>719</td>\n",
       "    </tr>\n",
       "    <tr>\n",
       "      <th>1</th>\n",
       "      <td>2019-08-01</td>\n",
       "      <td>B</td>\n",
       "      <td>21</td>\n",
       "      <td>20</td>\n",
       "      <td>1620.0</td>\n",
       "      <td>713</td>\n",
       "    </tr>\n",
       "    <tr>\n",
       "      <th>2</th>\n",
       "      <td>2019-08-02</td>\n",
       "      <td>A</td>\n",
       "      <td>44</td>\n",
       "      <td>38</td>\n",
       "      <td>3860.3</td>\n",
       "      <td>1338</td>\n",
       "    </tr>\n",
       "    <tr>\n",
       "      <th>3</th>\n",
       "      <td>2019-08-02</td>\n",
       "      <td>B</td>\n",
       "      <td>45</td>\n",
       "      <td>43</td>\n",
       "      <td>4243.8</td>\n",
       "      <td>1294</td>\n",
       "    </tr>\n",
       "    <tr>\n",
       "      <th>4</th>\n",
       "      <td>2019-08-03</td>\n",
       "      <td>A</td>\n",
       "      <td>68</td>\n",
       "      <td>62</td>\n",
       "      <td>5675.5</td>\n",
       "      <td>1845</td>\n",
       "    </tr>\n",
       "    <tr>\n",
       "      <th>...</th>\n",
       "      <td>...</td>\n",
       "      <td>...</td>\n",
       "      <td>...</td>\n",
       "      <td>...</td>\n",
       "      <td>...</td>\n",
       "      <td>...</td>\n",
       "    </tr>\n",
       "    <tr>\n",
       "      <th>57</th>\n",
       "      <td>2019-08-29</td>\n",
       "      <td>B</td>\n",
       "      <td>596</td>\n",
       "      <td>544</td>\n",
       "      <td>87343.0</td>\n",
       "      <td>17708</td>\n",
       "    </tr>\n",
       "    <tr>\n",
       "      <th>58</th>\n",
       "      <td>2019-08-30</td>\n",
       "      <td>A</td>\n",
       "      <td>545</td>\n",
       "      <td>493</td>\n",
       "      <td>63563.5</td>\n",
       "      <td>18037</td>\n",
       "    </tr>\n",
       "    <tr>\n",
       "      <th>59</th>\n",
       "      <td>2019-08-30</td>\n",
       "      <td>B</td>\n",
       "      <td>620</td>\n",
       "      <td>567</td>\n",
       "      <td>90736.3</td>\n",
       "      <td>18198</td>\n",
       "    </tr>\n",
       "    <tr>\n",
       "      <th>60</th>\n",
       "      <td>2019-08-31</td>\n",
       "      <td>A</td>\n",
       "      <td>557</td>\n",
       "      <td>503</td>\n",
       "      <td>64554.9</td>\n",
       "      <td>18736</td>\n",
       "    </tr>\n",
       "    <tr>\n",
       "      <th>61</th>\n",
       "      <td>2019-08-31</td>\n",
       "      <td>B</td>\n",
       "      <td>640</td>\n",
       "      <td>586</td>\n",
       "      <td>92840.6</td>\n",
       "      <td>18916</td>\n",
       "    </tr>\n",
       "  </tbody>\n",
       "</table>\n",
       "<p>62 rows × 6 columns</p>\n",
       "</div>"
      ],
      "text/plain": [
       "         date group  transactionId  visitorId  revenue  visits\n",
       "0  2019-08-01     A             24         20   2356.8     719\n",
       "1  2019-08-01     B             21         20   1620.0     713\n",
       "2  2019-08-02     A             44         38   3860.3    1338\n",
       "3  2019-08-02     B             45         43   4243.8    1294\n",
       "4  2019-08-03     A             68         62   5675.5    1845\n",
       "..        ...   ...            ...        ...      ...     ...\n",
       "57 2019-08-29     B            596        544  87343.0   17708\n",
       "58 2019-08-30     A            545        493  63563.5   18037\n",
       "59 2019-08-30     B            620        567  90736.3   18198\n",
       "60 2019-08-31     A            557        503  64554.9   18736\n",
       "61 2019-08-31     B            640        586  92840.6   18916\n",
       "\n",
       "[62 rows x 6 columns]"
      ]
     },
     "execution_count": 144,
     "metadata": {},
     "output_type": "execute_result"
    }
   ],
   "source": [
    "fct_experiment "
   ]
  },
  {
   "cell_type": "code",
   "execution_count": 145,
   "metadata": {},
   "outputs": [
    {
     "data": {
      "text/html": [
       "<div>\n",
       "<style scoped>\n",
       "    .dataframe tbody tr th:only-of-type {\n",
       "        vertical-align: middle;\n",
       "    }\n",
       "\n",
       "    .dataframe tbody tr th {\n",
       "        vertical-align: top;\n",
       "    }\n",
       "\n",
       "    .dataframe thead th {\n",
       "        text-align: right;\n",
       "    }\n",
       "</style>\n",
       "<table border=\"1\" class=\"dataframe\">\n",
       "  <thead>\n",
       "    <tr style=\"text-align: right;\">\n",
       "      <th></th>\n",
       "      <th>date</th>\n",
       "      <th>group</th>\n",
       "      <th>orders</th>\n",
       "      <th>buyers</th>\n",
       "      <th>total_sales</th>\n",
       "      <th>number_visits</th>\n",
       "    </tr>\n",
       "  </thead>\n",
       "  <tbody>\n",
       "    <tr>\n",
       "      <th>0</th>\n",
       "      <td>2019-08-01</td>\n",
       "      <td>A</td>\n",
       "      <td>24</td>\n",
       "      <td>20</td>\n",
       "      <td>2356.8</td>\n",
       "      <td>719</td>\n",
       "    </tr>\n",
       "    <tr>\n",
       "      <th>1</th>\n",
       "      <td>2019-08-01</td>\n",
       "      <td>B</td>\n",
       "      <td>21</td>\n",
       "      <td>20</td>\n",
       "      <td>1620.0</td>\n",
       "      <td>713</td>\n",
       "    </tr>\n",
       "    <tr>\n",
       "      <th>2</th>\n",
       "      <td>2019-08-02</td>\n",
       "      <td>A</td>\n",
       "      <td>44</td>\n",
       "      <td>38</td>\n",
       "      <td>3860.3</td>\n",
       "      <td>1338</td>\n",
       "    </tr>\n",
       "    <tr>\n",
       "      <th>3</th>\n",
       "      <td>2019-08-02</td>\n",
       "      <td>B</td>\n",
       "      <td>45</td>\n",
       "      <td>43</td>\n",
       "      <td>4243.8</td>\n",
       "      <td>1294</td>\n",
       "    </tr>\n",
       "    <tr>\n",
       "      <th>4</th>\n",
       "      <td>2019-08-03</td>\n",
       "      <td>A</td>\n",
       "      <td>68</td>\n",
       "      <td>62</td>\n",
       "      <td>5675.5</td>\n",
       "      <td>1845</td>\n",
       "    </tr>\n",
       "    <tr>\n",
       "      <th>...</th>\n",
       "      <td>...</td>\n",
       "      <td>...</td>\n",
       "      <td>...</td>\n",
       "      <td>...</td>\n",
       "      <td>...</td>\n",
       "      <td>...</td>\n",
       "    </tr>\n",
       "    <tr>\n",
       "      <th>57</th>\n",
       "      <td>2019-08-29</td>\n",
       "      <td>B</td>\n",
       "      <td>596</td>\n",
       "      <td>544</td>\n",
       "      <td>87343.0</td>\n",
       "      <td>17708</td>\n",
       "    </tr>\n",
       "    <tr>\n",
       "      <th>58</th>\n",
       "      <td>2019-08-30</td>\n",
       "      <td>A</td>\n",
       "      <td>545</td>\n",
       "      <td>493</td>\n",
       "      <td>63563.5</td>\n",
       "      <td>18037</td>\n",
       "    </tr>\n",
       "    <tr>\n",
       "      <th>59</th>\n",
       "      <td>2019-08-30</td>\n",
       "      <td>B</td>\n",
       "      <td>620</td>\n",
       "      <td>567</td>\n",
       "      <td>90736.3</td>\n",
       "      <td>18198</td>\n",
       "    </tr>\n",
       "    <tr>\n",
       "      <th>60</th>\n",
       "      <td>2019-08-31</td>\n",
       "      <td>A</td>\n",
       "      <td>557</td>\n",
       "      <td>503</td>\n",
       "      <td>64554.9</td>\n",
       "      <td>18736</td>\n",
       "    </tr>\n",
       "    <tr>\n",
       "      <th>61</th>\n",
       "      <td>2019-08-31</td>\n",
       "      <td>B</td>\n",
       "      <td>640</td>\n",
       "      <td>586</td>\n",
       "      <td>92840.6</td>\n",
       "      <td>18916</td>\n",
       "    </tr>\n",
       "  </tbody>\n",
       "</table>\n",
       "<p>62 rows × 6 columns</p>\n",
       "</div>"
      ],
      "text/plain": [
       "         date group  orders  buyers  total_sales  number_visits\n",
       "0  2019-08-01     A      24      20       2356.8            719\n",
       "1  2019-08-01     B      21      20       1620.0            713\n",
       "2  2019-08-02     A      44      38       3860.3           1338\n",
       "3  2019-08-02     B      45      43       4243.8           1294\n",
       "4  2019-08-03     A      68      62       5675.5           1845\n",
       "..        ...   ...     ...     ...          ...            ...\n",
       "57 2019-08-29     B     596     544      87343.0          17708\n",
       "58 2019-08-30     A     545     493      63563.5          18037\n",
       "59 2019-08-30     B     620     567      90736.3          18198\n",
       "60 2019-08-31     A     557     503      64554.9          18736\n",
       "61 2019-08-31     B     640     586      92840.6          18916\n",
       "\n",
       "[62 rows x 6 columns]"
      ]
     },
     "execution_count": 145,
     "metadata": {},
     "output_type": "execute_result"
    }
   ],
   "source": [
    "#Se modifica el nombre de las columnas:\n",
    "\n",
    "fct_experiment.columns = ['date', 'group', 'orders', 'buyers', 'total_sales', 'number_visits']\n",
    "fct_experiment"
   ]
  },
  {
   "cell_type": "code",
   "execution_count": 146,
   "metadata": {},
   "outputs": [
    {
     "data": {
      "text/html": [
       "<div>\n",
       "<style scoped>\n",
       "    .dataframe tbody tr th:only-of-type {\n",
       "        vertical-align: middle;\n",
       "    }\n",
       "\n",
       "    .dataframe tbody tr th {\n",
       "        vertical-align: top;\n",
       "    }\n",
       "\n",
       "    .dataframe thead th {\n",
       "        text-align: right;\n",
       "    }\n",
       "</style>\n",
       "<table border=\"1\" class=\"dataframe\">\n",
       "  <thead>\n",
       "    <tr style=\"text-align: right;\">\n",
       "      <th></th>\n",
       "      <th>date</th>\n",
       "      <th>total_sales</th>\n",
       "      <th>orders</th>\n",
       "    </tr>\n",
       "  </thead>\n",
       "  <tbody>\n",
       "    <tr>\n",
       "      <th>0</th>\n",
       "      <td>2019-08-01</td>\n",
       "      <td>2356.8</td>\n",
       "      <td>24</td>\n",
       "    </tr>\n",
       "    <tr>\n",
       "      <th>2</th>\n",
       "      <td>2019-08-02</td>\n",
       "      <td>3860.3</td>\n",
       "      <td>44</td>\n",
       "    </tr>\n",
       "    <tr>\n",
       "      <th>4</th>\n",
       "      <td>2019-08-03</td>\n",
       "      <td>5675.5</td>\n",
       "      <td>68</td>\n",
       "    </tr>\n",
       "    <tr>\n",
       "      <th>6</th>\n",
       "      <td>2019-08-04</td>\n",
       "      <td>6822.1</td>\n",
       "      <td>84</td>\n",
       "    </tr>\n",
       "    <tr>\n",
       "      <th>8</th>\n",
       "      <td>2019-08-05</td>\n",
       "      <td>8810.2</td>\n",
       "      <td>109</td>\n",
       "    </tr>\n",
       "    <tr>\n",
       "      <th>10</th>\n",
       "      <td>2019-08-06</td>\n",
       "      <td>9600.0</td>\n",
       "      <td>127</td>\n",
       "    </tr>\n",
       "    <tr>\n",
       "      <th>12</th>\n",
       "      <td>2019-08-07</td>\n",
       "      <td>11842.9</td>\n",
       "      <td>145</td>\n",
       "    </tr>\n",
       "    <tr>\n",
       "      <th>14</th>\n",
       "      <td>2019-08-08</td>\n",
       "      <td>13373.3</td>\n",
       "      <td>161</td>\n",
       "    </tr>\n",
       "    <tr>\n",
       "      <th>16</th>\n",
       "      <td>2019-08-09</td>\n",
       "      <td>16320.4</td>\n",
       "      <td>177</td>\n",
       "    </tr>\n",
       "    <tr>\n",
       "      <th>18</th>\n",
       "      <td>2019-08-10</td>\n",
       "      <td>19608.6</td>\n",
       "      <td>193</td>\n",
       "    </tr>\n",
       "    <tr>\n",
       "      <th>20</th>\n",
       "      <td>2019-08-11</td>\n",
       "      <td>20838.3</td>\n",
       "      <td>206</td>\n",
       "    </tr>\n",
       "    <tr>\n",
       "      <th>22</th>\n",
       "      <td>2019-08-12</td>\n",
       "      <td>24749.1</td>\n",
       "      <td>230</td>\n",
       "    </tr>\n",
       "    <tr>\n",
       "      <th>24</th>\n",
       "      <td>2019-08-13</td>\n",
       "      <td>28846.0</td>\n",
       "      <td>244</td>\n",
       "    </tr>\n",
       "    <tr>\n",
       "      <th>26</th>\n",
       "      <td>2019-08-14</td>\n",
       "      <td>29910.8</td>\n",
       "      <td>268</td>\n",
       "    </tr>\n",
       "    <tr>\n",
       "      <th>28</th>\n",
       "      <td>2019-08-15</td>\n",
       "      <td>31319.0</td>\n",
       "      <td>283</td>\n",
       "    </tr>\n",
       "    <tr>\n",
       "      <th>30</th>\n",
       "      <td>2019-08-16</td>\n",
       "      <td>32918.1</td>\n",
       "      <td>301</td>\n",
       "    </tr>\n",
       "    <tr>\n",
       "      <th>32</th>\n",
       "      <td>2019-08-17</td>\n",
       "      <td>33723.6</td>\n",
       "      <td>311</td>\n",
       "    </tr>\n",
       "    <tr>\n",
       "      <th>34</th>\n",
       "      <td>2019-08-18</td>\n",
       "      <td>34895.4</td>\n",
       "      <td>328</td>\n",
       "    </tr>\n",
       "    <tr>\n",
       "      <th>36</th>\n",
       "      <td>2019-08-19</td>\n",
       "      <td>37884.5</td>\n",
       "      <td>350</td>\n",
       "    </tr>\n",
       "    <tr>\n",
       "      <th>38</th>\n",
       "      <td>2019-08-20</td>\n",
       "      <td>39116.8</td>\n",
       "      <td>362</td>\n",
       "    </tr>\n",
       "    <tr>\n",
       "      <th>40</th>\n",
       "      <td>2019-08-21</td>\n",
       "      <td>41872.3</td>\n",
       "      <td>385</td>\n",
       "    </tr>\n",
       "    <tr>\n",
       "      <th>42</th>\n",
       "      <td>2019-08-22</td>\n",
       "      <td>43655.6</td>\n",
       "      <td>401</td>\n",
       "    </tr>\n",
       "    <tr>\n",
       "      <th>44</th>\n",
       "      <td>2019-08-23</td>\n",
       "      <td>45543.6</td>\n",
       "      <td>426</td>\n",
       "    </tr>\n",
       "    <tr>\n",
       "      <th>46</th>\n",
       "      <td>2019-08-24</td>\n",
       "      <td>47546.3</td>\n",
       "      <td>441</td>\n",
       "    </tr>\n",
       "    <tr>\n",
       "      <th>48</th>\n",
       "      <td>2019-08-25</td>\n",
       "      <td>48625.2</td>\n",
       "      <td>451</td>\n",
       "    </tr>\n",
       "    <tr>\n",
       "      <th>50</th>\n",
       "      <td>2019-08-26</td>\n",
       "      <td>51090.0</td>\n",
       "      <td>467</td>\n",
       "    </tr>\n",
       "    <tr>\n",
       "      <th>52</th>\n",
       "      <td>2019-08-27</td>\n",
       "      <td>55601.1</td>\n",
       "      <td>495</td>\n",
       "    </tr>\n",
       "    <tr>\n",
       "      <th>54</th>\n",
       "      <td>2019-08-28</td>\n",
       "      <td>57203.7</td>\n",
       "      <td>512</td>\n",
       "    </tr>\n",
       "    <tr>\n",
       "      <th>56</th>\n",
       "      <td>2019-08-29</td>\n",
       "      <td>62199.2</td>\n",
       "      <td>534</td>\n",
       "    </tr>\n",
       "    <tr>\n",
       "      <th>58</th>\n",
       "      <td>2019-08-30</td>\n",
       "      <td>63563.5</td>\n",
       "      <td>545</td>\n",
       "    </tr>\n",
       "    <tr>\n",
       "      <th>60</th>\n",
       "      <td>2019-08-31</td>\n",
       "      <td>64554.9</td>\n",
       "      <td>557</td>\n",
       "    </tr>\n",
       "  </tbody>\n",
       "</table>\n",
       "</div>"
      ],
      "text/plain": [
       "         date  total_sales  orders\n",
       "0  2019-08-01       2356.8      24\n",
       "2  2019-08-02       3860.3      44\n",
       "4  2019-08-03       5675.5      68\n",
       "6  2019-08-04       6822.1      84\n",
       "8  2019-08-05       8810.2     109\n",
       "10 2019-08-06       9600.0     127\n",
       "12 2019-08-07      11842.9     145\n",
       "14 2019-08-08      13373.3     161\n",
       "16 2019-08-09      16320.4     177\n",
       "18 2019-08-10      19608.6     193\n",
       "20 2019-08-11      20838.3     206\n",
       "22 2019-08-12      24749.1     230\n",
       "24 2019-08-13      28846.0     244\n",
       "26 2019-08-14      29910.8     268\n",
       "28 2019-08-15      31319.0     283\n",
       "30 2019-08-16      32918.1     301\n",
       "32 2019-08-17      33723.6     311\n",
       "34 2019-08-18      34895.4     328\n",
       "36 2019-08-19      37884.5     350\n",
       "38 2019-08-20      39116.8     362\n",
       "40 2019-08-21      41872.3     385\n",
       "42 2019-08-22      43655.6     401\n",
       "44 2019-08-23      45543.6     426\n",
       "46 2019-08-24      47546.3     441\n",
       "48 2019-08-25      48625.2     451\n",
       "50 2019-08-26      51090.0     467\n",
       "52 2019-08-27      55601.1     495\n",
       "54 2019-08-28      57203.7     512\n",
       "56 2019-08-29      62199.2     534\n",
       "58 2019-08-30      63563.5     545\n",
       "60 2019-08-31      64554.9     557"
      ]
     },
     "execution_count": 146,
     "metadata": {},
     "output_type": "execute_result"
    }
   ],
   "source": [
    "# Vamos a filtrar por el grupo A\n",
    "\n",
    "sales_group_a = fct_experiment.query('group == \"A\"') [['date', 'total_sales', 'orders']]\n",
    "sales_group_a "
   ]
  },
  {
   "cell_type": "code",
   "execution_count": 147,
   "metadata": {},
   "outputs": [
    {
     "data": {
      "text/html": [
       "<div>\n",
       "<style scoped>\n",
       "    .dataframe tbody tr th:only-of-type {\n",
       "        vertical-align: middle;\n",
       "    }\n",
       "\n",
       "    .dataframe tbody tr th {\n",
       "        vertical-align: top;\n",
       "    }\n",
       "\n",
       "    .dataframe thead th {\n",
       "        text-align: right;\n",
       "    }\n",
       "</style>\n",
       "<table border=\"1\" class=\"dataframe\">\n",
       "  <thead>\n",
       "    <tr style=\"text-align: right;\">\n",
       "      <th></th>\n",
       "      <th>date</th>\n",
       "      <th>total_sales</th>\n",
       "      <th>orders</th>\n",
       "    </tr>\n",
       "  </thead>\n",
       "  <tbody>\n",
       "    <tr>\n",
       "      <th>1</th>\n",
       "      <td>2019-08-01</td>\n",
       "      <td>1620.0</td>\n",
       "      <td>21</td>\n",
       "    </tr>\n",
       "    <tr>\n",
       "      <th>3</th>\n",
       "      <td>2019-08-02</td>\n",
       "      <td>4243.8</td>\n",
       "      <td>45</td>\n",
       "    </tr>\n",
       "    <tr>\n",
       "      <th>5</th>\n",
       "      <td>2019-08-03</td>\n",
       "      <td>6050.6</td>\n",
       "      <td>61</td>\n",
       "    </tr>\n",
       "    <tr>\n",
       "      <th>7</th>\n",
       "      <td>2019-08-04</td>\n",
       "      <td>7767.9</td>\n",
       "      <td>78</td>\n",
       "    </tr>\n",
       "    <tr>\n",
       "      <th>9</th>\n",
       "      <td>2019-08-05</td>\n",
       "      <td>9262.9</td>\n",
       "      <td>101</td>\n",
       "    </tr>\n",
       "    <tr>\n",
       "      <th>11</th>\n",
       "      <td>2019-08-06</td>\n",
       "      <td>13069.3</td>\n",
       "      <td>129</td>\n",
       "    </tr>\n",
       "    <tr>\n",
       "      <th>13</th>\n",
       "      <td>2019-08-07</td>\n",
       "      <td>16600.8</td>\n",
       "      <td>153</td>\n",
       "    </tr>\n",
       "    <tr>\n",
       "      <th>15</th>\n",
       "      <td>2019-08-08</td>\n",
       "      <td>20088.6</td>\n",
       "      <td>180</td>\n",
       "    </tr>\n",
       "    <tr>\n",
       "      <th>17</th>\n",
       "      <td>2019-08-09</td>\n",
       "      <td>22646.7</td>\n",
       "      <td>205</td>\n",
       "    </tr>\n",
       "    <tr>\n",
       "      <th>19</th>\n",
       "      <td>2019-08-10</td>\n",
       "      <td>24367.1</td>\n",
       "      <td>228</td>\n",
       "    </tr>\n",
       "    <tr>\n",
       "      <th>21</th>\n",
       "      <td>2019-08-11</td>\n",
       "      <td>25228.3</td>\n",
       "      <td>241</td>\n",
       "    </tr>\n",
       "    <tr>\n",
       "      <th>23</th>\n",
       "      <td>2019-08-12</td>\n",
       "      <td>27474.0</td>\n",
       "      <td>264</td>\n",
       "    </tr>\n",
       "    <tr>\n",
       "      <th>25</th>\n",
       "      <td>2019-08-13</td>\n",
       "      <td>29384.0</td>\n",
       "      <td>285</td>\n",
       "    </tr>\n",
       "    <tr>\n",
       "      <th>27</th>\n",
       "      <td>2019-08-14</td>\n",
       "      <td>32095.7</td>\n",
       "      <td>308</td>\n",
       "    </tr>\n",
       "    <tr>\n",
       "      <th>29</th>\n",
       "      <td>2019-08-15</td>\n",
       "      <td>37457.6</td>\n",
       "      <td>339</td>\n",
       "    </tr>\n",
       "    <tr>\n",
       "      <th>31</th>\n",
       "      <td>2019-08-16</td>\n",
       "      <td>40155.3</td>\n",
       "      <td>359</td>\n",
       "    </tr>\n",
       "    <tr>\n",
       "      <th>33</th>\n",
       "      <td>2019-08-17</td>\n",
       "      <td>41436.8</td>\n",
       "      <td>373</td>\n",
       "    </tr>\n",
       "    <tr>\n",
       "      <th>35</th>\n",
       "      <td>2019-08-18</td>\n",
       "      <td>42481.7</td>\n",
       "      <td>382</td>\n",
       "    </tr>\n",
       "    <tr>\n",
       "      <th>37</th>\n",
       "      <td>2019-08-19</td>\n",
       "      <td>64546.6</td>\n",
       "      <td>403</td>\n",
       "    </tr>\n",
       "    <tr>\n",
       "      <th>39</th>\n",
       "      <td>2019-08-20</td>\n",
       "      <td>66871.2</td>\n",
       "      <td>423</td>\n",
       "    </tr>\n",
       "    <tr>\n",
       "      <th>41</th>\n",
       "      <td>2019-08-21</td>\n",
       "      <td>69427.1</td>\n",
       "      <td>437</td>\n",
       "    </tr>\n",
       "    <tr>\n",
       "      <th>43</th>\n",
       "      <td>2019-08-22</td>\n",
       "      <td>71987.9</td>\n",
       "      <td>462</td>\n",
       "    </tr>\n",
       "    <tr>\n",
       "      <th>45</th>\n",
       "      <td>2019-08-23</td>\n",
       "      <td>73787.4</td>\n",
       "      <td>477</td>\n",
       "    </tr>\n",
       "    <tr>\n",
       "      <th>47</th>\n",
       "      <td>2019-08-24</td>\n",
       "      <td>75314.6</td>\n",
       "      <td>493</td>\n",
       "    </tr>\n",
       "    <tr>\n",
       "      <th>49</th>\n",
       "      <td>2019-08-25</td>\n",
       "      <td>76941.1</td>\n",
       "      <td>507</td>\n",
       "    </tr>\n",
       "    <tr>\n",
       "      <th>51</th>\n",
       "      <td>2019-08-26</td>\n",
       "      <td>79841.5</td>\n",
       "      <td>532</td>\n",
       "    </tr>\n",
       "    <tr>\n",
       "      <th>53</th>\n",
       "      <td>2019-08-27</td>\n",
       "      <td>82161.3</td>\n",
       "      <td>548</td>\n",
       "    </tr>\n",
       "    <tr>\n",
       "      <th>55</th>\n",
       "      <td>2019-08-28</td>\n",
       "      <td>83719.3</td>\n",
       "      <td>576</td>\n",
       "    </tr>\n",
       "    <tr>\n",
       "      <th>57</th>\n",
       "      <td>2019-08-29</td>\n",
       "      <td>87343.0</td>\n",
       "      <td>596</td>\n",
       "    </tr>\n",
       "    <tr>\n",
       "      <th>59</th>\n",
       "      <td>2019-08-30</td>\n",
       "      <td>90736.3</td>\n",
       "      <td>620</td>\n",
       "    </tr>\n",
       "    <tr>\n",
       "      <th>61</th>\n",
       "      <td>2019-08-31</td>\n",
       "      <td>92840.6</td>\n",
       "      <td>640</td>\n",
       "    </tr>\n",
       "  </tbody>\n",
       "</table>\n",
       "</div>"
      ],
      "text/plain": [
       "         date  total_sales  orders\n",
       "1  2019-08-01       1620.0      21\n",
       "3  2019-08-02       4243.8      45\n",
       "5  2019-08-03       6050.6      61\n",
       "7  2019-08-04       7767.9      78\n",
       "9  2019-08-05       9262.9     101\n",
       "11 2019-08-06      13069.3     129\n",
       "13 2019-08-07      16600.8     153\n",
       "15 2019-08-08      20088.6     180\n",
       "17 2019-08-09      22646.7     205\n",
       "19 2019-08-10      24367.1     228\n",
       "21 2019-08-11      25228.3     241\n",
       "23 2019-08-12      27474.0     264\n",
       "25 2019-08-13      29384.0     285\n",
       "27 2019-08-14      32095.7     308\n",
       "29 2019-08-15      37457.6     339\n",
       "31 2019-08-16      40155.3     359\n",
       "33 2019-08-17      41436.8     373\n",
       "35 2019-08-18      42481.7     382\n",
       "37 2019-08-19      64546.6     403\n",
       "39 2019-08-20      66871.2     423\n",
       "41 2019-08-21      69427.1     437\n",
       "43 2019-08-22      71987.9     462\n",
       "45 2019-08-23      73787.4     477\n",
       "47 2019-08-24      75314.6     493\n",
       "49 2019-08-25      76941.1     507\n",
       "51 2019-08-26      79841.5     532\n",
       "53 2019-08-27      82161.3     548\n",
       "55 2019-08-28      83719.3     576\n",
       "57 2019-08-29      87343.0     596\n",
       "59 2019-08-30      90736.3     620\n",
       "61 2019-08-31      92840.6     640"
      ]
     },
     "execution_count": 147,
     "metadata": {},
     "output_type": "execute_result"
    }
   ],
   "source": [
    "sales_group_b = fct_experiment.query('group == \"B\"') [['date', 'total_sales', 'orders']]\n",
    "sales_group_b "
   ]
  },
  {
   "cell_type": "markdown",
   "metadata": {},
   "source": [
    "### Representa gráficamente el ingreso acumulado por grupo. Haz conclusiones y conjeturas"
   ]
  },
  {
   "cell_type": "code",
   "execution_count": 148,
   "metadata": {},
   "outputs": [
    {
     "data": {
      "image/png": "[encoded data removed]",
      "text/plain": [
       "<Figure size 640x480 with 1 Axes>"
      ]
     },
     "metadata": {},
     "output_type": "display_data"
    }
   ],
   "source": [
    "# Creamos los gráficos\n",
    "\n",
    "plt.plot(sales_group_a['date'], sales_group_a ['total_sales'], label='A')\n",
    "plt.plot(sales_group_b['date'], sales_group_b ['total_sales'], label='B')\n",
    "\n",
    "plt.title('Ingreso acumulado por grupo')\n",
    "plt.xlabel('Meses')\n",
    "plt.ylabel('Ingresos')\n",
    "plt.legend()\n",
    "plt.xticks(rotation=45)\n",
    "plt.show()"
   ]
  },
  {
   "cell_type": "markdown",
   "metadata": {},
   "source": [
    "En la tabla anterior se puede observar las ventas totales por fecha y por grupo A y B. En los primeros meses las ventas tuvieron la misma tendencia, sin embargo, el grupo B tiene un pico màs alto en ventas, especialmente en Agosto del 2019. Pudo ser una campaña de mercadeo que se lanzo para ese mes e incremento las ventas "
   ]
  },
  {
   "cell_type": "markdown",
   "metadata": {},
   "source": [
    "### Representa gráficamente el tamaño de pedido promedio acumulado por grupo. "
   ]
  },
  {
   "cell_type": "code",
   "execution_count": 149,
   "metadata": {},
   "outputs": [
    {
     "data": {
      "text/plain": [
       "32062.16451612903"
      ]
     },
     "execution_count": 149,
     "metadata": {},
     "output_type": "execute_result"
    }
   ],
   "source": [
    "sales_group_a['total_sales'].mean()"
   ]
  },
  {
   "cell_type": "code",
   "execution_count": 150,
   "metadata": {},
   "outputs": [
    {
     "data": {
      "text/plain": [
       "45708.03225806452"
      ]
     },
     "execution_count": 150,
     "metadata": {},
     "output_type": "execute_result"
    }
   ],
   "source": [
    "sales_group_b['total_sales'].mean()"
   ]
  },
  {
   "cell_type": "markdown",
   "metadata": {},
   "source": [
    "Se puede inferir con este analisis que efectivamente las ventas del grupo B en promedio son mas altas que el grupo A. "
   ]
  },
  {
   "cell_type": "code",
   "execution_count": 151,
   "metadata": {},
   "outputs": [
    {
     "data": {
      "image/png": "[encoded data removed]",
      "text/plain": [
       "<Figure size 640x480 with 1 Axes>"
      ]
     },
     "metadata": {},
     "output_type": "display_data"
    }
   ],
   "source": [
    "plt.plot(sales_group_a['date'], sales_group_a['total_sales'] / sales_group_a['orders'], label='A')\n",
    "plt.plot(sales_group_b['date'], sales_group_b['total_sales'] / sales_group_b['orders'], label='B')\n",
    "\n",
    "plt.title('Tamaño de pedido promedio acomulado por grupo')\n",
    "plt.xlabel('Meses')\n",
    "plt.ylabel('Numero de pedidos promedio')\n",
    "plt.legend()\n",
    "plt.xticks(rotation=45)\n",
    "\n",
    "plt.show()"
   ]
  },
  {
   "cell_type": "markdown",
   "metadata": {},
   "source": [
    "En este grafico los pedidos promedios del Grupo A tienen una tendencia a la baja en los primeras semanas del experimento, sin embargo en la semana del 2019-08-9 al 2019-08-13 se observa una alza, despues de ello se mantiene, por otra parte el Grupo B, tiene un mejor desempeño en el numero de pedidos, sin embargo en la semana donde el Grupo A tuvo un aumento considerable el Grupo B disminuye el numero de pedidos, lo que podria significar que la estrategia de marketing fue mas efectiva para esa semana, sin embargo despues en la semana del 2019-08-17 nuevamente el Grupo B tiene un mejor desempeño y aumenta exponencialmente, como se observó en el grafico anterior."
   ]
  },
  {
   "cell_type": "markdown",
   "metadata": {},
   "source": [
    "<div class=\"alert alert-block alert-success\">\n",
    "<b>Comentario del revisor (1ra Iteracion)</b> <a class=“tocSkip”></a>\n",
    "\n",
    "Buen trabajo, la visualización deja ver la diferencia claramente y redactaste una buena conclusión a partir de ella\n",
    "</div>"
   ]
  },
  {
   "cell_type": "markdown",
   "metadata": {},
   "source": [
    "### Diferencia relativa en el tamaño de pedido promedio acomulado del grupo B comparado con el grupo A"
   ]
  },
  {
   "cell_type": "code",
   "execution_count": 152,
   "metadata": {},
   "outputs": [
    {
     "data": {
      "text/html": [
       "<div>\n",
       "<style scoped>\n",
       "    .dataframe tbody tr th:only-of-type {\n",
       "        vertical-align: middle;\n",
       "    }\n",
       "\n",
       "    .dataframe tbody tr th {\n",
       "        vertical-align: top;\n",
       "    }\n",
       "\n",
       "    .dataframe thead th {\n",
       "        text-align: right;\n",
       "    }\n",
       "</style>\n",
       "<table border=\"1\" class=\"dataframe\">\n",
       "  <thead>\n",
       "    <tr style=\"text-align: right;\">\n",
       "      <th></th>\n",
       "      <th>date</th>\n",
       "      <th>total_salesA</th>\n",
       "      <th>ordersA</th>\n",
       "      <th>total_salesB</th>\n",
       "      <th>ordersB</th>\n",
       "    </tr>\n",
       "  </thead>\n",
       "  <tbody>\n",
       "    <tr>\n",
       "      <th>0</th>\n",
       "      <td>2019-08-01</td>\n",
       "      <td>2356.8</td>\n",
       "      <td>24</td>\n",
       "      <td>1620.0</td>\n",
       "      <td>21</td>\n",
       "    </tr>\n",
       "    <tr>\n",
       "      <th>1</th>\n",
       "      <td>2019-08-02</td>\n",
       "      <td>3860.3</td>\n",
       "      <td>44</td>\n",
       "      <td>4243.8</td>\n",
       "      <td>45</td>\n",
       "    </tr>\n",
       "    <tr>\n",
       "      <th>2</th>\n",
       "      <td>2019-08-03</td>\n",
       "      <td>5675.5</td>\n",
       "      <td>68</td>\n",
       "      <td>6050.6</td>\n",
       "      <td>61</td>\n",
       "    </tr>\n",
       "    <tr>\n",
       "      <th>3</th>\n",
       "      <td>2019-08-04</td>\n",
       "      <td>6822.1</td>\n",
       "      <td>84</td>\n",
       "      <td>7767.9</td>\n",
       "      <td>78</td>\n",
       "    </tr>\n",
       "    <tr>\n",
       "      <th>4</th>\n",
       "      <td>2019-08-05</td>\n",
       "      <td>8810.2</td>\n",
       "      <td>109</td>\n",
       "      <td>9262.9</td>\n",
       "      <td>101</td>\n",
       "    </tr>\n",
       "    <tr>\n",
       "      <th>5</th>\n",
       "      <td>2019-08-06</td>\n",
       "      <td>9600.0</td>\n",
       "      <td>127</td>\n",
       "      <td>13069.3</td>\n",
       "      <td>129</td>\n",
       "    </tr>\n",
       "    <tr>\n",
       "      <th>6</th>\n",
       "      <td>2019-08-07</td>\n",
       "      <td>11842.9</td>\n",
       "      <td>145</td>\n",
       "      <td>16600.8</td>\n",
       "      <td>153</td>\n",
       "    </tr>\n",
       "    <tr>\n",
       "      <th>7</th>\n",
       "      <td>2019-08-08</td>\n",
       "      <td>13373.3</td>\n",
       "      <td>161</td>\n",
       "      <td>20088.6</td>\n",
       "      <td>180</td>\n",
       "    </tr>\n",
       "    <tr>\n",
       "      <th>8</th>\n",
       "      <td>2019-08-09</td>\n",
       "      <td>16320.4</td>\n",
       "      <td>177</td>\n",
       "      <td>22646.7</td>\n",
       "      <td>205</td>\n",
       "    </tr>\n",
       "    <tr>\n",
       "      <th>9</th>\n",
       "      <td>2019-08-10</td>\n",
       "      <td>19608.6</td>\n",
       "      <td>193</td>\n",
       "      <td>24367.1</td>\n",
       "      <td>228</td>\n",
       "    </tr>\n",
       "    <tr>\n",
       "      <th>10</th>\n",
       "      <td>2019-08-11</td>\n",
       "      <td>20838.3</td>\n",
       "      <td>206</td>\n",
       "      <td>25228.3</td>\n",
       "      <td>241</td>\n",
       "    </tr>\n",
       "    <tr>\n",
       "      <th>11</th>\n",
       "      <td>2019-08-12</td>\n",
       "      <td>24749.1</td>\n",
       "      <td>230</td>\n",
       "      <td>27474.0</td>\n",
       "      <td>264</td>\n",
       "    </tr>\n",
       "    <tr>\n",
       "      <th>12</th>\n",
       "      <td>2019-08-13</td>\n",
       "      <td>28846.0</td>\n",
       "      <td>244</td>\n",
       "      <td>29384.0</td>\n",
       "      <td>285</td>\n",
       "    </tr>\n",
       "    <tr>\n",
       "      <th>13</th>\n",
       "      <td>2019-08-14</td>\n",
       "      <td>29910.8</td>\n",
       "      <td>268</td>\n",
       "      <td>32095.7</td>\n",
       "      <td>308</td>\n",
       "    </tr>\n",
       "    <tr>\n",
       "      <th>14</th>\n",
       "      <td>2019-08-15</td>\n",
       "      <td>31319.0</td>\n",
       "      <td>283</td>\n",
       "      <td>37457.6</td>\n",
       "      <td>339</td>\n",
       "    </tr>\n",
       "    <tr>\n",
       "      <th>15</th>\n",
       "      <td>2019-08-16</td>\n",
       "      <td>32918.1</td>\n",
       "      <td>301</td>\n",
       "      <td>40155.3</td>\n",
       "      <td>359</td>\n",
       "    </tr>\n",
       "    <tr>\n",
       "      <th>16</th>\n",
       "      <td>2019-08-17</td>\n",
       "      <td>33723.6</td>\n",
       "      <td>311</td>\n",
       "      <td>41436.8</td>\n",
       "      <td>373</td>\n",
       "    </tr>\n",
       "    <tr>\n",
       "      <th>17</th>\n",
       "      <td>2019-08-18</td>\n",
       "      <td>34895.4</td>\n",
       "      <td>328</td>\n",
       "      <td>42481.7</td>\n",
       "      <td>382</td>\n",
       "    </tr>\n",
       "    <tr>\n",
       "      <th>18</th>\n",
       "      <td>2019-08-19</td>\n",
       "      <td>37884.5</td>\n",
       "      <td>350</td>\n",
       "      <td>64546.6</td>\n",
       "      <td>403</td>\n",
       "    </tr>\n",
       "    <tr>\n",
       "      <th>19</th>\n",
       "      <td>2019-08-20</td>\n",
       "      <td>39116.8</td>\n",
       "      <td>362</td>\n",
       "      <td>66871.2</td>\n",
       "      <td>423</td>\n",
       "    </tr>\n",
       "    <tr>\n",
       "      <th>20</th>\n",
       "      <td>2019-08-21</td>\n",
       "      <td>41872.3</td>\n",
       "      <td>385</td>\n",
       "      <td>69427.1</td>\n",
       "      <td>437</td>\n",
       "    </tr>\n",
       "    <tr>\n",
       "      <th>21</th>\n",
       "      <td>2019-08-22</td>\n",
       "      <td>43655.6</td>\n",
       "      <td>401</td>\n",
       "      <td>71987.9</td>\n",
       "      <td>462</td>\n",
       "    </tr>\n",
       "    <tr>\n",
       "      <th>22</th>\n",
       "      <td>2019-08-23</td>\n",
       "      <td>45543.6</td>\n",
       "      <td>426</td>\n",
       "      <td>73787.4</td>\n",
       "      <td>477</td>\n",
       "    </tr>\n",
       "    <tr>\n",
       "      <th>23</th>\n",
       "      <td>2019-08-24</td>\n",
       "      <td>47546.3</td>\n",
       "      <td>441</td>\n",
       "      <td>75314.6</td>\n",
       "      <td>493</td>\n",
       "    </tr>\n",
       "    <tr>\n",
       "      <th>24</th>\n",
       "      <td>2019-08-25</td>\n",
       "      <td>48625.2</td>\n",
       "      <td>451</td>\n",
       "      <td>76941.1</td>\n",
       "      <td>507</td>\n",
       "    </tr>\n",
       "    <tr>\n",
       "      <th>25</th>\n",
       "      <td>2019-08-26</td>\n",
       "      <td>51090.0</td>\n",
       "      <td>467</td>\n",
       "      <td>79841.5</td>\n",
       "      <td>532</td>\n",
       "    </tr>\n",
       "    <tr>\n",
       "      <th>26</th>\n",
       "      <td>2019-08-27</td>\n",
       "      <td>55601.1</td>\n",
       "      <td>495</td>\n",
       "      <td>82161.3</td>\n",
       "      <td>548</td>\n",
       "    </tr>\n",
       "    <tr>\n",
       "      <th>27</th>\n",
       "      <td>2019-08-28</td>\n",
       "      <td>57203.7</td>\n",
       "      <td>512</td>\n",
       "      <td>83719.3</td>\n",
       "      <td>576</td>\n",
       "    </tr>\n",
       "    <tr>\n",
       "      <th>28</th>\n",
       "      <td>2019-08-29</td>\n",
       "      <td>62199.2</td>\n",
       "      <td>534</td>\n",
       "      <td>87343.0</td>\n",
       "      <td>596</td>\n",
       "    </tr>\n",
       "    <tr>\n",
       "      <th>29</th>\n",
       "      <td>2019-08-30</td>\n",
       "      <td>63563.5</td>\n",
       "      <td>545</td>\n",
       "      <td>90736.3</td>\n",
       "      <td>620</td>\n",
       "    </tr>\n",
       "    <tr>\n",
       "      <th>30</th>\n",
       "      <td>2019-08-31</td>\n",
       "      <td>64554.9</td>\n",
       "      <td>557</td>\n",
       "      <td>92840.6</td>\n",
       "      <td>640</td>\n",
       "    </tr>\n",
       "  </tbody>\n",
       "</table>\n",
       "</div>"
      ],
      "text/plain": [
       "         date  total_salesA  ordersA  total_salesB  ordersB\n",
       "0  2019-08-01        2356.8       24        1620.0       21\n",
       "1  2019-08-02        3860.3       44        4243.8       45\n",
       "2  2019-08-03        5675.5       68        6050.6       61\n",
       "3  2019-08-04        6822.1       84        7767.9       78\n",
       "4  2019-08-05        8810.2      109        9262.9      101\n",
       "5  2019-08-06        9600.0      127       13069.3      129\n",
       "6  2019-08-07       11842.9      145       16600.8      153\n",
       "7  2019-08-08       13373.3      161       20088.6      180\n",
       "8  2019-08-09       16320.4      177       22646.7      205\n",
       "9  2019-08-10       19608.6      193       24367.1      228\n",
       "10 2019-08-11       20838.3      206       25228.3      241\n",
       "11 2019-08-12       24749.1      230       27474.0      264\n",
       "12 2019-08-13       28846.0      244       29384.0      285\n",
       "13 2019-08-14       29910.8      268       32095.7      308\n",
       "14 2019-08-15       31319.0      283       37457.6      339\n",
       "15 2019-08-16       32918.1      301       40155.3      359\n",
       "16 2019-08-17       33723.6      311       41436.8      373\n",
       "17 2019-08-18       34895.4      328       42481.7      382\n",
       "18 2019-08-19       37884.5      350       64546.6      403\n",
       "19 2019-08-20       39116.8      362       66871.2      423\n",
       "20 2019-08-21       41872.3      385       69427.1      437\n",
       "21 2019-08-22       43655.6      401       71987.9      462\n",
       "22 2019-08-23       45543.6      426       73787.4      477\n",
       "23 2019-08-24       47546.3      441       75314.6      493\n",
       "24 2019-08-25       48625.2      451       76941.1      507\n",
       "25 2019-08-26       51090.0      467       79841.5      532\n",
       "26 2019-08-27       55601.1      495       82161.3      548\n",
       "27 2019-08-28       57203.7      512       83719.3      576\n",
       "28 2019-08-29       62199.2      534       87343.0      596\n",
       "29 2019-08-30       63563.5      545       90736.3      620\n",
       "30 2019-08-31       64554.9      557       92840.6      640"
      ]
     },
     "execution_count": 152,
     "metadata": {},
     "output_type": "execute_result"
    }
   ],
   "source": [
    "# unir los datos en un DF\n",
    "relativa_acomulada = sales_group_a.merge(sales_group_b, left_on='date', right_on='date', how='left', suffixes=['A','B'])\n",
    "relativa_acomulada"
   ]
  },
  {
   "cell_type": "code",
   "execution_count": 153,
   "metadata": {},
   "outputs": [
    {
     "data": {
      "image/png": "[encoded data removed]",
      "text/plain": [
       "<Figure size 1000x600 with 1 Axes>"
      ]
     },
     "metadata": {},
     "output_type": "display_data"
    }
   ],
   "source": [
    "# Cuanto representa la venta promedio por order de mi Grupo B comparado con el grupo A\n",
    "\n",
    "plt.figure(figsize=(10,6))\n",
    "plt.plot(\n",
    "    relativa_acomulada['date'], \n",
    "    (relativa_acomulada['total_salesA'] / relativa_acomulada['ordersA']) / \n",
    "    (relativa_acomulada['total_salesB'] / relativa_acomulada['ordersB'])\n",
    "        -1 )\n",
    "plt.title('Tamaño de pedido promedio acomulado del grupo B comparado con el grupo A')\n",
    "plt.xlabel('Meses')\n",
    "plt.ylabel('Numero de pedidos promedio')\n",
    "plt.xticks(rotation=45)\n",
    "plt.axhline(y=0, color='black', linestyle='--')\n",
    "plt.show()"
   ]
  },
  {
   "cell_type": "markdown",
   "metadata": {},
   "source": [
    "Este grafico se relaciona con la infromación obtenida en los graficos anteriores, en donde el Grupo B lidera entre el 9 y 13 de agosto y se puede concluir que la venta promedio por order de mi Grupo B comparado con el grupo A, es 200% mayor, por lo tanto la compañia lanzo una campaña de marketing para esa fecha y dio muy buen resultado. La linea cero indica que el se vendio lo mismo que la venta promedio por orden es igual en el grupo A y B. Sin embargo el grupo B lidera la venta."
   ]
  },
  {
   "cell_type": "markdown",
   "metadata": {},
   "source": [
    "### Tasa de conversión de cada grupo"
   ]
  },
  {
   "cell_type": "code",
   "execution_count": 154,
   "metadata": {},
   "outputs": [
    {
     "data": {
      "text/html": [
       "<div>\n",
       "<style scoped>\n",
       "    .dataframe tbody tr th:only-of-type {\n",
       "        vertical-align: middle;\n",
       "    }\n",
       "\n",
       "    .dataframe tbody tr th {\n",
       "        vertical-align: top;\n",
       "    }\n",
       "\n",
       "    .dataframe thead th {\n",
       "        text-align: right;\n",
       "    }\n",
       "</style>\n",
       "<table border=\"1\" class=\"dataframe\">\n",
       "  <thead>\n",
       "    <tr style=\"text-align: right;\">\n",
       "      <th></th>\n",
       "      <th>date</th>\n",
       "      <th>group</th>\n",
       "      <th>orders</th>\n",
       "      <th>buyers</th>\n",
       "      <th>total_sales</th>\n",
       "      <th>number_visits</th>\n",
       "      <th>conversion</th>\n",
       "    </tr>\n",
       "  </thead>\n",
       "  <tbody>\n",
       "    <tr>\n",
       "      <th>0</th>\n",
       "      <td>2019-08-01</td>\n",
       "      <td>A</td>\n",
       "      <td>24</td>\n",
       "      <td>20</td>\n",
       "      <td>2356.8</td>\n",
       "      <td>719</td>\n",
       "      <td>0.033380</td>\n",
       "    </tr>\n",
       "    <tr>\n",
       "      <th>1</th>\n",
       "      <td>2019-08-01</td>\n",
       "      <td>B</td>\n",
       "      <td>21</td>\n",
       "      <td>20</td>\n",
       "      <td>1620.0</td>\n",
       "      <td>713</td>\n",
       "      <td>0.029453</td>\n",
       "    </tr>\n",
       "    <tr>\n",
       "      <th>2</th>\n",
       "      <td>2019-08-02</td>\n",
       "      <td>A</td>\n",
       "      <td>44</td>\n",
       "      <td>38</td>\n",
       "      <td>3860.3</td>\n",
       "      <td>1338</td>\n",
       "      <td>0.032885</td>\n",
       "    </tr>\n",
       "    <tr>\n",
       "      <th>3</th>\n",
       "      <td>2019-08-02</td>\n",
       "      <td>B</td>\n",
       "      <td>45</td>\n",
       "      <td>43</td>\n",
       "      <td>4243.8</td>\n",
       "      <td>1294</td>\n",
       "      <td>0.034776</td>\n",
       "    </tr>\n",
       "    <tr>\n",
       "      <th>4</th>\n",
       "      <td>2019-08-03</td>\n",
       "      <td>A</td>\n",
       "      <td>68</td>\n",
       "      <td>62</td>\n",
       "      <td>5675.5</td>\n",
       "      <td>1845</td>\n",
       "      <td>0.036856</td>\n",
       "    </tr>\n",
       "    <tr>\n",
       "      <th>...</th>\n",
       "      <td>...</td>\n",
       "      <td>...</td>\n",
       "      <td>...</td>\n",
       "      <td>...</td>\n",
       "      <td>...</td>\n",
       "      <td>...</td>\n",
       "      <td>...</td>\n",
       "    </tr>\n",
       "    <tr>\n",
       "      <th>57</th>\n",
       "      <td>2019-08-29</td>\n",
       "      <td>B</td>\n",
       "      <td>596</td>\n",
       "      <td>544</td>\n",
       "      <td>87343.0</td>\n",
       "      <td>17708</td>\n",
       "      <td>0.033657</td>\n",
       "    </tr>\n",
       "    <tr>\n",
       "      <th>58</th>\n",
       "      <td>2019-08-30</td>\n",
       "      <td>A</td>\n",
       "      <td>545</td>\n",
       "      <td>493</td>\n",
       "      <td>63563.5</td>\n",
       "      <td>18037</td>\n",
       "      <td>0.030216</td>\n",
       "    </tr>\n",
       "    <tr>\n",
       "      <th>59</th>\n",
       "      <td>2019-08-30</td>\n",
       "      <td>B</td>\n",
       "      <td>620</td>\n",
       "      <td>567</td>\n",
       "      <td>90736.3</td>\n",
       "      <td>18198</td>\n",
       "      <td>0.034070</td>\n",
       "    </tr>\n",
       "    <tr>\n",
       "      <th>60</th>\n",
       "      <td>2019-08-31</td>\n",
       "      <td>A</td>\n",
       "      <td>557</td>\n",
       "      <td>503</td>\n",
       "      <td>64554.9</td>\n",
       "      <td>18736</td>\n",
       "      <td>0.029729</td>\n",
       "    </tr>\n",
       "    <tr>\n",
       "      <th>61</th>\n",
       "      <td>2019-08-31</td>\n",
       "      <td>B</td>\n",
       "      <td>640</td>\n",
       "      <td>586</td>\n",
       "      <td>92840.6</td>\n",
       "      <td>18916</td>\n",
       "      <td>0.033834</td>\n",
       "    </tr>\n",
       "  </tbody>\n",
       "</table>\n",
       "<p>62 rows × 7 columns</p>\n",
       "</div>"
      ],
      "text/plain": [
       "         date group  orders  buyers  total_sales  number_visits  conversion\n",
       "0  2019-08-01     A      24      20       2356.8            719    0.033380\n",
       "1  2019-08-01     B      21      20       1620.0            713    0.029453\n",
       "2  2019-08-02     A      44      38       3860.3           1338    0.032885\n",
       "3  2019-08-02     B      45      43       4243.8           1294    0.034776\n",
       "4  2019-08-03     A      68      62       5675.5           1845    0.036856\n",
       "..        ...   ...     ...     ...          ...            ...         ...\n",
       "57 2019-08-29     B     596     544      87343.0          17708    0.033657\n",
       "58 2019-08-30     A     545     493      63563.5          18037    0.030216\n",
       "59 2019-08-30     B     620     567      90736.3          18198    0.034070\n",
       "60 2019-08-31     A     557     503      64554.9          18736    0.029729\n",
       "61 2019-08-31     B     640     586      92840.6          18916    0.033834\n",
       "\n",
       "[62 rows x 7 columns]"
      ]
     },
     "execution_count": 154,
     "metadata": {},
     "output_type": "execute_result"
    }
   ],
   "source": [
    "# calcular la conversion acomulada : Relacion entre las ordenes y los visitas\n",
    "\n",
    "fct_experiment ['conversion'] = fct_experiment['orders'] / fct_experiment['number_visits']\n",
    "fct_experiment "
   ]
  },
  {
   "cell_type": "markdown",
   "metadata": {},
   "source": [
    "#La conversion es lo que yo gasto en publicidad comparado con el numero de ordenes que se tienen en la empresa (regularmente siempre es baja)"
   ]
  },
  {
   "cell_type": "code",
   "execution_count": 155,
   "metadata": {},
   "outputs": [],
   "source": [
    "# filtrar por grupo A y B \n",
    "\n",
    "experimient_A = fct_experiment[fct_experiment['group']=='A']\n",
    "\n",
    "experimient_B = fct_experiment[fct_experiment['group']=='B']"
   ]
  },
  {
   "cell_type": "code",
   "execution_count": 156,
   "metadata": {},
   "outputs": [
    {
     "data": {
      "text/html": [
       "<div>\n",
       "<style scoped>\n",
       "    .dataframe tbody tr th:only-of-type {\n",
       "        vertical-align: middle;\n",
       "    }\n",
       "\n",
       "    .dataframe tbody tr th {\n",
       "        vertical-align: top;\n",
       "    }\n",
       "\n",
       "    .dataframe thead th {\n",
       "        text-align: right;\n",
       "    }\n",
       "</style>\n",
       "<table border=\"1\" class=\"dataframe\">\n",
       "  <thead>\n",
       "    <tr style=\"text-align: right;\">\n",
       "      <th></th>\n",
       "      <th>date</th>\n",
       "      <th>group</th>\n",
       "      <th>orders</th>\n",
       "      <th>buyers</th>\n",
       "      <th>total_sales</th>\n",
       "      <th>number_visits</th>\n",
       "      <th>conversion</th>\n",
       "    </tr>\n",
       "  </thead>\n",
       "  <tbody>\n",
       "    <tr>\n",
       "      <th>0</th>\n",
       "      <td>2019-08-01</td>\n",
       "      <td>A</td>\n",
       "      <td>24</td>\n",
       "      <td>20</td>\n",
       "      <td>2356.8</td>\n",
       "      <td>719</td>\n",
       "      <td>0.033380</td>\n",
       "    </tr>\n",
       "    <tr>\n",
       "      <th>2</th>\n",
       "      <td>2019-08-02</td>\n",
       "      <td>A</td>\n",
       "      <td>44</td>\n",
       "      <td>38</td>\n",
       "      <td>3860.3</td>\n",
       "      <td>1338</td>\n",
       "      <td>0.032885</td>\n",
       "    </tr>\n",
       "    <tr>\n",
       "      <th>4</th>\n",
       "      <td>2019-08-03</td>\n",
       "      <td>A</td>\n",
       "      <td>68</td>\n",
       "      <td>62</td>\n",
       "      <td>5675.5</td>\n",
       "      <td>1845</td>\n",
       "      <td>0.036856</td>\n",
       "    </tr>\n",
       "    <tr>\n",
       "      <th>6</th>\n",
       "      <td>2019-08-04</td>\n",
       "      <td>A</td>\n",
       "      <td>84</td>\n",
       "      <td>77</td>\n",
       "      <td>6822.1</td>\n",
       "      <td>2562</td>\n",
       "      <td>0.032787</td>\n",
       "    </tr>\n",
       "    <tr>\n",
       "      <th>8</th>\n",
       "      <td>2019-08-05</td>\n",
       "      <td>A</td>\n",
       "      <td>109</td>\n",
       "      <td>100</td>\n",
       "      <td>8810.2</td>\n",
       "      <td>3318</td>\n",
       "      <td>0.032851</td>\n",
       "    </tr>\n",
       "    <tr>\n",
       "      <th>10</th>\n",
       "      <td>2019-08-06</td>\n",
       "      <td>A</td>\n",
       "      <td>127</td>\n",
       "      <td>114</td>\n",
       "      <td>9600.0</td>\n",
       "      <td>3985</td>\n",
       "      <td>0.031870</td>\n",
       "    </tr>\n",
       "    <tr>\n",
       "      <th>12</th>\n",
       "      <td>2019-08-07</td>\n",
       "      <td>A</td>\n",
       "      <td>145</td>\n",
       "      <td>131</td>\n",
       "      <td>11842.9</td>\n",
       "      <td>4629</td>\n",
       "      <td>0.031324</td>\n",
       "    </tr>\n",
       "    <tr>\n",
       "      <th>14</th>\n",
       "      <td>2019-08-08</td>\n",
       "      <td>A</td>\n",
       "      <td>161</td>\n",
       "      <td>146</td>\n",
       "      <td>13373.3</td>\n",
       "      <td>5239</td>\n",
       "      <td>0.030731</td>\n",
       "    </tr>\n",
       "    <tr>\n",
       "      <th>16</th>\n",
       "      <td>2019-08-09</td>\n",
       "      <td>A</td>\n",
       "      <td>177</td>\n",
       "      <td>159</td>\n",
       "      <td>16320.4</td>\n",
       "      <td>5856</td>\n",
       "      <td>0.030225</td>\n",
       "    </tr>\n",
       "    <tr>\n",
       "      <th>18</th>\n",
       "      <td>2019-08-10</td>\n",
       "      <td>A</td>\n",
       "      <td>193</td>\n",
       "      <td>175</td>\n",
       "      <td>19608.6</td>\n",
       "      <td>6262</td>\n",
       "      <td>0.030821</td>\n",
       "    </tr>\n",
       "    <tr>\n",
       "      <th>20</th>\n",
       "      <td>2019-08-11</td>\n",
       "      <td>A</td>\n",
       "      <td>206</td>\n",
       "      <td>187</td>\n",
       "      <td>20838.3</td>\n",
       "      <td>6980</td>\n",
       "      <td>0.029513</td>\n",
       "    </tr>\n",
       "    <tr>\n",
       "      <th>22</th>\n",
       "      <td>2019-08-12</td>\n",
       "      <td>A</td>\n",
       "      <td>230</td>\n",
       "      <td>210</td>\n",
       "      <td>24749.1</td>\n",
       "      <td>7575</td>\n",
       "      <td>0.030363</td>\n",
       "    </tr>\n",
       "    <tr>\n",
       "      <th>24</th>\n",
       "      <td>2019-08-13</td>\n",
       "      <td>A</td>\n",
       "      <td>244</td>\n",
       "      <td>223</td>\n",
       "      <td>28846.0</td>\n",
       "      <td>8323</td>\n",
       "      <td>0.029316</td>\n",
       "    </tr>\n",
       "    <tr>\n",
       "      <th>26</th>\n",
       "      <td>2019-08-14</td>\n",
       "      <td>A</td>\n",
       "      <td>268</td>\n",
       "      <td>247</td>\n",
       "      <td>29910.8</td>\n",
       "      <td>9058</td>\n",
       "      <td>0.029587</td>\n",
       "    </tr>\n",
       "    <tr>\n",
       "      <th>28</th>\n",
       "      <td>2019-08-15</td>\n",
       "      <td>A</td>\n",
       "      <td>283</td>\n",
       "      <td>259</td>\n",
       "      <td>31319.0</td>\n",
       "      <td>9686</td>\n",
       "      <td>0.029217</td>\n",
       "    </tr>\n",
       "    <tr>\n",
       "      <th>30</th>\n",
       "      <td>2019-08-16</td>\n",
       "      <td>A</td>\n",
       "      <td>301</td>\n",
       "      <td>277</td>\n",
       "      <td>32918.1</td>\n",
       "      <td>10047</td>\n",
       "      <td>0.029959</td>\n",
       "    </tr>\n",
       "    <tr>\n",
       "      <th>32</th>\n",
       "      <td>2019-08-17</td>\n",
       "      <td>A</td>\n",
       "      <td>311</td>\n",
       "      <td>283</td>\n",
       "      <td>33723.6</td>\n",
       "      <td>10459</td>\n",
       "      <td>0.029735</td>\n",
       "    </tr>\n",
       "    <tr>\n",
       "      <th>34</th>\n",
       "      <td>2019-08-18</td>\n",
       "      <td>A</td>\n",
       "      <td>328</td>\n",
       "      <td>300</td>\n",
       "      <td>34895.4</td>\n",
       "      <td>11127</td>\n",
       "      <td>0.029478</td>\n",
       "    </tr>\n",
       "    <tr>\n",
       "      <th>36</th>\n",
       "      <td>2019-08-19</td>\n",
       "      <td>A</td>\n",
       "      <td>350</td>\n",
       "      <td>320</td>\n",
       "      <td>37884.5</td>\n",
       "      <td>11629</td>\n",
       "      <td>0.030097</td>\n",
       "    </tr>\n",
       "    <tr>\n",
       "      <th>38</th>\n",
       "      <td>2019-08-20</td>\n",
       "      <td>A</td>\n",
       "      <td>362</td>\n",
       "      <td>330</td>\n",
       "      <td>39116.8</td>\n",
       "      <td>12204</td>\n",
       "      <td>0.029662</td>\n",
       "    </tr>\n",
       "    <tr>\n",
       "      <th>40</th>\n",
       "      <td>2019-08-21</td>\n",
       "      <td>A</td>\n",
       "      <td>385</td>\n",
       "      <td>350</td>\n",
       "      <td>41872.3</td>\n",
       "      <td>12850</td>\n",
       "      <td>0.029961</td>\n",
       "    </tr>\n",
       "    <tr>\n",
       "      <th>42</th>\n",
       "      <td>2019-08-22</td>\n",
       "      <td>A</td>\n",
       "      <td>401</td>\n",
       "      <td>361</td>\n",
       "      <td>43655.6</td>\n",
       "      <td>13459</td>\n",
       "      <td>0.029794</td>\n",
       "    </tr>\n",
       "    <tr>\n",
       "      <th>44</th>\n",
       "      <td>2019-08-23</td>\n",
       "      <td>A</td>\n",
       "      <td>426</td>\n",
       "      <td>385</td>\n",
       "      <td>45543.6</td>\n",
       "      <td>13927</td>\n",
       "      <td>0.030588</td>\n",
       "    </tr>\n",
       "    <tr>\n",
       "      <th>46</th>\n",
       "      <td>2019-08-24</td>\n",
       "      <td>A</td>\n",
       "      <td>441</td>\n",
       "      <td>400</td>\n",
       "      <td>47546.3</td>\n",
       "      <td>14322</td>\n",
       "      <td>0.030792</td>\n",
       "    </tr>\n",
       "    <tr>\n",
       "      <th>48</th>\n",
       "      <td>2019-08-25</td>\n",
       "      <td>A</td>\n",
       "      <td>451</td>\n",
       "      <td>409</td>\n",
       "      <td>48625.2</td>\n",
       "      <td>14943</td>\n",
       "      <td>0.030181</td>\n",
       "    </tr>\n",
       "    <tr>\n",
       "      <th>50</th>\n",
       "      <td>2019-08-26</td>\n",
       "      <td>A</td>\n",
       "      <td>467</td>\n",
       "      <td>425</td>\n",
       "      <td>51090.0</td>\n",
       "      <td>15665</td>\n",
       "      <td>0.029812</td>\n",
       "    </tr>\n",
       "    <tr>\n",
       "      <th>52</th>\n",
       "      <td>2019-08-27</td>\n",
       "      <td>A</td>\n",
       "      <td>495</td>\n",
       "      <td>449</td>\n",
       "      <td>55601.1</td>\n",
       "      <td>16376</td>\n",
       "      <td>0.030227</td>\n",
       "    </tr>\n",
       "    <tr>\n",
       "      <th>54</th>\n",
       "      <td>2019-08-28</td>\n",
       "      <td>A</td>\n",
       "      <td>512</td>\n",
       "      <td>464</td>\n",
       "      <td>57203.7</td>\n",
       "      <td>16970</td>\n",
       "      <td>0.030171</td>\n",
       "    </tr>\n",
       "    <tr>\n",
       "      <th>56</th>\n",
       "      <td>2019-08-29</td>\n",
       "      <td>A</td>\n",
       "      <td>534</td>\n",
       "      <td>484</td>\n",
       "      <td>62199.2</td>\n",
       "      <td>17547</td>\n",
       "      <td>0.030433</td>\n",
       "    </tr>\n",
       "    <tr>\n",
       "      <th>58</th>\n",
       "      <td>2019-08-30</td>\n",
       "      <td>A</td>\n",
       "      <td>545</td>\n",
       "      <td>493</td>\n",
       "      <td>63563.5</td>\n",
       "      <td>18037</td>\n",
       "      <td>0.030216</td>\n",
       "    </tr>\n",
       "    <tr>\n",
       "      <th>60</th>\n",
       "      <td>2019-08-31</td>\n",
       "      <td>A</td>\n",
       "      <td>557</td>\n",
       "      <td>503</td>\n",
       "      <td>64554.9</td>\n",
       "      <td>18736</td>\n",
       "      <td>0.029729</td>\n",
       "    </tr>\n",
       "  </tbody>\n",
       "</table>\n",
       "</div>"
      ],
      "text/plain": [
       "         date group  orders  buyers  total_sales  number_visits  conversion\n",
       "0  2019-08-01     A      24      20       2356.8            719    0.033380\n",
       "2  2019-08-02     A      44      38       3860.3           1338    0.032885\n",
       "4  2019-08-03     A      68      62       5675.5           1845    0.036856\n",
       "6  2019-08-04     A      84      77       6822.1           2562    0.032787\n",
       "8  2019-08-05     A     109     100       8810.2           3318    0.032851\n",
       "10 2019-08-06     A     127     114       9600.0           3985    0.031870\n",
       "12 2019-08-07     A     145     131      11842.9           4629    0.031324\n",
       "14 2019-08-08     A     161     146      13373.3           5239    0.030731\n",
       "16 2019-08-09     A     177     159      16320.4           5856    0.030225\n",
       "18 2019-08-10     A     193     175      19608.6           6262    0.030821\n",
       "20 2019-08-11     A     206     187      20838.3           6980    0.029513\n",
       "22 2019-08-12     A     230     210      24749.1           7575    0.030363\n",
       "24 2019-08-13     A     244     223      28846.0           8323    0.029316\n",
       "26 2019-08-14     A     268     247      29910.8           9058    0.029587\n",
       "28 2019-08-15     A     283     259      31319.0           9686    0.029217\n",
       "30 2019-08-16     A     301     277      32918.1          10047    0.029959\n",
       "32 2019-08-17     A     311     283      33723.6          10459    0.029735\n",
       "34 2019-08-18     A     328     300      34895.4          11127    0.029478\n",
       "36 2019-08-19     A     350     320      37884.5          11629    0.030097\n",
       "38 2019-08-20     A     362     330      39116.8          12204    0.029662\n",
       "40 2019-08-21     A     385     350      41872.3          12850    0.029961\n",
       "42 2019-08-22     A     401     361      43655.6          13459    0.029794\n",
       "44 2019-08-23     A     426     385      45543.6          13927    0.030588\n",
       "46 2019-08-24     A     441     400      47546.3          14322    0.030792\n",
       "48 2019-08-25     A     451     409      48625.2          14943    0.030181\n",
       "50 2019-08-26     A     467     425      51090.0          15665    0.029812\n",
       "52 2019-08-27     A     495     449      55601.1          16376    0.030227\n",
       "54 2019-08-28     A     512     464      57203.7          16970    0.030171\n",
       "56 2019-08-29     A     534     484      62199.2          17547    0.030433\n",
       "58 2019-08-30     A     545     493      63563.5          18037    0.030216\n",
       "60 2019-08-31     A     557     503      64554.9          18736    0.029729"
      ]
     },
     "execution_count": 156,
     "metadata": {},
     "output_type": "execute_result"
    }
   ],
   "source": [
    "experimient_A"
   ]
  },
  {
   "cell_type": "code",
   "execution_count": 157,
   "metadata": {},
   "outputs": [
    {
     "data": {
      "text/html": [
       "<div>\n",
       "<style scoped>\n",
       "    .dataframe tbody tr th:only-of-type {\n",
       "        vertical-align: middle;\n",
       "    }\n",
       "\n",
       "    .dataframe tbody tr th {\n",
       "        vertical-align: top;\n",
       "    }\n",
       "\n",
       "    .dataframe thead th {\n",
       "        text-align: right;\n",
       "    }\n",
       "</style>\n",
       "<table border=\"1\" class=\"dataframe\">\n",
       "  <thead>\n",
       "    <tr style=\"text-align: right;\">\n",
       "      <th></th>\n",
       "      <th>date</th>\n",
       "      <th>group</th>\n",
       "      <th>orders</th>\n",
       "      <th>buyers</th>\n",
       "      <th>total_sales</th>\n",
       "      <th>number_visits</th>\n",
       "      <th>conversion</th>\n",
       "    </tr>\n",
       "  </thead>\n",
       "  <tbody>\n",
       "    <tr>\n",
       "      <th>1</th>\n",
       "      <td>2019-08-01</td>\n",
       "      <td>B</td>\n",
       "      <td>21</td>\n",
       "      <td>20</td>\n",
       "      <td>1620.0</td>\n",
       "      <td>713</td>\n",
       "      <td>0.029453</td>\n",
       "    </tr>\n",
       "    <tr>\n",
       "      <th>3</th>\n",
       "      <td>2019-08-02</td>\n",
       "      <td>B</td>\n",
       "      <td>45</td>\n",
       "      <td>43</td>\n",
       "      <td>4243.8</td>\n",
       "      <td>1294</td>\n",
       "      <td>0.034776</td>\n",
       "    </tr>\n",
       "    <tr>\n",
       "      <th>5</th>\n",
       "      <td>2019-08-03</td>\n",
       "      <td>B</td>\n",
       "      <td>61</td>\n",
       "      <td>59</td>\n",
       "      <td>6050.6</td>\n",
       "      <td>1803</td>\n",
       "      <td>0.033833</td>\n",
       "    </tr>\n",
       "    <tr>\n",
       "      <th>7</th>\n",
       "      <td>2019-08-04</td>\n",
       "      <td>B</td>\n",
       "      <td>78</td>\n",
       "      <td>75</td>\n",
       "      <td>7767.9</td>\n",
       "      <td>2573</td>\n",
       "      <td>0.030315</td>\n",
       "    </tr>\n",
       "    <tr>\n",
       "      <th>9</th>\n",
       "      <td>2019-08-05</td>\n",
       "      <td>B</td>\n",
       "      <td>101</td>\n",
       "      <td>98</td>\n",
       "      <td>9262.9</td>\n",
       "      <td>3280</td>\n",
       "      <td>0.030793</td>\n",
       "    </tr>\n",
       "    <tr>\n",
       "      <th>11</th>\n",
       "      <td>2019-08-06</td>\n",
       "      <td>B</td>\n",
       "      <td>129</td>\n",
       "      <td>123</td>\n",
       "      <td>13069.3</td>\n",
       "      <td>3935</td>\n",
       "      <td>0.032783</td>\n",
       "    </tr>\n",
       "    <tr>\n",
       "      <th>13</th>\n",
       "      <td>2019-08-07</td>\n",
       "      <td>B</td>\n",
       "      <td>153</td>\n",
       "      <td>146</td>\n",
       "      <td>16600.8</td>\n",
       "      <td>4644</td>\n",
       "      <td>0.032946</td>\n",
       "    </tr>\n",
       "    <tr>\n",
       "      <th>15</th>\n",
       "      <td>2019-08-08</td>\n",
       "      <td>B</td>\n",
       "      <td>180</td>\n",
       "      <td>171</td>\n",
       "      <td>20088.6</td>\n",
       "      <td>5298</td>\n",
       "      <td>0.033975</td>\n",
       "    </tr>\n",
       "    <tr>\n",
       "      <th>17</th>\n",
       "      <td>2019-08-09</td>\n",
       "      <td>B</td>\n",
       "      <td>205</td>\n",
       "      <td>193</td>\n",
       "      <td>22646.7</td>\n",
       "      <td>5908</td>\n",
       "      <td>0.034699</td>\n",
       "    </tr>\n",
       "    <tr>\n",
       "      <th>19</th>\n",
       "      <td>2019-08-10</td>\n",
       "      <td>B</td>\n",
       "      <td>228</td>\n",
       "      <td>215</td>\n",
       "      <td>24367.1</td>\n",
       "      <td>6277</td>\n",
       "      <td>0.036323</td>\n",
       "    </tr>\n",
       "    <tr>\n",
       "      <th>21</th>\n",
       "      <td>2019-08-11</td>\n",
       "      <td>B</td>\n",
       "      <td>241</td>\n",
       "      <td>228</td>\n",
       "      <td>25228.3</td>\n",
       "      <td>6998</td>\n",
       "      <td>0.034438</td>\n",
       "    </tr>\n",
       "    <tr>\n",
       "      <th>23</th>\n",
       "      <td>2019-08-12</td>\n",
       "      <td>B</td>\n",
       "      <td>264</td>\n",
       "      <td>248</td>\n",
       "      <td>27474.0</td>\n",
       "      <td>7541</td>\n",
       "      <td>0.035009</td>\n",
       "    </tr>\n",
       "    <tr>\n",
       "      <th>25</th>\n",
       "      <td>2019-08-13</td>\n",
       "      <td>B</td>\n",
       "      <td>285</td>\n",
       "      <td>268</td>\n",
       "      <td>29384.0</td>\n",
       "      <td>8310</td>\n",
       "      <td>0.034296</td>\n",
       "    </tr>\n",
       "    <tr>\n",
       "      <th>27</th>\n",
       "      <td>2019-08-14</td>\n",
       "      <td>B</td>\n",
       "      <td>308</td>\n",
       "      <td>287</td>\n",
       "      <td>32095.7</td>\n",
       "      <td>9056</td>\n",
       "      <td>0.034011</td>\n",
       "    </tr>\n",
       "    <tr>\n",
       "      <th>29</th>\n",
       "      <td>2019-08-15</td>\n",
       "      <td>B</td>\n",
       "      <td>339</td>\n",
       "      <td>317</td>\n",
       "      <td>37457.6</td>\n",
       "      <td>9600</td>\n",
       "      <td>0.035312</td>\n",
       "    </tr>\n",
       "    <tr>\n",
       "      <th>31</th>\n",
       "      <td>2019-08-16</td>\n",
       "      <td>B</td>\n",
       "      <td>359</td>\n",
       "      <td>336</td>\n",
       "      <td>40155.3</td>\n",
       "      <td>10013</td>\n",
       "      <td>0.035853</td>\n",
       "    </tr>\n",
       "    <tr>\n",
       "      <th>33</th>\n",
       "      <td>2019-08-17</td>\n",
       "      <td>B</td>\n",
       "      <td>373</td>\n",
       "      <td>349</td>\n",
       "      <td>41436.8</td>\n",
       "      <td>10434</td>\n",
       "      <td>0.035749</td>\n",
       "    </tr>\n",
       "    <tr>\n",
       "      <th>35</th>\n",
       "      <td>2019-08-18</td>\n",
       "      <td>B</td>\n",
       "      <td>382</td>\n",
       "      <td>357</td>\n",
       "      <td>42481.7</td>\n",
       "      <td>11171</td>\n",
       "      <td>0.034196</td>\n",
       "    </tr>\n",
       "    <tr>\n",
       "      <th>37</th>\n",
       "      <td>2019-08-19</td>\n",
       "      <td>B</td>\n",
       "      <td>403</td>\n",
       "      <td>377</td>\n",
       "      <td>64546.6</td>\n",
       "      <td>11658</td>\n",
       "      <td>0.034569</td>\n",
       "    </tr>\n",
       "    <tr>\n",
       "      <th>39</th>\n",
       "      <td>2019-08-20</td>\n",
       "      <td>B</td>\n",
       "      <td>423</td>\n",
       "      <td>396</td>\n",
       "      <td>66871.2</td>\n",
       "      <td>12218</td>\n",
       "      <td>0.034621</td>\n",
       "    </tr>\n",
       "    <tr>\n",
       "      <th>41</th>\n",
       "      <td>2019-08-21</td>\n",
       "      <td>B</td>\n",
       "      <td>437</td>\n",
       "      <td>407</td>\n",
       "      <td>69427.1</td>\n",
       "      <td>12874</td>\n",
       "      <td>0.033944</td>\n",
       "    </tr>\n",
       "    <tr>\n",
       "      <th>43</th>\n",
       "      <td>2019-08-22</td>\n",
       "      <td>B</td>\n",
       "      <td>462</td>\n",
       "      <td>427</td>\n",
       "      <td>71987.9</td>\n",
       "      <td>13524</td>\n",
       "      <td>0.034161</td>\n",
       "    </tr>\n",
       "    <tr>\n",
       "      <th>45</th>\n",
       "      <td>2019-08-23</td>\n",
       "      <td>B</td>\n",
       "      <td>477</td>\n",
       "      <td>440</td>\n",
       "      <td>73787.4</td>\n",
       "      <td>14070</td>\n",
       "      <td>0.033902</td>\n",
       "    </tr>\n",
       "    <tr>\n",
       "      <th>47</th>\n",
       "      <td>2019-08-24</td>\n",
       "      <td>B</td>\n",
       "      <td>493</td>\n",
       "      <td>454</td>\n",
       "      <td>75314.6</td>\n",
       "      <td>14448</td>\n",
       "      <td>0.034122</td>\n",
       "    </tr>\n",
       "    <tr>\n",
       "      <th>49</th>\n",
       "      <td>2019-08-25</td>\n",
       "      <td>B</td>\n",
       "      <td>507</td>\n",
       "      <td>466</td>\n",
       "      <td>76941.1</td>\n",
       "      <td>15127</td>\n",
       "      <td>0.033516</td>\n",
       "    </tr>\n",
       "    <tr>\n",
       "      <th>51</th>\n",
       "      <td>2019-08-26</td>\n",
       "      <td>B</td>\n",
       "      <td>532</td>\n",
       "      <td>490</td>\n",
       "      <td>79841.5</td>\n",
       "      <td>15803</td>\n",
       "      <td>0.033664</td>\n",
       "    </tr>\n",
       "    <tr>\n",
       "      <th>53</th>\n",
       "      <td>2019-08-27</td>\n",
       "      <td>B</td>\n",
       "      <td>548</td>\n",
       "      <td>504</td>\n",
       "      <td>82161.3</td>\n",
       "      <td>16523</td>\n",
       "      <td>0.033166</td>\n",
       "    </tr>\n",
       "    <tr>\n",
       "      <th>55</th>\n",
       "      <td>2019-08-28</td>\n",
       "      <td>B</td>\n",
       "      <td>576</td>\n",
       "      <td>526</td>\n",
       "      <td>83719.3</td>\n",
       "      <td>17177</td>\n",
       "      <td>0.033533</td>\n",
       "    </tr>\n",
       "    <tr>\n",
       "      <th>57</th>\n",
       "      <td>2019-08-29</td>\n",
       "      <td>B</td>\n",
       "      <td>596</td>\n",
       "      <td>544</td>\n",
       "      <td>87343.0</td>\n",
       "      <td>17708</td>\n",
       "      <td>0.033657</td>\n",
       "    </tr>\n",
       "    <tr>\n",
       "      <th>59</th>\n",
       "      <td>2019-08-30</td>\n",
       "      <td>B</td>\n",
       "      <td>620</td>\n",
       "      <td>567</td>\n",
       "      <td>90736.3</td>\n",
       "      <td>18198</td>\n",
       "      <td>0.034070</td>\n",
       "    </tr>\n",
       "    <tr>\n",
       "      <th>61</th>\n",
       "      <td>2019-08-31</td>\n",
       "      <td>B</td>\n",
       "      <td>640</td>\n",
       "      <td>586</td>\n",
       "      <td>92840.6</td>\n",
       "      <td>18916</td>\n",
       "      <td>0.033834</td>\n",
       "    </tr>\n",
       "  </tbody>\n",
       "</table>\n",
       "</div>"
      ],
      "text/plain": [
       "         date group  orders  buyers  total_sales  number_visits  conversion\n",
       "1  2019-08-01     B      21      20       1620.0            713    0.029453\n",
       "3  2019-08-02     B      45      43       4243.8           1294    0.034776\n",
       "5  2019-08-03     B      61      59       6050.6           1803    0.033833\n",
       "7  2019-08-04     B      78      75       7767.9           2573    0.030315\n",
       "9  2019-08-05     B     101      98       9262.9           3280    0.030793\n",
       "11 2019-08-06     B     129     123      13069.3           3935    0.032783\n",
       "13 2019-08-07     B     153     146      16600.8           4644    0.032946\n",
       "15 2019-08-08     B     180     171      20088.6           5298    0.033975\n",
       "17 2019-08-09     B     205     193      22646.7           5908    0.034699\n",
       "19 2019-08-10     B     228     215      24367.1           6277    0.036323\n",
       "21 2019-08-11     B     241     228      25228.3           6998    0.034438\n",
       "23 2019-08-12     B     264     248      27474.0           7541    0.035009\n",
       "25 2019-08-13     B     285     268      29384.0           8310    0.034296\n",
       "27 2019-08-14     B     308     287      32095.7           9056    0.034011\n",
       "29 2019-08-15     B     339     317      37457.6           9600    0.035312\n",
       "31 2019-08-16     B     359     336      40155.3          10013    0.035853\n",
       "33 2019-08-17     B     373     349      41436.8          10434    0.035749\n",
       "35 2019-08-18     B     382     357      42481.7          11171    0.034196\n",
       "37 2019-08-19     B     403     377      64546.6          11658    0.034569\n",
       "39 2019-08-20     B     423     396      66871.2          12218    0.034621\n",
       "41 2019-08-21     B     437     407      69427.1          12874    0.033944\n",
       "43 2019-08-22     B     462     427      71987.9          13524    0.034161\n",
       "45 2019-08-23     B     477     440      73787.4          14070    0.033902\n",
       "47 2019-08-24     B     493     454      75314.6          14448    0.034122\n",
       "49 2019-08-25     B     507     466      76941.1          15127    0.033516\n",
       "51 2019-08-26     B     532     490      79841.5          15803    0.033664\n",
       "53 2019-08-27     B     548     504      82161.3          16523    0.033166\n",
       "55 2019-08-28     B     576     526      83719.3          17177    0.033533\n",
       "57 2019-08-29     B     596     544      87343.0          17708    0.033657\n",
       "59 2019-08-30     B     620     567      90736.3          18198    0.034070\n",
       "61 2019-08-31     B     640     586      92840.6          18916    0.033834"
      ]
     },
     "execution_count": 157,
     "metadata": {},
     "output_type": "execute_result"
    }
   ],
   "source": [
    "experimient_B"
   ]
  },
  {
   "cell_type": "code",
   "execution_count": 158,
   "metadata": {},
   "outputs": [
    {
     "data": {
      "image/png": "[encoded data removed]",
      "text/plain": [
       "<Figure size 1000x600 with 1 Axes>"
      ]
     },
     "metadata": {},
     "output_type": "display_data"
    }
   ],
   "source": [
    "# trazar graficos \n",
    "\n",
    "plt.figure(figsize=(10,6))\n",
    "plt.plot(experimient_A['date'], experimient_A['conversion'], label='A')\n",
    "plt.plot(experimient_B['date'], experimient_B['conversion'], label='B')\n",
    "\n",
    "plt.title('Tasa de conversion de cada grupo')\n",
    "plt.xlabel('Meses')\n",
    "plt.ylabel('Tasa de conversion (%)')\n",
    "plt.legend()\n",
    "plt.xticks(rotation=45)\n",
    "\n",
    "plt.show()"
   ]
  },
  {
   "cell_type": "markdown",
   "metadata": {},
   "source": [
    "En el grafico anterior, podemos ver como la conversion en el tiempo ha cambiado. El grupo A la conversión más alta fue el 1 de agosto y el grupo B fue el 9 de agosto. Sin embargo los picos más altos han sido del grupo B"
   ]
  },
  {
   "cell_type": "code",
   "execution_count": 159,
   "metadata": {},
   "outputs": [],
   "source": [
    "# Ahora vamos a analizar como se compara la conversion del Grupo A con el Grupo B \n",
    "\n",
    "union_conversion_groups = experimient_A[['date','conversion']].merge(\n",
    "    experimient_B[['date','conversion']],\n",
    "    left_on='date', \n",
    "    right_on='date',\n",
    "    suffixes=['A','B']\n",
    ")"
   ]
  },
  {
   "cell_type": "code",
   "execution_count": 160,
   "metadata": {},
   "outputs": [
    {
     "data": {
      "text/html": [
       "<div>\n",
       "<style scoped>\n",
       "    .dataframe tbody tr th:only-of-type {\n",
       "        vertical-align: middle;\n",
       "    }\n",
       "\n",
       "    .dataframe tbody tr th {\n",
       "        vertical-align: top;\n",
       "    }\n",
       "\n",
       "    .dataframe thead th {\n",
       "        text-align: right;\n",
       "    }\n",
       "</style>\n",
       "<table border=\"1\" class=\"dataframe\">\n",
       "  <thead>\n",
       "    <tr style=\"text-align: right;\">\n",
       "      <th></th>\n",
       "      <th>date</th>\n",
       "      <th>conversionA</th>\n",
       "      <th>conversionB</th>\n",
       "    </tr>\n",
       "  </thead>\n",
       "  <tbody>\n",
       "    <tr>\n",
       "      <th>0</th>\n",
       "      <td>2019-08-01</td>\n",
       "      <td>0.033380</td>\n",
       "      <td>0.029453</td>\n",
       "    </tr>\n",
       "    <tr>\n",
       "      <th>1</th>\n",
       "      <td>2019-08-02</td>\n",
       "      <td>0.032885</td>\n",
       "      <td>0.034776</td>\n",
       "    </tr>\n",
       "    <tr>\n",
       "      <th>2</th>\n",
       "      <td>2019-08-03</td>\n",
       "      <td>0.036856</td>\n",
       "      <td>0.033833</td>\n",
       "    </tr>\n",
       "    <tr>\n",
       "      <th>3</th>\n",
       "      <td>2019-08-04</td>\n",
       "      <td>0.032787</td>\n",
       "      <td>0.030315</td>\n",
       "    </tr>\n",
       "    <tr>\n",
       "      <th>4</th>\n",
       "      <td>2019-08-05</td>\n",
       "      <td>0.032851</td>\n",
       "      <td>0.030793</td>\n",
       "    </tr>\n",
       "    <tr>\n",
       "      <th>5</th>\n",
       "      <td>2019-08-06</td>\n",
       "      <td>0.031870</td>\n",
       "      <td>0.032783</td>\n",
       "    </tr>\n",
       "    <tr>\n",
       "      <th>6</th>\n",
       "      <td>2019-08-07</td>\n",
       "      <td>0.031324</td>\n",
       "      <td>0.032946</td>\n",
       "    </tr>\n",
       "    <tr>\n",
       "      <th>7</th>\n",
       "      <td>2019-08-08</td>\n",
       "      <td>0.030731</td>\n",
       "      <td>0.033975</td>\n",
       "    </tr>\n",
       "    <tr>\n",
       "      <th>8</th>\n",
       "      <td>2019-08-09</td>\n",
       "      <td>0.030225</td>\n",
       "      <td>0.034699</td>\n",
       "    </tr>\n",
       "    <tr>\n",
       "      <th>9</th>\n",
       "      <td>2019-08-10</td>\n",
       "      <td>0.030821</td>\n",
       "      <td>0.036323</td>\n",
       "    </tr>\n",
       "    <tr>\n",
       "      <th>10</th>\n",
       "      <td>2019-08-11</td>\n",
       "      <td>0.029513</td>\n",
       "      <td>0.034438</td>\n",
       "    </tr>\n",
       "    <tr>\n",
       "      <th>11</th>\n",
       "      <td>2019-08-12</td>\n",
       "      <td>0.030363</td>\n",
       "      <td>0.035009</td>\n",
       "    </tr>\n",
       "    <tr>\n",
       "      <th>12</th>\n",
       "      <td>2019-08-13</td>\n",
       "      <td>0.029316</td>\n",
       "      <td>0.034296</td>\n",
       "    </tr>\n",
       "    <tr>\n",
       "      <th>13</th>\n",
       "      <td>2019-08-14</td>\n",
       "      <td>0.029587</td>\n",
       "      <td>0.034011</td>\n",
       "    </tr>\n",
       "    <tr>\n",
       "      <th>14</th>\n",
       "      <td>2019-08-15</td>\n",
       "      <td>0.029217</td>\n",
       "      <td>0.035312</td>\n",
       "    </tr>\n",
       "    <tr>\n",
       "      <th>15</th>\n",
       "      <td>2019-08-16</td>\n",
       "      <td>0.029959</td>\n",
       "      <td>0.035853</td>\n",
       "    </tr>\n",
       "    <tr>\n",
       "      <th>16</th>\n",
       "      <td>2019-08-17</td>\n",
       "      <td>0.029735</td>\n",
       "      <td>0.035749</td>\n",
       "    </tr>\n",
       "    <tr>\n",
       "      <th>17</th>\n",
       "      <td>2019-08-18</td>\n",
       "      <td>0.029478</td>\n",
       "      <td>0.034196</td>\n",
       "    </tr>\n",
       "    <tr>\n",
       "      <th>18</th>\n",
       "      <td>2019-08-19</td>\n",
       "      <td>0.030097</td>\n",
       "      <td>0.034569</td>\n",
       "    </tr>\n",
       "    <tr>\n",
       "      <th>19</th>\n",
       "      <td>2019-08-20</td>\n",
       "      <td>0.029662</td>\n",
       "      <td>0.034621</td>\n",
       "    </tr>\n",
       "    <tr>\n",
       "      <th>20</th>\n",
       "      <td>2019-08-21</td>\n",
       "      <td>0.029961</td>\n",
       "      <td>0.033944</td>\n",
       "    </tr>\n",
       "    <tr>\n",
       "      <th>21</th>\n",
       "      <td>2019-08-22</td>\n",
       "      <td>0.029794</td>\n",
       "      <td>0.034161</td>\n",
       "    </tr>\n",
       "    <tr>\n",
       "      <th>22</th>\n",
       "      <td>2019-08-23</td>\n",
       "      <td>0.030588</td>\n",
       "      <td>0.033902</td>\n",
       "    </tr>\n",
       "    <tr>\n",
       "      <th>23</th>\n",
       "      <td>2019-08-24</td>\n",
       "      <td>0.030792</td>\n",
       "      <td>0.034122</td>\n",
       "    </tr>\n",
       "    <tr>\n",
       "      <th>24</th>\n",
       "      <td>2019-08-25</td>\n",
       "      <td>0.030181</td>\n",
       "      <td>0.033516</td>\n",
       "    </tr>\n",
       "    <tr>\n",
       "      <th>25</th>\n",
       "      <td>2019-08-26</td>\n",
       "      <td>0.029812</td>\n",
       "      <td>0.033664</td>\n",
       "    </tr>\n",
       "    <tr>\n",
       "      <th>26</th>\n",
       "      <td>2019-08-27</td>\n",
       "      <td>0.030227</td>\n",
       "      <td>0.033166</td>\n",
       "    </tr>\n",
       "    <tr>\n",
       "      <th>27</th>\n",
       "      <td>2019-08-28</td>\n",
       "      <td>0.030171</td>\n",
       "      <td>0.033533</td>\n",
       "    </tr>\n",
       "    <tr>\n",
       "      <th>28</th>\n",
       "      <td>2019-08-29</td>\n",
       "      <td>0.030433</td>\n",
       "      <td>0.033657</td>\n",
       "    </tr>\n",
       "    <tr>\n",
       "      <th>29</th>\n",
       "      <td>2019-08-30</td>\n",
       "      <td>0.030216</td>\n",
       "      <td>0.034070</td>\n",
       "    </tr>\n",
       "    <tr>\n",
       "      <th>30</th>\n",
       "      <td>2019-08-31</td>\n",
       "      <td>0.029729</td>\n",
       "      <td>0.033834</td>\n",
       "    </tr>\n",
       "  </tbody>\n",
       "</table>\n",
       "</div>"
      ],
      "text/plain": [
       "         date  conversionA  conversionB\n",
       "0  2019-08-01     0.033380     0.029453\n",
       "1  2019-08-02     0.032885     0.034776\n",
       "2  2019-08-03     0.036856     0.033833\n",
       "3  2019-08-04     0.032787     0.030315\n",
       "4  2019-08-05     0.032851     0.030793\n",
       "5  2019-08-06     0.031870     0.032783\n",
       "6  2019-08-07     0.031324     0.032946\n",
       "7  2019-08-08     0.030731     0.033975\n",
       "8  2019-08-09     0.030225     0.034699\n",
       "9  2019-08-10     0.030821     0.036323\n",
       "10 2019-08-11     0.029513     0.034438\n",
       "11 2019-08-12     0.030363     0.035009\n",
       "12 2019-08-13     0.029316     0.034296\n",
       "13 2019-08-14     0.029587     0.034011\n",
       "14 2019-08-15     0.029217     0.035312\n",
       "15 2019-08-16     0.029959     0.035853\n",
       "16 2019-08-17     0.029735     0.035749\n",
       "17 2019-08-18     0.029478     0.034196\n",
       "18 2019-08-19     0.030097     0.034569\n",
       "19 2019-08-20     0.029662     0.034621\n",
       "20 2019-08-21     0.029961     0.033944\n",
       "21 2019-08-22     0.029794     0.034161\n",
       "22 2019-08-23     0.030588     0.033902\n",
       "23 2019-08-24     0.030792     0.034122\n",
       "24 2019-08-25     0.030181     0.033516\n",
       "25 2019-08-26     0.029812     0.033664\n",
       "26 2019-08-27     0.030227     0.033166\n",
       "27 2019-08-28     0.030171     0.033533\n",
       "28 2019-08-29     0.030433     0.033657\n",
       "29 2019-08-30     0.030216     0.034070\n",
       "30 2019-08-31     0.029729     0.033834"
      ]
     },
     "execution_count": 160,
     "metadata": {},
     "output_type": "execute_result"
    }
   ],
   "source": [
    "union_conversion_groups"
   ]
  },
  {
   "cell_type": "code",
   "execution_count": 161,
   "metadata": {},
   "outputs": [
    {
     "data": {
      "image/png": "[encoded data removed]",
      "text/plain": [
       "<Figure size 1000x600 with 1 Axes>"
      ]
     },
     "metadata": {},
     "output_type": "display_data"
    }
   ],
   "source": [
    "# trazar grafico \n",
    "plt.figure(figsize=(10,6))\n",
    "\n",
    "plt.plot(\n",
    "    union_conversion_groups['date'],\n",
    "    union_conversion_groups['conversionB'] \n",
    "    / union_conversion_groups['conversionA']\n",
    "    -1)\n",
    "plt.xticks(rotation=45)\n",
    "\n",
    "plt.title('Diferencias relativas para las tasas de conversion acomuladas')\n",
    "plt.xlabel('Meses')\n",
    "plt.ylabel('Tasa de conversion (%)')\n",
    "plt.axhline(y=0, color='black', linestyle='--')\n",
    "plt.axhline(y=-0.1, color='gray', linestyle='--')\n",
    "\n",
    "plt.show()"
   ]
  },
  {
   "cell_type": "markdown",
   "metadata": {},
   "source": [
    "En la grafica anterior, se puede dar cuenta como el Grupo B excede la conversion del grupo A "
   ]
  },
  {
   "cell_type": "markdown",
   "metadata": {},
   "source": [
    "### Grafico de dispersión del número de pedidos por usuario"
   ]
  },
  {
   "cell_type": "markdown",
   "metadata": {},
   "source": [
    "#Es necesario detectar las anomalias, ya que esto me permite detectar los mejores clientes, ordenes fraudulentas, peores clientes "
   ]
  },
  {
   "cell_type": "code",
   "execution_count": 162,
   "metadata": {},
   "outputs": [
    {
     "data": {
      "text/html": [
       "<div>\n",
       "<style scoped>\n",
       "    .dataframe tbody tr th:only-of-type {\n",
       "        vertical-align: middle;\n",
       "    }\n",
       "\n",
       "    .dataframe tbody tr th {\n",
       "        vertical-align: top;\n",
       "    }\n",
       "\n",
       "    .dataframe thead th {\n",
       "        text-align: right;\n",
       "    }\n",
       "</style>\n",
       "<table border=\"1\" class=\"dataframe\">\n",
       "  <thead>\n",
       "    <tr style=\"text-align: right;\">\n",
       "      <th></th>\n",
       "      <th>visitorId</th>\n",
       "      <th>order_count</th>\n",
       "    </tr>\n",
       "  </thead>\n",
       "  <tbody>\n",
       "    <tr>\n",
       "      <th>0</th>\n",
       "      <td>5114589</td>\n",
       "      <td>1</td>\n",
       "    </tr>\n",
       "    <tr>\n",
       "      <th>1</th>\n",
       "      <td>6958315</td>\n",
       "      <td>1</td>\n",
       "    </tr>\n",
       "    <tr>\n",
       "      <th>2</th>\n",
       "      <td>8300375</td>\n",
       "      <td>2</td>\n",
       "    </tr>\n",
       "    <tr>\n",
       "      <th>3</th>\n",
       "      <td>11685486</td>\n",
       "      <td>1</td>\n",
       "    </tr>\n",
       "    <tr>\n",
       "      <th>4</th>\n",
       "      <td>39475350</td>\n",
       "      <td>1</td>\n",
       "    </tr>\n",
       "    <tr>\n",
       "      <th>...</th>\n",
       "      <td>...</td>\n",
       "      <td>...</td>\n",
       "    </tr>\n",
       "    <tr>\n",
       "      <th>1026</th>\n",
       "      <td>4266935830</td>\n",
       "      <td>2</td>\n",
       "    </tr>\n",
       "    <tr>\n",
       "      <th>1027</th>\n",
       "      <td>4278982564</td>\n",
       "      <td>1</td>\n",
       "    </tr>\n",
       "    <tr>\n",
       "      <th>1028</th>\n",
       "      <td>4279090005</td>\n",
       "      <td>1</td>\n",
       "    </tr>\n",
       "    <tr>\n",
       "      <th>1029</th>\n",
       "      <td>4281247801</td>\n",
       "      <td>1</td>\n",
       "    </tr>\n",
       "    <tr>\n",
       "      <th>1030</th>\n",
       "      <td>4283872382</td>\n",
       "      <td>1</td>\n",
       "    </tr>\n",
       "  </tbody>\n",
       "</table>\n",
       "<p>1031 rows × 2 columns</p>\n",
       "</div>"
      ],
      "text/plain": [
       "       visitorId  order_count\n",
       "0        5114589            1\n",
       "1        6958315            1\n",
       "2        8300375            2\n",
       "3       11685486            1\n",
       "4       39475350            1\n",
       "...          ...          ...\n",
       "1026  4266935830            2\n",
       "1027  4278982564            1\n",
       "1028  4279090005            1\n",
       "1029  4281247801            1\n",
       "1030  4283872382            1\n",
       "\n",
       "[1031 rows x 2 columns]"
      ]
     },
     "execution_count": 162,
     "metadata": {},
     "output_type": "execute_result"
    }
   ],
   "source": [
    "orders_users = orders.groupby('visitorId').size().reset_index(name='order_count')\n",
    "orders_users"
   ]
  },
  {
   "cell_type": "code",
   "execution_count": 163,
   "metadata": {},
   "outputs": [
    {
     "data": {
      "text/html": [
       "<div>\n",
       "<style scoped>\n",
       "    .dataframe tbody tr th:only-of-type {\n",
       "        vertical-align: middle;\n",
       "    }\n",
       "\n",
       "    .dataframe tbody tr th {\n",
       "        vertical-align: top;\n",
       "    }\n",
       "\n",
       "    .dataframe thead th {\n",
       "        text-align: right;\n",
       "    }\n",
       "</style>\n",
       "<table border=\"1\" class=\"dataframe\">\n",
       "  <thead>\n",
       "    <tr style=\"text-align: right;\">\n",
       "      <th></th>\n",
       "      <th>userId</th>\n",
       "      <th>orders</th>\n",
       "    </tr>\n",
       "  </thead>\n",
       "  <tbody>\n",
       "    <tr>\n",
       "      <th>1023</th>\n",
       "      <td>4256040402</td>\n",
       "      <td>11</td>\n",
       "    </tr>\n",
       "    <tr>\n",
       "      <th>591</th>\n",
       "      <td>2458001652</td>\n",
       "      <td>11</td>\n",
       "    </tr>\n",
       "    <tr>\n",
       "      <th>569</th>\n",
       "      <td>2378935119</td>\n",
       "      <td>9</td>\n",
       "    </tr>\n",
       "    <tr>\n",
       "      <th>487</th>\n",
       "      <td>2038680547</td>\n",
       "      <td>8</td>\n",
       "    </tr>\n",
       "    <tr>\n",
       "      <th>44</th>\n",
       "      <td>199603092</td>\n",
       "      <td>5</td>\n",
       "    </tr>\n",
       "    <tr>\n",
       "      <th>...</th>\n",
       "      <td>...</td>\n",
       "      <td>...</td>\n",
       "    </tr>\n",
       "    <tr>\n",
       "      <th>359</th>\n",
       "      <td>1484903144</td>\n",
       "      <td>1</td>\n",
       "    </tr>\n",
       "    <tr>\n",
       "      <th>360</th>\n",
       "      <td>1485964287</td>\n",
       "      <td>1</td>\n",
       "    </tr>\n",
       "    <tr>\n",
       "      <th>361</th>\n",
       "      <td>1494664757</td>\n",
       "      <td>1</td>\n",
       "    </tr>\n",
       "    <tr>\n",
       "      <th>362</th>\n",
       "      <td>1495112755</td>\n",
       "      <td>1</td>\n",
       "    </tr>\n",
       "    <tr>\n",
       "      <th>1030</th>\n",
       "      <td>4283872382</td>\n",
       "      <td>1</td>\n",
       "    </tr>\n",
       "  </tbody>\n",
       "</table>\n",
       "<p>1031 rows × 2 columns</p>\n",
       "</div>"
      ],
      "text/plain": [
       "          userId  orders\n",
       "1023  4256040402      11\n",
       "591   2458001652      11\n",
       "569   2378935119       9\n",
       "487   2038680547       8\n",
       "44     199603092       5\n",
       "...          ...     ...\n",
       "359   1484903144       1\n",
       "360   1485964287       1\n",
       "361   1494664757       1\n",
       "362   1495112755       1\n",
       "1030  4283872382       1\n",
       "\n",
       "[1031 rows x 2 columns]"
      ]
     },
     "execution_count": 163,
     "metadata": {},
     "output_type": "execute_result"
    }
   ],
   "source": [
    "#Modificamos las columnas:\n",
    "\n",
    "orders_users.columns = ['userId', 'orders']\n",
    "orders_users.sort_values(ascending=False, by ='orders')"
   ]
  },
  {
   "cell_type": "markdown",
   "metadata": {},
   "source": [
    "#Se puede identificar que el usuario con mayor ordenes es el: 4256040402 y el 2458001652"
   ]
  },
  {
   "cell_type": "code",
   "execution_count": 164,
   "metadata": {},
   "outputs": [
    {
     "data": {
      "image/png": "[encoded data removed]",
      "text/plain": [
       "<Figure size 1000x600 with 1 Axes>"
      ]
     },
     "metadata": {},
     "output_type": "display_data"
    }
   ],
   "source": [
    "# Histograma de la distribucion de el numero de pedidos por usuario\n",
    "\n",
    "plt.figure(figsize=(10,6))\n",
    "\n",
    "plt.hist(orders_users['orders'])\n",
    "\n",
    "plt.title('Distribución del numero de pedidos por usuario')\n",
    "plt.xlabel('Número de pedidos')\n",
    "plt.ylabel('Usuarios')\n",
    "plt.show()"
   ]
  },
  {
   "cell_type": "markdown",
   "metadata": {},
   "source": [
    "En esta grafica se puede ver la distribución de las ordenes por usuario, en donde aproximadamente 900 usuarios realizan entre 0 y 2 ordenes, y mas o menos 80 usuarios realizan mayor a 2 ordenes"
   ]
  },
  {
   "cell_type": "code",
   "execution_count": 165,
   "metadata": {},
   "outputs": [
    {
     "data": {
      "image/png": "[encoded data removed]",
      "text/plain": [
       "<Figure size 640x480 with 1 Axes>"
      ]
     },
     "metadata": {},
     "output_type": "display_data"
    }
   ],
   "source": [
    "# crear grafico de dispersion\n",
    "\n",
    "x_values = pd.Series(range(0, len (orders_users)))\n",
    "\n",
    "plt.scatter(x_values, orders_users['orders'])\n",
    "plt.title('Numero de pedidos por usuario')\n",
    "plt.xlabel('VisitorId')\n",
    "plt.ylabel('Numero de pedidos')\n",
    "\n",
    "plt.show()"
   ]
  },
  {
   "cell_type": "markdown",
   "metadata": {},
   "source": [
    "En la grafica anterior, podemos identificar que la mayoria de usuarios realizan 1 orden, seguido de 2 ordenes. Aunque hay usuarios que tienen mas de 4 ordenes "
   ]
  },
  {
   "cell_type": "markdown",
   "metadata": {},
   "source": [
    "<div class=\"alert alert-block alert-success\">\n",
    "<b>Comentario del revisor (1ra Iteracion)</b> <a class=“tocSkip”></a>\n",
    "\n",
    "Excelente trabajo con las visualizaciones y conclusiones desde las mismas, se pueden ver de manera correcta las diferencias entre grupos\n",
    "</div>"
   ]
  },
  {
   "cell_type": "markdown",
   "metadata": {},
   "source": [
    "### Calculo de percentiles del numero de pedidos por usuario"
   ]
  },
  {
   "cell_type": "code",
   "execution_count": 166,
   "metadata": {},
   "outputs": [
    {
     "name": "stdout",
     "output_type": "stream",
     "text": [
      "[ 1.  2.  4. 11.]\n"
     ]
    }
   ],
   "source": [
    "# Vamos analizar los percentiles\n",
    "\n",
    "print(np.percentile(orders_users['orders'], [90,95,99,100]))"
   ]
  },
  {
   "cell_type": "markdown",
   "metadata": {},
   "source": [
    "Esto quiere decir que en porcentaje, el 90% de los usuarios realizan 1 orden, del 90% al 95% realizan 2, el 99% realizan 4 y hay valores atipicos o anormales que realizan 11 ordenes"
   ]
  },
  {
   "cell_type": "markdown",
   "metadata": {},
   "source": [
    "### Grafico de dispersion de los precios de los pedidos"
   ]
  },
  {
   "cell_type": "code",
   "execution_count": 167,
   "metadata": {},
   "outputs": [
    {
     "data": {
      "text/plain": [
       "0          0\n",
       "1          1\n",
       "2          2\n",
       "3          3\n",
       "4          4\n",
       "        ... \n",
       "1192    1192\n",
       "1193    1193\n",
       "1194    1194\n",
       "1195    1195\n",
       "1196    1196\n",
       "Length: 1197, dtype: int64"
      ]
     },
     "execution_count": 167,
     "metadata": {},
     "output_type": "execute_result"
    }
   ],
   "source": [
    "# Grafico de dispersion de los precios de los pedidos\n",
    "\n",
    "xvalues = pd.Series(range(0, len(orders['revenue'])))\n",
    "xvalues"
   ]
  },
  {
   "cell_type": "code",
   "execution_count": 168,
   "metadata": {},
   "outputs": [
    {
     "data": {
      "image/png": "[encoded data removed]",
      "text/plain": [
       "<Figure size 1000x600 with 1 Axes>"
      ]
     },
     "metadata": {},
     "output_type": "display_data"
    }
   ],
   "source": [
    "# investigar la distribucion de los precios de los pedidos \n",
    "\n",
    "plt.figure(figsize=(10,6))\n",
    "plt.hist(orders['revenue'])\n",
    "\n",
    "plt.title('Distribución de los precios de los pedidos')\n",
    "plt.xlabel('Precio del pedido')\n",
    "plt.ylabel('Frecuencia')\n",
    "plt.show()"
   ]
  },
  {
   "cell_type": "markdown",
   "metadata": {},
   "source": [
    "La gran mayoría de los pedidos tiene precios bajos (cercanos a 0 o dentro de un rango pequeño, probablemente menor a 2,500).\n",
    "Hay pocos o ningún pedido con precios superiores a aproximadamente 2,500, lo que hace que el resto del eje X esté casi vacío.\n",
    "Es posible que haya valores atípicos (outliers) con precios muy altos, lo que extiende el rango del eje X hasta 20,000, pero estos tienen frecuencias extremadamente bajas. Los precios de los pedidos son bajos,esto podría deberse a descuentos, productos económicos, o clientes con presupuestos bajos"
   ]
  },
  {
   "cell_type": "code",
   "execution_count": 169,
   "metadata": {
    "scrolled": false
   },
   "outputs": [
    {
     "data": {
      "image/png": "[encoded data removed]",
      "text/plain": [
       "<Figure size 1000x600 with 1 Axes>"
      ]
     },
     "metadata": {},
     "output_type": "display_data"
    }
   ],
   "source": [
    "# grafico de dispersion\n",
    "\n",
    "plt.figure(figsize=(10,6))\n",
    "plt.scatter(xvalues, orders['revenue'])\n",
    "\n",
    "plt.title('Distribución de precios de los pedidos')\n",
    "plt.ylabel('Precio del pedido')\n",
    "plt.xlabel('Indice de pedidos')\n",
    "\n",
    "plt.show()"
   ]
  },
  {
   "cell_type": "markdown",
   "metadata": {},
   "source": [
    "·Tal y como vimos en la tabla anteior, La gran mayoría de los pedidos tienen precios muy bajos, lo que puede sugerir que la empresa tiene productos estándar con precios constantes bajos. "
   ]
  },
  {
   "cell_type": "markdown",
   "metadata": {},
   "source": [
    "### Calcular percentiles de los precios de pedidos"
   ]
  },
  {
   "cell_type": "code",
   "execution_count": 170,
   "metadata": {},
   "outputs": [
    {
     "name": "stdout",
     "output_type": "stream",
     "text": [
      "[  282.48    435.54    900.904 19920.4  ]\n"
     ]
    }
   ],
   "source": [
    "print(np.percentile(orders['revenue'], [90,95,99,100]))"
   ]
  },
  {
   "cell_type": "markdown",
   "metadata": {},
   "source": [
    "Al realizar el calculo de los percentiles se puede concluir que el 90% de los usuarios ordenan productos con un costo de 282.48, el 5 por ciento de los usuarios ordenan productos con un valor de 435.54 y un 1% piden productos con unn valor de $900.904. Por ultimo hay un usuario que pidio productos con un valor de 19920.4. Este usuario y los del 1% podrian ser considerados para recibir alguna recompensa."
   ]
  },
  {
   "cell_type": "markdown",
   "metadata": {},
   "source": [
    "<div class=\"alert alert-block alert-success\">\n",
    "<b>Comentario general (1ra Iteracion)</b> <a class=“tocSkip”></a>\n",
    "\n",
    "Buen trabajo revisando los percentiles, encontrar valores anómalos puede ser crucial al momento de mostrar métricas correctas ya que estos pueden afectar los resultados finales\n",
    "</div>"
   ]
  },
  {
   "cell_type": "markdown",
   "metadata": {},
   "source": [
    "### Significancia estadística de la diferencia en la conversion entre los grupos con datos brutos"
   ]
  },
  {
   "cell_type": "code",
   "execution_count": 171,
   "metadata": {},
   "outputs": [],
   "source": [
    "# crear variables con las ordenes por usuario de acuerdo al grupo\n",
    "\n",
    "ordersA = orders[orders['group'] == 'A'].groupby('visitorId', as_index=False).agg({'transactionId':pd.Series.nunique})\n",
    "# renombrar las columnas \n",
    "ordersA.columns= ['userId', 'orders']"
   ]
  },
  {
   "cell_type": "code",
   "execution_count": 172,
   "metadata": {},
   "outputs": [
    {
     "data": {
      "text/html": [
       "<div>\n",
       "<style scoped>\n",
       "    .dataframe tbody tr th:only-of-type {\n",
       "        vertical-align: middle;\n",
       "    }\n",
       "\n",
       "    .dataframe tbody tr th {\n",
       "        vertical-align: top;\n",
       "    }\n",
       "\n",
       "    .dataframe thead th {\n",
       "        text-align: right;\n",
       "    }\n",
       "</style>\n",
       "<table border=\"1\" class=\"dataframe\">\n",
       "  <thead>\n",
       "    <tr style=\"text-align: right;\">\n",
       "      <th></th>\n",
       "      <th>userId</th>\n",
       "      <th>orders</th>\n",
       "    </tr>\n",
       "  </thead>\n",
       "  <tbody>\n",
       "    <tr>\n",
       "      <th>0</th>\n",
       "      <td>8300375</td>\n",
       "      <td>1</td>\n",
       "    </tr>\n",
       "    <tr>\n",
       "      <th>1</th>\n",
       "      <td>11685486</td>\n",
       "      <td>1</td>\n",
       "    </tr>\n",
       "    <tr>\n",
       "      <th>2</th>\n",
       "      <td>54447517</td>\n",
       "      <td>1</td>\n",
       "    </tr>\n",
       "    <tr>\n",
       "      <th>3</th>\n",
       "      <td>66685450</td>\n",
       "      <td>1</td>\n",
       "    </tr>\n",
       "    <tr>\n",
       "      <th>4</th>\n",
       "      <td>78758296</td>\n",
       "      <td>1</td>\n",
       "    </tr>\n",
       "    <tr>\n",
       "      <th>...</th>\n",
       "      <td>...</td>\n",
       "      <td>...</td>\n",
       "    </tr>\n",
       "    <tr>\n",
       "      <th>498</th>\n",
       "      <td>4243832526</td>\n",
       "      <td>1</td>\n",
       "    </tr>\n",
       "    <tr>\n",
       "      <th>499</th>\n",
       "      <td>4256040402</td>\n",
       "      <td>7</td>\n",
       "    </tr>\n",
       "    <tr>\n",
       "      <th>500</th>\n",
       "      <td>4259830713</td>\n",
       "      <td>1</td>\n",
       "    </tr>\n",
       "    <tr>\n",
       "      <th>501</th>\n",
       "      <td>4266935830</td>\n",
       "      <td>1</td>\n",
       "    </tr>\n",
       "    <tr>\n",
       "      <th>502</th>\n",
       "      <td>4278982564</td>\n",
       "      <td>1</td>\n",
       "    </tr>\n",
       "  </tbody>\n",
       "</table>\n",
       "<p>503 rows × 2 columns</p>\n",
       "</div>"
      ],
      "text/plain": [
       "         userId  orders\n",
       "0       8300375       1\n",
       "1      11685486       1\n",
       "2      54447517       1\n",
       "3      66685450       1\n",
       "4      78758296       1\n",
       "..          ...     ...\n",
       "498  4243832526       1\n",
       "499  4256040402       7\n",
       "500  4259830713       1\n",
       "501  4266935830       1\n",
       "502  4278982564       1\n",
       "\n",
       "[503 rows x 2 columns]"
      ]
     },
     "execution_count": 172,
     "metadata": {},
     "output_type": "execute_result"
    }
   ],
   "source": [
    "ordersA"
   ]
  },
  {
   "cell_type": "code",
   "execution_count": 173,
   "metadata": {},
   "outputs": [],
   "source": [
    "ordersB = orders[orders['group'] == 'B'].groupby('visitorId', as_index=False).agg({'transactionId':pd.Series.nunique})\n",
    "# renombrar las columnas \n",
    "ordersB.columns= ['userId', 'orders']"
   ]
  },
  {
   "cell_type": "code",
   "execution_count": 174,
   "metadata": {},
   "outputs": [
    {
     "data": {
      "text/html": [
       "<div>\n",
       "<style scoped>\n",
       "    .dataframe tbody tr th:only-of-type {\n",
       "        vertical-align: middle;\n",
       "    }\n",
       "\n",
       "    .dataframe tbody tr th {\n",
       "        vertical-align: top;\n",
       "    }\n",
       "\n",
       "    .dataframe thead th {\n",
       "        text-align: right;\n",
       "    }\n",
       "</style>\n",
       "<table border=\"1\" class=\"dataframe\">\n",
       "  <thead>\n",
       "    <tr style=\"text-align: right;\">\n",
       "      <th></th>\n",
       "      <th>userId</th>\n",
       "      <th>orders</th>\n",
       "    </tr>\n",
       "  </thead>\n",
       "  <tbody>\n",
       "    <tr>\n",
       "      <th>0</th>\n",
       "      <td>5114589</td>\n",
       "      <td>1</td>\n",
       "    </tr>\n",
       "    <tr>\n",
       "      <th>1</th>\n",
       "      <td>6958315</td>\n",
       "      <td>1</td>\n",
       "    </tr>\n",
       "    <tr>\n",
       "      <th>2</th>\n",
       "      <td>8300375</td>\n",
       "      <td>1</td>\n",
       "    </tr>\n",
       "    <tr>\n",
       "      <th>3</th>\n",
       "      <td>39475350</td>\n",
       "      <td>1</td>\n",
       "    </tr>\n",
       "    <tr>\n",
       "      <th>4</th>\n",
       "      <td>47206413</td>\n",
       "      <td>1</td>\n",
       "    </tr>\n",
       "    <tr>\n",
       "      <th>...</th>\n",
       "      <td>...</td>\n",
       "      <td>...</td>\n",
       "    </tr>\n",
       "    <tr>\n",
       "      <th>581</th>\n",
       "      <td>4258103007</td>\n",
       "      <td>1</td>\n",
       "    </tr>\n",
       "    <tr>\n",
       "      <th>582</th>\n",
       "      <td>4266935830</td>\n",
       "      <td>1</td>\n",
       "    </tr>\n",
       "    <tr>\n",
       "      <th>583</th>\n",
       "      <td>4279090005</td>\n",
       "      <td>1</td>\n",
       "    </tr>\n",
       "    <tr>\n",
       "      <th>584</th>\n",
       "      <td>4281247801</td>\n",
       "      <td>1</td>\n",
       "    </tr>\n",
       "    <tr>\n",
       "      <th>585</th>\n",
       "      <td>4283872382</td>\n",
       "      <td>1</td>\n",
       "    </tr>\n",
       "  </tbody>\n",
       "</table>\n",
       "<p>586 rows × 2 columns</p>\n",
       "</div>"
      ],
      "text/plain": [
       "         userId  orders\n",
       "0       5114589       1\n",
       "1       6958315       1\n",
       "2       8300375       1\n",
       "3      39475350       1\n",
       "4      47206413       1\n",
       "..          ...     ...\n",
       "581  4258103007       1\n",
       "582  4266935830       1\n",
       "583  4279090005       1\n",
       "584  4281247801       1\n",
       "585  4283872382       1\n",
       "\n",
       "[586 rows x 2 columns]"
      ]
     },
     "execution_count": 174,
     "metadata": {},
     "output_type": "execute_result"
    }
   ],
   "source": [
    "ordersB "
   ]
  },
  {
   "cell_type": "code",
   "execution_count": 175,
   "metadata": {},
   "outputs": [],
   "source": [
    "# crear variables Sample para crear una series con puntaje 0 si es que no tuvieron pedidos, necesario para la prueba\n",
    "# U de Mann\n",
    "\n",
    "sampleA = pd.concat(\n",
    "    [\n",
    "        ordersA['orders'],\n",
    "        pd.Series(0,\n",
    "                  index=np.arange(visits[visits['group'] =='A']['visits'].sum() - len(ordersA['orders'])),\n",
    "                  name='orders'\n",
    "                 )\n",
    "    ],\n",
    "    axis=0\n",
    ")"
   ]
  },
  {
   "cell_type": "code",
   "execution_count": 176,
   "metadata": {},
   "outputs": [],
   "source": [
    "sampleB = pd.concat(\n",
    "    [\n",
    "        ordersB['orders'],\n",
    "        pd.Series(0,\n",
    "                  index=np.arange(visits[visits['group'] =='B']['visits'].sum() - len(ordersB['orders'])),\n",
    "                  name='orders'\n",
    "                 )\n",
    "    ],\n",
    "    axis=0\n",
    ")"
   ]
  },
  {
   "cell_type": "code",
   "execution_count": 177,
   "metadata": {},
   "outputs": [
    {
     "name": "stdout",
     "output_type": "stream",
     "text": [
      "P-valor: 0.017\n",
      "Ganancia relativa en la conversión: 0.138\n"
     ]
    }
   ],
   "source": [
    "# imprimir la ganancia relativa de conversion\n",
    "\n",
    "print(\"P-valor: {0:.3f}\".format(stats.mannwhitneyu(sampleA, sampleB)[1]))\n",
    "print(\"Ganancia relativa en la conversión: {0:.3f}\".format(sampleB.mean() / sampleA.mean()-1))"
   ]
  },
  {
   "cell_type": "markdown",
   "metadata": {},
   "source": [
    "Al realizar la prueba U de Mann se obtuvo que el valor p es de 0.017 lo que es menor que un alpha de 0.05 lo que indica que hay una diferencia significativa en las distribuciones de las conversiones entre los Grupos A y B. Por otra parte se obtuvo un valor de 0.138 lo que indica que el grupo B tuvo aproximadamente un 13.8% de mayor ganancia en la tasa de conversion sobre el Grupo A. Por lo anterior, la estrategia de marketing del Grupo B tiene mejores resultados, como se observo en los graficos anteriores"
   ]
  },
  {
   "cell_type": "markdown",
   "metadata": {},
   "source": [
    "###  Significancia estadistica de la diferencia en el tamaño promedio de pedidos entre los grupos utilizando datos en bruto"
   ]
  },
  {
   "cell_type": "code",
   "execution_count": 178,
   "metadata": {},
   "outputs": [
    {
     "name": "stdout",
     "output_type": "stream",
     "text": [
      "P-valor: 0.692\n",
      "Ganancia relativa en el tamaño promedio de pedidos: 0.252\n"
     ]
    }
   ],
   "source": [
    "print('P-valor: {0:.3f}'.format(stats.mannwhitneyu(orders[orders['group']=='A']['revenue'],\n",
    "                                          orders[orders['group']=='B']['revenue'])[1]))\n",
    "\n",
    "print('Ganancia relativa en el tamaño promedio de pedidos: {0:.3f}'.format(orders[orders['group']=='B']['revenue'].mean()/\n",
    "                       orders[orders['group']=='A']['revenue'].mean()-1))"
   ]
  },
  {
   "cell_type": "markdown",
   "metadata": {},
   "source": [
    "Sin embargo al realizar la prueba U de Mann para el tamaño promedio de pedidos, se encontro que el valor p de 0.692 es mucho mayor a un alpha de 0.05, por lo cual no se podria rechazar la hipotesis nula, lo que indica que no hay una diferencia significativa en el tamaño de pedidos promedio de ambos grupos.\n",
    "Por otra parte se obtuvo un valor de 0.252 o 25.2% mayor de tamaño promedio del Grupo B que el Grupo A sin embargo con el resultado del valor p, indica que esta diferencia podria deberse al azar ya que no es estadisticamente significativa"
   ]
  },
  {
   "cell_type": "markdown",
   "metadata": {},
   "source": [
    "<div class=\"alert alert-block alert-warning\">\n",
    "<b>Comentario general (1ra Iteracion)</b> <a class=“tocSkip”></a>\n",
    "\n",
    "Buen trabajo aplicando las pruebas de hipótesis con los datos sin filtrar, veamos como resulta la misma prueba con los datos filtrados. Te recomiendo que aproveches más los strings formateados agregando texto que describa el valor que vas a mostrar, así es más fácil entender lo que quieres comunicar con esos números\n",
    "</div>"
   ]
  },
  {
   "cell_type": "markdown",
   "metadata": {},
   "source": [
    "### Significancia estadistica de la diferencia en la conversion entre los grupos usando datos filtrados"
   ]
  },
  {
   "cell_type": "code",
   "execution_count": 179,
   "metadata": {},
   "outputs": [
    {
     "name": "stdout",
     "output_type": "stream",
     "text": [
      "1099    148427295\n",
      "18      199603092\n",
      "928     204675465\n",
      "23      237748145\n",
      "37      249864742\n",
      "dtype: int64\n",
      "(73,)\n"
     ]
    }
   ],
   "source": [
    "# encontar el numero de usuarios con valores atipicos\n",
    "\n",
    "usersManyOrders = pd.concat(\n",
    "    [\n",
    "        ordersA[ordersA['orders'] > 2]['userId'], \n",
    "        ordersB[ordersB['orders'] > 2]['userId']\n",
    "    ], \n",
    "    axis = 0\n",
    ")\n",
    "\n",
    "usersSpentOrders = orders[orders['revenue'] > 436]['visitorId']\n",
    "\n",
    "abnormalUsers = pd.concat(\n",
    "    [usersManyOrders, usersSpentOrders], axis = 0).drop_duplicates().sort_values()\n",
    "\n",
    "print(abnormalUsers.head())\n",
    "print(abnormalUsers.shape)"
   ]
  },
  {
   "cell_type": "code",
   "execution_count": 180,
   "metadata": {},
   "outputs": [],
   "source": [
    "# filtrar los datos anomalos Grupo A\n",
    "\n",
    "sampleAFiltro = pd.concat(\n",
    "    [\n",
    "        ordersA[np.logical_not(ordersA['userId'].isin(abnormalUsers))]['orders'],\n",
    "        pd.Series(\n",
    "            0,\n",
    "            index=np.arange(visits[visits['group'] == 'A']['visits'].sum() - len(ordersA[np.logical_not(ordersA['userId'].isin(abnormalUsers))]['orders'])),\n",
    "            name='orders'\n",
    "        )\n",
    "    ],\n",
    "    axis=0\n",
    ")"
   ]
  },
  {
   "cell_type": "code",
   "execution_count": 181,
   "metadata": {},
   "outputs": [],
   "source": [
    "# filtro de datos Grupo B\n",
    "sampleBFiltro = pd.concat(\n",
    "    [\n",
    "        ordersB[np.logical_not(ordersB['userId'].isin(abnormalUsers))]['orders'],\n",
    "        pd.Series(\n",
    "            0,\n",
    "            index=np.arange(visits[visits['group'] == 'B']['visits'].sum() - len(ordersB[np.logical_not(ordersB['userId'].isin(abnormalUsers))]['orders'])),\n",
    "            name='orders'\n",
    "        )\n",
    "    ],\n",
    "    axis=0\n",
    ")"
   ]
  },
  {
   "cell_type": "code",
   "execution_count": 182,
   "metadata": {},
   "outputs": [
    {
     "name": "stdout",
     "output_type": "stream",
     "text": [
      "P-valor: 0.014\n",
      "Ganancia relativa en la conversión: 1.170\n"
     ]
    }
   ],
   "source": [
    "# aplicar la prueba U de Mann \n",
    "print(\"P-valor: {0:.3f}\".format(stats.mannwhitneyu(sampleAFiltro, sampleBFiltro)[1]))\n",
    "print(\"Ganancia relativa en la conversión: {0:.3f}\".format(sampleBFiltro.mean() / sampleAFiltro.mean()))"
   ]
  },
  {
   "cell_type": "markdown",
   "metadata": {},
   "source": [
    "Al calcular la significancia estadistica de la conversion entre grupos pero usando datos filtrados se encontro que el valor p tuvo un valor de 0.014 lo que es menor a un alpha de 0.05 lo que indica que existen diferencias significativas en la conversion entre el Grupo A y el grupo B, por otra parte se obtuvo un valor de 1.170 o 17% mayor de ganancia relativa en la conversion del Grupo B que del Grupo A, esto da como resultado que el Grupo B mostro un mayor desempeño en la tasa conversion con los datos filtrados."
   ]
  },
  {
   "cell_type": "markdown",
   "metadata": {},
   "source": [
    "### Significancia estadística de la diferencia en el tamaño promedio de pedido entre los grupos utilizando datos filtrados"
   ]
  },
  {
   "cell_type": "code",
   "execution_count": 183,
   "metadata": {},
   "outputs": [
    {
     "name": "stdout",
     "output_type": "stream",
     "text": [
      "P-valor:  0.744\n"
     ]
    }
   ],
   "source": [
    "# Mostrar el valor p calculado con la prueba U de Mann\n",
    "\n",
    "print(\"P-valor:  {0:.3f}\".format(stats.mannwhitneyu(\n",
    "    orders[np.logical_and(\n",
    "        orders['group'] == 'A',\n",
    "        np.logical_not(orders['visitorId'].isin(abnormalUsers)))]['revenue'],\n",
    "    orders[np.logical_and(\n",
    "        orders['group'] == 'B',\n",
    "        np.logical_not(orders['visitorId'].isin(abnormalUsers)))]['revenue']\n",
    ")[1]))"
   ]
  },
  {
   "cell_type": "code",
   "execution_count": 184,
   "metadata": {},
   "outputs": [
    {
     "name": "stdout",
     "output_type": "stream",
     "text": [
      "Diferencia relativa en el tamaño promedio del pedido: -0.028\n"
     ]
    }
   ],
   "source": [
    "# Mostrar la diferencia relativa en el ingreso promedio entre A y B\n",
    "\n",
    "print(\"Diferencia relativa en el tamaño promedio del pedido: {0:.3f}\".format(\n",
    "    orders[np.logical_and(orders['group'] == 'B',\n",
    "                          np.logical_not(orders['visitorId'].isin(abnormalUsers)))]['revenue'].mean() / \n",
    "    orders[np.logical_and(orders['group'] == 'A',\n",
    "                          np.logical_not(orders['visitorId'].isin(abnormalUsers)))]['revenue'].mean()-1 ))"
   ]
  },
  {
   "cell_type": "markdown",
   "metadata": {},
   "source": [
    "Por ultimo al calcular la significancia del tamaño promedio de pedidos se obtuvo un valor p de 0.744 lo cual es mayor a un alpha de 0.05 lo que indica que no existe una diferencia estadisticamente significativa, lo cual podria indicar que la diferencia se deba al azar. Por otra parte la diferencia relativa es de -0.028 o -2.8% lo que indica que los pedidos en el Grupo B son aproximadamente 2.8% menor que en el grupo A. Lo que puede sugerir que un cambio evaluado no afecta significativamente el tamaño promedio de los pedidos en estos grupos."
   ]
  },
  {
   "cell_type": "markdown",
   "metadata": {},
   "source": [
    "<div class=\"alert alert-block alert-success\">\n",
    "<b>Comentario general (1ra Iteracion)</b> <a class=“tocSkip”></a>\n",
    "\n",
    "Muy bien aplicada la prueba de hipótesis con los datos filtrados!\n",
    "</div>"
   ]
  },
  {
   "cell_type": "markdown",
   "metadata": {},
   "source": [
    "### Tomar una decision basada en los resultados de la prueba"
   ]
  },
  {
   "cell_type": "markdown",
   "metadata": {},
   "source": [
    "\n",
    "Basándome en los resultados obtenidos de las pruebas y en la observación, el Grupo B muestra una ventaja significativa en la tasa de conversion teniendo un 17% más en comparación del Grupo A, el Grupo B podría ser una opcion solida para elegirlo como líder. Sin embargo en el tamaño promedio de pedido, no se observa una diferencia significativa entre los grupos ya que el Grupo B tiene un 2.8% menos comparado con el Grupo A. Esto podria ser una señal para extender los experimentos y evaluar si el Grupo B puede mejorar en ese aspecto.\n",
    "Por lo tanto elegiria la opcion 3: Continuar con la prueba, esto podría ayudar a identificar si el Grupo B consolida su desempeño en ambas métricas (conversión y tamaño de pedido)"
   ]
  },
  {
   "cell_type": "markdown",
   "metadata": {},
   "source": [
    "<div class=\"alert alert-block alert-warning\">\n",
    "<b>Comentario general (1ra Iteracion)</b> <a class=“tocSkip”></a>\n",
    "\n",
    "Hiciste un buen trabajo con las visualizaciones, los cálculos y  los ejercicios propuestos los has resuelto muy bien planteando conclusiones claras sobre los resultados obtenidos en cada paso.\n",
    "    \n",
    "Planteaste muy buenas conclusiones en base a tus datos que es un punto importante que deben tener tus proyectos, como Data Analyst debes buscar apoyar en la toma de decisiones basadas en datos.\n",
    "    \n",
    "Sólo una cosa cómo recomendación para tus próximos proyectos sobre la presentación en los resultados de la prueba de hipótesis, a menudo tendrás que compartir tus proyectos con otros miembros de tu equipo por lo que la presentación es importante y es mejor que utilices las capacidades de los strings formateados para mostrar mensajes claros del valor que se está mostrando. Así mismo para seguir buenas prácticas es mejor que no tengas líneas tan largas en el mismo string sino que cada parte del cálculo lo dividas en variables hasta llegar al resultado.\n",
    "    \n",
    "Saludos!\n",
    "</div>"
   ]
  }
 ],
 "metadata": {
  "ExecuteTimeLog": [
   {
    "duration": 523,
    "start_time": "2024-11-18T22:10:58.841Z"
   },
   {
    "duration": 1880,
    "start_time": "2024-11-18T22:19:21.530Z"
   },
   {
    "duration": 159,
    "start_time": "2024-11-19T14:25:13.536Z"
   },
   {
    "duration": 13,
    "start_time": "2024-11-19T14:25:32.853Z"
   },
   {
    "duration": 11,
    "start_time": "2024-11-19T14:27:08.496Z"
   },
   {
    "duration": 2144,
    "start_time": "2024-11-19T14:27:12.648Z"
   },
   {
    "duration": 49,
    "start_time": "2024-11-19T14:27:14.794Z"
   },
   {
    "duration": 10,
    "start_time": "2024-11-19T14:27:33.140Z"
   },
   {
    "duration": 15,
    "start_time": "2024-11-19T14:27:43.493Z"
   },
   {
    "duration": 7,
    "start_time": "2024-11-19T14:28:12.072Z"
   },
   {
    "duration": 6,
    "start_time": "2024-11-19T14:28:16.644Z"
   },
   {
    "duration": 8,
    "start_time": "2024-11-19T14:28:21.505Z"
   },
   {
    "duration": 8,
    "start_time": "2024-11-19T14:28:41.432Z"
   },
   {
    "duration": 6,
    "start_time": "2024-11-19T14:33:01.152Z"
   },
   {
    "duration": 8,
    "start_time": "2024-11-19T14:33:02.857Z"
   },
   {
    "duration": 9,
    "start_time": "2024-11-19T14:33:06.582Z"
   },
   {
    "duration": 5,
    "start_time": "2024-11-19T14:33:59.012Z"
   },
   {
    "duration": 6,
    "start_time": "2024-11-19T14:34:00.720Z"
   },
   {
    "duration": 8,
    "start_time": "2024-11-19T14:34:07.389Z"
   },
   {
    "duration": 6,
    "start_time": "2024-11-19T14:35:30.149Z"
   },
   {
    "duration": 6,
    "start_time": "2024-11-19T14:35:31.723Z"
   },
   {
    "duration": 11,
    "start_time": "2024-11-19T14:35:33.867Z"
   },
   {
    "duration": 5,
    "start_time": "2024-11-19T14:36:15.482Z"
   },
   {
    "duration": 5,
    "start_time": "2024-11-19T14:36:24.035Z"
   },
   {
    "duration": 6,
    "start_time": "2024-11-19T14:49:41.505Z"
   },
   {
    "duration": 4,
    "start_time": "2024-11-19T14:52:13.918Z"
   },
   {
    "duration": 2,
    "start_time": "2024-11-19T14:58:05.424Z"
   },
   {
    "duration": 436,
    "start_time": "2024-11-19T15:03:10.390Z"
   },
   {
    "duration": 10,
    "start_time": "2024-11-19T15:03:17.570Z"
   },
   {
    "duration": 8,
    "start_time": "2024-11-19T15:03:22.059Z"
   },
   {
    "duration": 8,
    "start_time": "2024-11-19T15:04:03.599Z"
   },
   {
    "duration": 9,
    "start_time": "2024-11-19T15:04:26.648Z"
   },
   {
    "duration": 3,
    "start_time": "2024-11-19T15:05:40.886Z"
   },
   {
    "duration": 2,
    "start_time": "2024-11-19T15:06:53.475Z"
   },
   {
    "duration": 167,
    "start_time": "2024-11-19T19:49:21.086Z"
   },
   {
    "duration": 2209,
    "start_time": "2024-11-19T19:49:28.922Z"
   },
   {
    "duration": 9,
    "start_time": "2024-11-19T19:49:31.134Z"
   },
   {
    "duration": 9,
    "start_time": "2024-11-19T19:49:31.145Z"
   },
   {
    "duration": 9,
    "start_time": "2024-11-19T19:49:31.156Z"
   },
   {
    "duration": 4,
    "start_time": "2024-11-19T19:49:31.167Z"
   },
   {
    "duration": 8,
    "start_time": "2024-11-19T19:49:31.173Z"
   },
   {
    "duration": 6,
    "start_time": "2024-11-19T19:49:31.183Z"
   },
   {
    "duration": 34,
    "start_time": "2024-11-19T19:49:31.191Z"
   },
   {
    "duration": 7,
    "start_time": "2024-11-19T19:49:31.228Z"
   },
   {
    "duration": 8,
    "start_time": "2024-11-19T19:49:31.237Z"
   },
   {
    "duration": 3,
    "start_time": "2024-11-19T19:51:29.059Z"
   },
   {
    "duration": 8,
    "start_time": "2024-11-19T19:51:51.638Z"
   },
   {
    "duration": 43,
    "start_time": "2024-11-19T19:52:29.996Z"
   },
   {
    "duration": 9,
    "start_time": "2024-11-19T19:52:47.058Z"
   },
   {
    "duration": 8,
    "start_time": "2024-11-19T19:52:56.692Z"
   },
   {
    "duration": 8,
    "start_time": "2024-11-19T19:53:22.395Z"
   },
   {
    "duration": 2,
    "start_time": "2024-11-19T19:54:04.026Z"
   },
   {
    "duration": 2,
    "start_time": "2024-11-19T19:59:20.242Z"
   },
   {
    "duration": 3,
    "start_time": "2024-11-19T20:00:23.462Z"
   },
   {
    "duration": 10,
    "start_time": "2024-11-19T20:00:37.741Z"
   },
   {
    "duration": 4,
    "start_time": "2024-11-19T20:00:41.066Z"
   },
   {
    "duration": 4,
    "start_time": "2024-11-19T20:00:43.005Z"
   },
   {
    "duration": 3,
    "start_time": "2024-11-19T20:00:46.117Z"
   },
   {
    "duration": 5,
    "start_time": "2024-11-19T20:00:51.518Z"
   },
   {
    "duration": 159,
    "start_time": "2024-11-19T20:01:09.389Z"
   },
   {
    "duration": 5,
    "start_time": "2024-11-19T20:01:13.737Z"
   },
   {
    "duration": 30,
    "start_time": "2024-11-19T20:01:25.054Z"
   },
   {
    "duration": 26,
    "start_time": "2024-11-19T20:03:01.257Z"
   },
   {
    "duration": 22,
    "start_time": "2024-11-19T20:03:07.541Z"
   },
   {
    "duration": 3,
    "start_time": "2024-11-19T20:03:38.893Z"
   },
   {
    "duration": 314,
    "start_time": "2024-11-19T20:07:03.921Z"
   },
   {
    "duration": 58,
    "start_time": "2024-11-19T20:07:28.513Z"
   },
   {
    "duration": 58,
    "start_time": "2024-11-19T20:07:43.770Z"
   },
   {
    "duration": 2,
    "start_time": "2024-11-19T20:08:12.730Z"
   },
   {
    "duration": 9,
    "start_time": "2024-11-19T20:08:12.734Z"
   },
   {
    "duration": 7,
    "start_time": "2024-11-19T20:08:12.744Z"
   },
   {
    "duration": 9,
    "start_time": "2024-11-19T20:08:12.753Z"
   },
   {
    "duration": 4,
    "start_time": "2024-11-19T20:08:12.765Z"
   },
   {
    "duration": 6,
    "start_time": "2024-11-19T20:08:12.770Z"
   },
   {
    "duration": 4,
    "start_time": "2024-11-19T20:08:12.778Z"
   },
   {
    "duration": 4,
    "start_time": "2024-11-19T20:08:12.783Z"
   },
   {
    "duration": 41,
    "start_time": "2024-11-19T20:08:12.788Z"
   },
   {
    "duration": 8,
    "start_time": "2024-11-19T20:08:12.831Z"
   },
   {
    "duration": 3,
    "start_time": "2024-11-19T20:08:12.841Z"
   },
   {
    "duration": 9,
    "start_time": "2024-11-19T20:08:12.846Z"
   },
   {
    "duration": 86,
    "start_time": "2024-11-19T20:08:12.856Z"
   },
   {
    "duration": 107,
    "start_time": "2024-11-19T20:08:42.668Z"
   },
   {
    "duration": 58,
    "start_time": "2024-11-19T20:08:59.380Z"
   },
   {
    "duration": 8,
    "start_time": "2024-11-19T20:09:03.340Z"
   },
   {
    "duration": 12,
    "start_time": "2024-11-19T20:09:06.810Z"
   },
   {
    "duration": 6,
    "start_time": "2024-11-19T20:09:25.924Z"
   },
   {
    "duration": 6,
    "start_time": "2024-11-19T20:09:28.328Z"
   },
   {
    "duration": 8,
    "start_time": "2024-11-19T20:09:39.710Z"
   },
   {
    "duration": 9,
    "start_time": "2024-11-19T20:10:01.273Z"
   },
   {
    "duration": 6,
    "start_time": "2024-11-19T20:10:27.323Z"
   },
   {
    "duration": 6,
    "start_time": "2024-11-19T20:10:37.880Z"
   },
   {
    "duration": 15,
    "start_time": "2024-11-19T20:11:36.464Z"
   },
   {
    "duration": 9,
    "start_time": "2024-11-19T20:11:45.260Z"
   },
   {
    "duration": 12,
    "start_time": "2024-11-19T20:12:25.148Z"
   },
   {
    "duration": 3,
    "start_time": "2024-11-19T20:12:43.649Z"
   },
   {
    "duration": 3,
    "start_time": "2024-11-19T20:12:48.253Z"
   },
   {
    "duration": 58,
    "start_time": "2024-11-19T20:13:40.577Z"
   },
   {
    "duration": 7,
    "start_time": "2024-11-19T20:13:55.942Z"
   },
   {
    "duration": 11,
    "start_time": "2024-11-19T20:14:28.543Z"
   },
   {
    "duration": 10,
    "start_time": "2024-11-19T20:15:17.515Z"
   },
   {
    "duration": 3,
    "start_time": "2024-11-19T20:16:22.833Z"
   },
   {
    "duration": 11,
    "start_time": "2024-11-19T20:16:24.665Z"
   },
   {
    "duration": 146,
    "start_time": "2024-11-19T20:16:40.117Z"
   },
   {
    "duration": 24,
    "start_time": "2024-11-19T20:16:55.616Z"
   },
   {
    "duration": 28,
    "start_time": "2024-11-19T20:17:24.012Z"
   },
   {
    "duration": 30,
    "start_time": "2024-11-19T20:17:35.613Z"
   },
   {
    "duration": 10,
    "start_time": "2024-11-19T20:17:37.864Z"
   },
   {
    "duration": 3,
    "start_time": "2024-11-19T20:17:40.546Z"
   },
   {
    "duration": 8,
    "start_time": "2024-11-19T20:17:42.757Z"
   },
   {
    "duration": 6,
    "start_time": "2024-11-19T20:19:10.622Z"
   },
   {
    "duration": 6,
    "start_time": "2024-11-19T20:20:18.458Z"
   },
   {
    "duration": 5,
    "start_time": "2024-11-19T20:20:25.607Z"
   },
   {
    "duration": 7,
    "start_time": "2024-11-19T20:20:28.539Z"
   },
   {
    "duration": 4,
    "start_time": "2024-11-19T20:26:04.653Z"
   },
   {
    "duration": 10,
    "start_time": "2024-11-19T20:31:03.490Z"
   },
   {
    "duration": 4,
    "start_time": "2024-11-19T20:31:11.251Z"
   },
   {
    "duration": 5,
    "start_time": "2024-11-19T20:32:13.778Z"
   },
   {
    "duration": 9,
    "start_time": "2024-11-19T20:32:24.295Z"
   },
   {
    "duration": 4,
    "start_time": "2024-11-19T20:32:31.328Z"
   },
   {
    "duration": 4,
    "start_time": "2024-11-19T20:34:24.143Z"
   },
   {
    "duration": 4,
    "start_time": "2024-11-19T20:35:53.678Z"
   },
   {
    "duration": 2,
    "start_time": "2024-11-19T20:36:16.048Z"
   },
   {
    "duration": 4,
    "start_time": "2024-11-19T20:36:21.600Z"
   },
   {
    "duration": 5,
    "start_time": "2024-11-19T21:42:46.412Z"
   },
   {
    "duration": 5,
    "start_time": "2024-11-19T21:42:52.219Z"
   },
   {
    "duration": 3,
    "start_time": "2024-11-19T21:53:00.181Z"
   },
   {
    "duration": 3,
    "start_time": "2024-11-19T21:53:13.551Z"
   },
   {
    "duration": 3,
    "start_time": "2024-11-19T21:53:23.573Z"
   },
   {
    "duration": 3,
    "start_time": "2024-11-19T21:53:43.054Z"
   },
   {
    "duration": 5,
    "start_time": "2024-11-19T21:53:57.425Z"
   },
   {
    "duration": 3,
    "start_time": "2024-11-19T21:54:24.342Z"
   },
   {
    "duration": 9,
    "start_time": "2024-11-19T21:54:35.421Z"
   },
   {
    "duration": 4,
    "start_time": "2024-11-19T21:54:40.902Z"
   },
   {
    "duration": 3,
    "start_time": "2024-11-19T21:55:09.261Z"
   },
   {
    "duration": 11,
    "start_time": "2024-11-19T21:55:21.701Z"
   },
   {
    "duration": 3,
    "start_time": "2024-11-19T21:55:26.030Z"
   },
   {
    "duration": 12,
    "start_time": "2024-11-19T21:55:55.422Z"
   },
   {
    "duration": 7,
    "start_time": "2024-11-19T21:56:02.310Z"
   },
   {
    "duration": 2,
    "start_time": "2024-11-19T21:56:29.568Z"
   },
   {
    "duration": 11,
    "start_time": "2024-11-19T22:04:23.129Z"
   },
   {
    "duration": 10,
    "start_time": "2024-11-19T22:04:36.504Z"
   },
   {
    "duration": 10,
    "start_time": "2024-11-19T22:08:32.526Z"
   },
   {
    "duration": 11,
    "start_time": "2024-11-19T22:09:27.450Z"
   },
   {
    "duration": 2201,
    "start_time": "2024-11-20T00:55:35.013Z"
   },
   {
    "duration": 10,
    "start_time": "2024-11-20T00:55:37.216Z"
   },
   {
    "duration": 10,
    "start_time": "2024-11-20T00:55:37.227Z"
   },
   {
    "duration": 8,
    "start_time": "2024-11-20T00:55:37.239Z"
   },
   {
    "duration": 4,
    "start_time": "2024-11-20T00:55:37.249Z"
   },
   {
    "duration": 5,
    "start_time": "2024-11-20T00:55:37.255Z"
   },
   {
    "duration": 4,
    "start_time": "2024-11-20T00:55:37.261Z"
   },
   {
    "duration": 5,
    "start_time": "2024-11-20T00:55:37.266Z"
   },
   {
    "duration": 7,
    "start_time": "2024-11-20T00:55:37.272Z"
   },
   {
    "duration": 7,
    "start_time": "2024-11-20T00:55:37.283Z"
   },
   {
    "duration": 4,
    "start_time": "2024-11-20T00:55:37.331Z"
   },
   {
    "duration": 8,
    "start_time": "2024-11-20T00:55:37.337Z"
   },
   {
    "duration": 3,
    "start_time": "2024-11-20T00:55:37.347Z"
   },
   {
    "duration": 10,
    "start_time": "2024-11-20T00:55:37.352Z"
   },
   {
    "duration": 8,
    "start_time": "2024-11-20T00:55:37.363Z"
   },
   {
    "duration": 10,
    "start_time": "2024-11-20T00:55:37.373Z"
   },
   {
    "duration": 5,
    "start_time": "2024-11-20T00:55:37.385Z"
   },
   {
    "duration": 42,
    "start_time": "2024-11-20T00:55:37.391Z"
   },
   {
    "duration": 12,
    "start_time": "2024-11-20T00:55:37.434Z"
   },
   {
    "duration": 8,
    "start_time": "2024-11-20T00:55:37.448Z"
   },
   {
    "duration": 5,
    "start_time": "2024-11-20T00:55:37.458Z"
   },
   {
    "duration": 12,
    "start_time": "2024-11-20T00:55:37.465Z"
   },
   {
    "duration": 3,
    "start_time": "2024-11-20T00:55:37.479Z"
   },
   {
    "duration": 8,
    "start_time": "2024-11-20T00:55:37.484Z"
   },
   {
    "duration": 38,
    "start_time": "2024-11-20T00:55:37.494Z"
   },
   {
    "duration": 4,
    "start_time": "2024-11-20T00:55:37.534Z"
   },
   {
    "duration": 10,
    "start_time": "2024-11-20T00:55:37.540Z"
   },
   {
    "duration": 2,
    "start_time": "2024-11-20T00:55:54.389Z"
   },
   {
    "duration": 6,
    "start_time": "2024-11-20T00:57:23.329Z"
   },
   {
    "duration": 12,
    "start_time": "2024-11-20T00:57:28.713Z"
   },
   {
    "duration": 235,
    "start_time": "2024-11-20T01:01:53.414Z"
   },
   {
    "duration": 19,
    "start_time": "2024-11-20T01:02:00.440Z"
   },
   {
    "duration": 5,
    "start_time": "2024-11-20T01:03:59.800Z"
   },
   {
    "duration": 2,
    "start_time": "2024-11-20T01:04:25.944Z"
   },
   {
    "duration": 14,
    "start_time": "2024-11-20T01:04:47.287Z"
   },
   {
    "duration": 18,
    "start_time": "2024-11-20T01:09:37.836Z"
   },
   {
    "duration": 2,
    "start_time": "2024-11-20T01:10:00.496Z"
   },
   {
    "duration": 15,
    "start_time": "2024-11-20T01:10:02.520Z"
   },
   {
    "duration": 6,
    "start_time": "2024-11-20T01:15:02.018Z"
   },
   {
    "duration": 7,
    "start_time": "2024-11-20T01:17:45.227Z"
   },
   {
    "duration": 2,
    "start_time": "2024-11-20T01:18:46.866Z"
   },
   {
    "duration": 5,
    "start_time": "2024-11-20T01:19:45.594Z"
   },
   {
    "duration": 14,
    "start_time": "2024-11-20T01:20:27.927Z"
   },
   {
    "duration": 13,
    "start_time": "2024-11-20T01:24:04.229Z"
   },
   {
    "duration": 7,
    "start_time": "2024-11-20T01:25:24.515Z"
   },
   {
    "duration": 12,
    "start_time": "2024-11-20T01:25:32.607Z"
   },
   {
    "duration": 4,
    "start_time": "2024-11-20T01:26:05.495Z"
   },
   {
    "duration": 7,
    "start_time": "2024-11-20T01:29:23.358Z"
   },
   {
    "duration": 5,
    "start_time": "2024-11-20T01:29:43.213Z"
   },
   {
    "duration": 3,
    "start_time": "2024-11-20T01:30:01.912Z"
   },
   {
    "duration": 4,
    "start_time": "2024-11-20T01:30:15.332Z"
   },
   {
    "duration": 18,
    "start_time": "2024-11-20T01:31:02.333Z"
   },
   {
    "duration": 17,
    "start_time": "2024-11-20T01:33:18.950Z"
   },
   {
    "duration": 16,
    "start_time": "2024-11-20T01:33:30.668Z"
   },
   {
    "duration": 15,
    "start_time": "2024-11-20T01:36:21.160Z"
   },
   {
    "duration": 2155,
    "start_time": "2024-11-20T11:55:05.178Z"
   },
   {
    "duration": 8,
    "start_time": "2024-11-20T11:55:07.335Z"
   },
   {
    "duration": 9,
    "start_time": "2024-11-20T11:55:07.345Z"
   },
   {
    "duration": 21,
    "start_time": "2024-11-20T11:55:07.355Z"
   },
   {
    "duration": 4,
    "start_time": "2024-11-20T11:55:07.378Z"
   },
   {
    "duration": 4,
    "start_time": "2024-11-20T11:55:07.384Z"
   },
   {
    "duration": 4,
    "start_time": "2024-11-20T11:55:07.390Z"
   },
   {
    "duration": 5,
    "start_time": "2024-11-20T11:55:07.395Z"
   },
   {
    "duration": 7,
    "start_time": "2024-11-20T11:55:07.401Z"
   },
   {
    "duration": 8,
    "start_time": "2024-11-20T11:55:07.409Z"
   },
   {
    "duration": 4,
    "start_time": "2024-11-20T11:55:07.418Z"
   },
   {
    "duration": 53,
    "start_time": "2024-11-20T11:55:07.423Z"
   },
   {
    "duration": 3,
    "start_time": "2024-11-20T11:55:07.478Z"
   },
   {
    "duration": 7,
    "start_time": "2024-11-20T11:55:07.485Z"
   },
   {
    "duration": 7,
    "start_time": "2024-11-20T11:55:07.493Z"
   },
   {
    "duration": 9,
    "start_time": "2024-11-20T11:55:07.502Z"
   },
   {
    "duration": 6,
    "start_time": "2024-11-20T11:55:07.512Z"
   },
   {
    "duration": 5,
    "start_time": "2024-11-20T11:55:07.519Z"
   },
   {
    "duration": 50,
    "start_time": "2024-11-20T11:55:07.526Z"
   },
   {
    "duration": 9,
    "start_time": "2024-11-20T11:55:07.577Z"
   },
   {
    "duration": 5,
    "start_time": "2024-11-20T11:55:07.587Z"
   },
   {
    "duration": 6,
    "start_time": "2024-11-20T11:55:07.594Z"
   },
   {
    "duration": 10,
    "start_time": "2024-11-20T11:55:07.601Z"
   },
   {
    "duration": 3,
    "start_time": "2024-11-20T11:55:07.613Z"
   },
   {
    "duration": 7,
    "start_time": "2024-11-20T11:55:07.618Z"
   },
   {
    "duration": 45,
    "start_time": "2024-11-20T11:55:07.626Z"
   },
   {
    "duration": 5,
    "start_time": "2024-11-20T11:55:07.673Z"
   },
   {
    "duration": 12,
    "start_time": "2024-11-20T11:55:07.680Z"
   },
   {
    "duration": 3,
    "start_time": "2024-11-20T11:55:07.693Z"
   },
   {
    "duration": 5,
    "start_time": "2024-11-20T11:55:07.697Z"
   },
   {
    "duration": 11,
    "start_time": "2024-11-20T11:55:07.704Z"
   },
   {
    "duration": 6,
    "start_time": "2024-11-20T11:55:07.716Z"
   },
   {
    "duration": 53,
    "start_time": "2024-11-20T11:55:07.723Z"
   },
   {
    "duration": 9,
    "start_time": "2024-11-20T11:59:36.881Z"
   },
   {
    "duration": 11,
    "start_time": "2024-11-20T11:59:44.341Z"
   },
   {
    "duration": 14,
    "start_time": "2024-11-20T12:00:29.285Z"
   },
   {
    "duration": 8,
    "start_time": "2024-11-20T12:00:37.032Z"
   },
   {
    "duration": 222,
    "start_time": "2024-11-20T12:00:40.381Z"
   },
   {
    "duration": 9,
    "start_time": "2024-11-20T12:00:44.629Z"
   },
   {
    "duration": 8,
    "start_time": "2024-11-20T12:01:21.633Z"
   },
   {
    "duration": 8,
    "start_time": "2024-11-20T12:01:23.341Z"
   },
   {
    "duration": 12,
    "start_time": "2024-11-20T12:06:10.600Z"
   },
   {
    "duration": 6,
    "start_time": "2024-11-20T12:06:15.157Z"
   },
   {
    "duration": 11,
    "start_time": "2024-11-20T12:06:18.502Z"
   },
   {
    "duration": 305,
    "start_time": "2024-11-20T12:11:19.992Z"
   },
   {
    "duration": 29,
    "start_time": "2024-11-20T12:11:46.850Z"
   },
   {
    "duration": 3,
    "start_time": "2024-11-20T12:12:05.421Z"
   },
   {
    "duration": 4,
    "start_time": "2024-11-20T12:12:11.247Z"
   },
   {
    "duration": 11,
    "start_time": "2024-11-20T12:12:19.818Z"
   },
   {
    "duration": 212,
    "start_time": "2024-11-20T12:15:58.484Z"
   },
   {
    "duration": 10,
    "start_time": "2024-11-20T12:16:37.265Z"
   },
   {
    "duration": 6,
    "start_time": "2024-11-20T12:17:38.933Z"
   },
   {
    "duration": 10,
    "start_time": "2024-11-20T12:17:42.913Z"
   },
   {
    "duration": 10,
    "start_time": "2024-11-20T12:18:10.436Z"
   },
   {
    "duration": 199,
    "start_time": "2024-11-20T12:28:12.724Z"
   },
   {
    "duration": 206,
    "start_time": "2024-11-20T12:33:06.008Z"
   },
   {
    "duration": 2172,
    "start_time": "2024-11-20T20:05:21.216Z"
   },
   {
    "duration": 9,
    "start_time": "2024-11-20T20:05:23.390Z"
   },
   {
    "duration": 14,
    "start_time": "2024-11-20T20:05:23.401Z"
   },
   {
    "duration": 10,
    "start_time": "2024-11-20T20:05:23.417Z"
   },
   {
    "duration": 5,
    "start_time": "2024-11-20T20:05:23.429Z"
   },
   {
    "duration": 5,
    "start_time": "2024-11-20T20:05:23.436Z"
   },
   {
    "duration": 4,
    "start_time": "2024-11-20T20:05:23.442Z"
   },
   {
    "duration": 4,
    "start_time": "2024-11-20T20:05:23.447Z"
   },
   {
    "duration": 8,
    "start_time": "2024-11-20T20:05:23.453Z"
   },
   {
    "duration": 49,
    "start_time": "2024-11-20T20:05:23.464Z"
   },
   {
    "duration": 4,
    "start_time": "2024-11-20T20:05:23.514Z"
   },
   {
    "duration": 10,
    "start_time": "2024-11-20T20:05:23.520Z"
   },
   {
    "duration": 4,
    "start_time": "2024-11-20T20:05:23.531Z"
   },
   {
    "duration": 9,
    "start_time": "2024-11-20T20:05:23.536Z"
   },
   {
    "duration": 8,
    "start_time": "2024-11-20T20:05:23.546Z"
   },
   {
    "duration": 9,
    "start_time": "2024-11-20T20:05:23.556Z"
   },
   {
    "duration": 5,
    "start_time": "2024-11-20T20:05:23.567Z"
   },
   {
    "duration": 5,
    "start_time": "2024-11-20T20:05:23.611Z"
   },
   {
    "duration": 12,
    "start_time": "2024-11-20T20:05:23.618Z"
   },
   {
    "duration": 8,
    "start_time": "2024-11-20T20:05:23.632Z"
   },
   {
    "duration": 5,
    "start_time": "2024-11-20T20:05:23.642Z"
   },
   {
    "duration": 4,
    "start_time": "2024-11-20T20:05:23.649Z"
   },
   {
    "duration": 11,
    "start_time": "2024-11-20T20:05:23.655Z"
   },
   {
    "duration": 4,
    "start_time": "2024-11-20T20:05:23.668Z"
   },
   {
    "duration": 8,
    "start_time": "2024-11-20T20:05:23.712Z"
   },
   {
    "duration": 6,
    "start_time": "2024-11-20T20:05:23.722Z"
   },
   {
    "duration": 5,
    "start_time": "2024-11-20T20:05:23.730Z"
   },
   {
    "duration": 10,
    "start_time": "2024-11-20T20:05:23.740Z"
   },
   {
    "duration": 2,
    "start_time": "2024-11-20T20:05:23.751Z"
   },
   {
    "duration": 5,
    "start_time": "2024-11-20T20:05:23.755Z"
   },
   {
    "duration": 51,
    "start_time": "2024-11-20T20:05:23.762Z"
   },
   {
    "duration": 4,
    "start_time": "2024-11-20T20:05:23.815Z"
   },
   {
    "duration": 10,
    "start_time": "2024-11-20T20:05:23.821Z"
   },
   {
    "duration": 10,
    "start_time": "2024-11-20T20:05:23.833Z"
   },
   {
    "duration": 7,
    "start_time": "2024-11-20T20:05:23.845Z"
   },
   {
    "duration": 9,
    "start_time": "2024-11-20T20:05:23.853Z"
   },
   {
    "duration": 8,
    "start_time": "2024-11-20T20:05:23.863Z"
   },
   {
    "duration": 48,
    "start_time": "2024-11-20T20:05:23.873Z"
   },
   {
    "duration": 11,
    "start_time": "2024-11-20T20:05:23.922Z"
   },
   {
    "duration": 10,
    "start_time": "2024-11-20T20:05:23.935Z"
   },
   {
    "duration": 9,
    "start_time": "2024-11-20T20:05:23.947Z"
   },
   {
    "duration": 170,
    "start_time": "2024-11-20T20:05:23.958Z"
   },
   {
    "duration": 131,
    "start_time": "2024-11-20T20:07:50.466Z"
   },
   {
    "duration": 5,
    "start_time": "2024-11-20T20:17:06.632Z"
   },
   {
    "duration": 4,
    "start_time": "2024-11-20T20:17:13.409Z"
   },
   {
    "duration": 7,
    "start_time": "2024-11-20T20:27:03.077Z"
   },
   {
    "duration": 179,
    "start_time": "2024-11-20T21:35:51.708Z"
   },
   {
    "duration": 154,
    "start_time": "2024-11-20T21:36:25.227Z"
   },
   {
    "duration": 151,
    "start_time": "2024-11-20T21:37:01.780Z"
   },
   {
    "duration": 137,
    "start_time": "2024-11-20T21:37:13.637Z"
   },
   {
    "duration": 2112,
    "start_time": "2024-11-21T11:07:01.237Z"
   },
   {
    "duration": 9,
    "start_time": "2024-11-21T11:07:03.352Z"
   },
   {
    "duration": 9,
    "start_time": "2024-11-21T11:07:03.362Z"
   },
   {
    "duration": 8,
    "start_time": "2024-11-21T11:07:03.374Z"
   },
   {
    "duration": 5,
    "start_time": "2024-11-21T11:07:03.383Z"
   },
   {
    "duration": 6,
    "start_time": "2024-11-21T11:07:03.389Z"
   },
   {
    "duration": 3,
    "start_time": "2024-11-21T11:07:03.424Z"
   },
   {
    "duration": 4,
    "start_time": "2024-11-21T11:07:03.429Z"
   },
   {
    "duration": 6,
    "start_time": "2024-11-21T11:07:03.435Z"
   },
   {
    "duration": 7,
    "start_time": "2024-11-21T11:07:03.444Z"
   },
   {
    "duration": 4,
    "start_time": "2024-11-21T11:07:03.452Z"
   },
   {
    "duration": 8,
    "start_time": "2024-11-21T11:07:03.458Z"
   },
   {
    "duration": 3,
    "start_time": "2024-11-21T11:07:03.469Z"
   },
   {
    "duration": 7,
    "start_time": "2024-11-21T11:07:03.474Z"
   },
   {
    "duration": 42,
    "start_time": "2024-11-21T11:07:03.483Z"
   },
   {
    "duration": 9,
    "start_time": "2024-11-21T11:07:03.527Z"
   },
   {
    "duration": 5,
    "start_time": "2024-11-21T11:07:03.537Z"
   },
   {
    "duration": 5,
    "start_time": "2024-11-21T11:07:03.544Z"
   },
   {
    "duration": 10,
    "start_time": "2024-11-21T11:07:03.550Z"
   },
   {
    "duration": 8,
    "start_time": "2024-11-21T11:07:03.562Z"
   },
   {
    "duration": 5,
    "start_time": "2024-11-21T11:07:03.571Z"
   },
   {
    "duration": 50,
    "start_time": "2024-11-21T11:07:03.578Z"
   },
   {
    "duration": 12,
    "start_time": "2024-11-21T11:07:03.629Z"
   },
   {
    "duration": 4,
    "start_time": "2024-11-21T11:07:03.642Z"
   },
   {
    "duration": 8,
    "start_time": "2024-11-21T11:07:03.648Z"
   },
   {
    "duration": 6,
    "start_time": "2024-11-21T11:07:03.658Z"
   },
   {
    "duration": 4,
    "start_time": "2024-11-21T11:07:03.666Z"
   },
   {
    "duration": 9,
    "start_time": "2024-11-21T11:07:03.674Z"
   },
   {
    "duration": 39,
    "start_time": "2024-11-21T11:07:03.685Z"
   },
   {
    "duration": 7,
    "start_time": "2024-11-21T11:07:03.725Z"
   },
   {
    "duration": 12,
    "start_time": "2024-11-21T11:07:03.733Z"
   },
   {
    "duration": 5,
    "start_time": "2024-11-21T11:07:03.746Z"
   },
   {
    "duration": 10,
    "start_time": "2024-11-21T11:07:03.752Z"
   },
   {
    "duration": 9,
    "start_time": "2024-11-21T11:07:03.763Z"
   },
   {
    "duration": 7,
    "start_time": "2024-11-21T11:07:03.774Z"
   },
   {
    "duration": 45,
    "start_time": "2024-11-21T11:07:03.782Z"
   },
   {
    "duration": 5,
    "start_time": "2024-11-21T11:07:03.828Z"
   },
   {
    "duration": 10,
    "start_time": "2024-11-21T11:07:03.835Z"
   },
   {
    "duration": 12,
    "start_time": "2024-11-21T11:07:03.847Z"
   },
   {
    "duration": 15,
    "start_time": "2024-11-21T11:07:03.861Z"
   },
   {
    "duration": 10,
    "start_time": "2024-11-21T11:07:03.877Z"
   },
   {
    "duration": 206,
    "start_time": "2024-11-21T11:07:03.889Z"
   },
   {
    "duration": 4,
    "start_time": "2024-11-21T11:07:04.096Z"
   },
   {
    "duration": 3,
    "start_time": "2024-11-21T11:07:04.102Z"
   },
   {
    "duration": 147,
    "start_time": "2024-11-21T11:07:04.107Z"
   },
   {
    "duration": 5,
    "start_time": "2024-11-21T11:08:21.365Z"
   },
   {
    "duration": 186,
    "start_time": "2024-11-21T11:27:28.128Z"
   },
   {
    "duration": 137,
    "start_time": "2024-11-21T11:27:36.253Z"
   },
   {
    "duration": 10,
    "start_time": "2024-11-21T11:27:40.373Z"
   },
   {
    "duration": 83,
    "start_time": "2024-11-21T11:29:15.601Z"
   },
   {
    "duration": 9,
    "start_time": "2024-11-21T11:29:17.802Z"
   },
   {
    "duration": 5,
    "start_time": "2024-11-21T11:30:07.491Z"
   },
   {
    "duration": 5,
    "start_time": "2024-11-21T11:30:31.696Z"
   },
   {
    "duration": 12,
    "start_time": "2024-11-21T11:30:33.426Z"
   },
   {
    "duration": 12,
    "start_time": "2024-11-21T11:30:50.564Z"
   },
   {
    "duration": 11,
    "start_time": "2024-11-21T11:31:08.465Z"
   },
   {
    "duration": 10,
    "start_time": "2024-11-21T11:31:13.881Z"
   },
   {
    "duration": 142,
    "start_time": "2024-11-21T11:32:04.671Z"
   },
   {
    "duration": 143,
    "start_time": "2024-11-21T11:32:37.256Z"
   },
   {
    "duration": 151,
    "start_time": "2024-11-21T11:32:57.697Z"
   },
   {
    "duration": 139,
    "start_time": "2024-11-21T11:33:29.918Z"
   },
   {
    "duration": 145,
    "start_time": "2024-11-21T11:37:44.965Z"
   },
   {
    "duration": 67,
    "start_time": "2024-11-21T11:49:10.340Z"
   },
   {
    "duration": 351,
    "start_time": "2024-11-21T11:52:50.924Z"
   },
   {
    "duration": 102,
    "start_time": "2024-11-21T11:54:25.827Z"
   },
   {
    "duration": 5,
    "start_time": "2024-11-21T11:54:56.144Z"
   },
   {
    "duration": 43,
    "start_time": "2024-11-21T11:54:58.252Z"
   },
   {
    "duration": 5,
    "start_time": "2024-11-21T11:55:48.067Z"
   },
   {
    "duration": 47,
    "start_time": "2024-11-21T11:55:59.191Z"
   },
   {
    "duration": 286,
    "start_time": "2024-11-21T11:56:41.766Z"
   },
   {
    "duration": 5,
    "start_time": "2024-11-21T11:59:27.346Z"
   },
   {
    "duration": 13,
    "start_time": "2024-11-21T12:03:04.345Z"
   },
   {
    "duration": 237,
    "start_time": "2024-11-21T12:05:14.201Z"
   },
   {
    "duration": 244,
    "start_time": "2024-11-21T12:07:06.418Z"
   },
   {
    "duration": 240,
    "start_time": "2024-11-21T12:07:15.369Z"
   },
   {
    "duration": 14,
    "start_time": "2024-11-21T12:18:10.558Z"
   },
   {
    "duration": 11,
    "start_time": "2024-11-21T12:32:14.393Z"
   },
   {
    "duration": 41,
    "start_time": "2024-11-21T12:37:58.827Z"
   },
   {
    "duration": 13,
    "start_time": "2024-11-21T12:39:09.477Z"
   },
   {
    "duration": 13,
    "start_time": "2024-11-21T12:39:36.748Z"
   },
   {
    "duration": 154,
    "start_time": "2024-11-21T14:07:42.263Z"
   },
   {
    "duration": 2081,
    "start_time": "2024-11-21T14:07:45.127Z"
   },
   {
    "duration": 56,
    "start_time": "2024-11-21T14:07:47.210Z"
   },
   {
    "duration": 9,
    "start_time": "2024-11-21T14:07:47.268Z"
   },
   {
    "duration": 8,
    "start_time": "2024-11-21T14:07:47.279Z"
   },
   {
    "duration": 4,
    "start_time": "2024-11-21T14:07:47.290Z"
   },
   {
    "duration": 5,
    "start_time": "2024-11-21T14:07:47.297Z"
   },
   {
    "duration": 4,
    "start_time": "2024-11-21T14:07:47.303Z"
   },
   {
    "duration": 19,
    "start_time": "2024-11-21T14:07:47.308Z"
   },
   {
    "duration": 7,
    "start_time": "2024-11-21T14:07:47.329Z"
   },
   {
    "duration": 8,
    "start_time": "2024-11-21T14:07:47.337Z"
   },
   {
    "duration": 3,
    "start_time": "2024-11-21T14:07:47.346Z"
   },
   {
    "duration": 8,
    "start_time": "2024-11-21T14:07:47.351Z"
   },
   {
    "duration": 4,
    "start_time": "2024-11-21T14:07:47.361Z"
   },
   {
    "duration": 5,
    "start_time": "2024-11-21T14:07:47.369Z"
   },
   {
    "duration": 52,
    "start_time": "2024-11-21T14:07:47.376Z"
   },
   {
    "duration": 8,
    "start_time": "2024-11-21T14:07:47.429Z"
   },
   {
    "duration": 4,
    "start_time": "2024-11-21T14:07:47.439Z"
   },
   {
    "duration": 4,
    "start_time": "2024-11-21T14:07:47.446Z"
   },
   {
    "duration": 11,
    "start_time": "2024-11-21T14:07:47.452Z"
   },
   {
    "duration": 8,
    "start_time": "2024-11-21T14:07:47.464Z"
   },
   {
    "duration": 5,
    "start_time": "2024-11-21T14:07:47.474Z"
   },
   {
    "duration": 52,
    "start_time": "2024-11-21T14:07:47.480Z"
   },
   {
    "duration": 10,
    "start_time": "2024-11-21T14:07:47.534Z"
   },
   {
    "duration": 3,
    "start_time": "2024-11-21T14:07:47.546Z"
   },
   {
    "duration": 8,
    "start_time": "2024-11-21T14:07:47.551Z"
   },
   {
    "duration": 6,
    "start_time": "2024-11-21T14:07:47.561Z"
   },
   {
    "duration": 4,
    "start_time": "2024-11-21T14:07:47.569Z"
   },
   {
    "duration": 10,
    "start_time": "2024-11-21T14:07:47.575Z"
   },
   {
    "duration": 3,
    "start_time": "2024-11-21T14:07:47.586Z"
   },
   {
    "duration": 6,
    "start_time": "2024-11-21T14:07:47.626Z"
   },
   {
    "duration": 13,
    "start_time": "2024-11-21T14:07:47.633Z"
   },
   {
    "duration": 4,
    "start_time": "2024-11-21T14:07:47.648Z"
   },
   {
    "duration": 4,
    "start_time": "2024-11-21T14:07:47.654Z"
   },
   {
    "duration": 180,
    "start_time": "2024-11-21T14:07:47.660Z"
   },
   {
    "duration": 42,
    "start_time": "2024-11-21T14:07:47.842Z"
   },
   {
    "duration": 0,
    "start_time": "2024-11-21T14:07:47.886Z"
   },
   {
    "duration": 0,
    "start_time": "2024-11-21T14:07:47.887Z"
   },
   {
    "duration": 0,
    "start_time": "2024-11-21T14:07:47.889Z"
   },
   {
    "duration": 0,
    "start_time": "2024-11-21T14:07:47.890Z"
   },
   {
    "duration": 0,
    "start_time": "2024-11-21T14:07:47.892Z"
   },
   {
    "duration": 0,
    "start_time": "2024-11-21T14:07:47.893Z"
   },
   {
    "duration": 0,
    "start_time": "2024-11-21T14:07:47.895Z"
   },
   {
    "duration": 0,
    "start_time": "2024-11-21T14:07:47.896Z"
   },
   {
    "duration": 0,
    "start_time": "2024-11-21T14:07:47.898Z"
   },
   {
    "duration": 0,
    "start_time": "2024-11-21T14:07:47.924Z"
   },
   {
    "duration": 0,
    "start_time": "2024-11-21T14:07:47.924Z"
   },
   {
    "duration": 0,
    "start_time": "2024-11-21T14:07:47.931Z"
   },
   {
    "duration": 0,
    "start_time": "2024-11-21T14:07:47.932Z"
   },
   {
    "duration": 0,
    "start_time": "2024-11-21T14:07:47.933Z"
   },
   {
    "duration": 0,
    "start_time": "2024-11-21T14:07:47.935Z"
   },
   {
    "duration": 13,
    "start_time": "2024-11-21T14:08:27.647Z"
   },
   {
    "duration": 2,
    "start_time": "2024-11-21T14:08:35.757Z"
   },
   {
    "duration": 12,
    "start_time": "2024-11-21T14:08:35.761Z"
   },
   {
    "duration": 6,
    "start_time": "2024-11-21T14:08:35.775Z"
   },
   {
    "duration": 8,
    "start_time": "2024-11-21T14:08:35.783Z"
   },
   {
    "duration": 4,
    "start_time": "2024-11-21T14:08:35.793Z"
   },
   {
    "duration": 4,
    "start_time": "2024-11-21T14:08:35.799Z"
   },
   {
    "duration": 4,
    "start_time": "2024-11-21T14:08:35.805Z"
   },
   {
    "duration": 13,
    "start_time": "2024-11-21T14:08:35.811Z"
   },
   {
    "duration": 7,
    "start_time": "2024-11-21T14:08:35.826Z"
   },
   {
    "duration": 7,
    "start_time": "2024-11-21T14:08:35.835Z"
   },
   {
    "duration": 3,
    "start_time": "2024-11-21T14:08:35.846Z"
   },
   {
    "duration": 8,
    "start_time": "2024-11-21T14:08:35.850Z"
   },
   {
    "duration": 4,
    "start_time": "2024-11-21T14:08:35.859Z"
   },
   {
    "duration": 5,
    "start_time": "2024-11-21T14:08:35.865Z"
   },
   {
    "duration": 6,
    "start_time": "2024-11-21T14:08:35.871Z"
   },
   {
    "duration": 49,
    "start_time": "2024-11-21T14:08:35.879Z"
   },
   {
    "duration": 5,
    "start_time": "2024-11-21T14:08:35.930Z"
   },
   {
    "duration": 6,
    "start_time": "2024-11-21T14:08:35.937Z"
   },
   {
    "duration": 11,
    "start_time": "2024-11-21T14:08:35.944Z"
   },
   {
    "duration": 8,
    "start_time": "2024-11-21T14:08:35.956Z"
   },
   {
    "duration": 5,
    "start_time": "2024-11-21T14:08:35.965Z"
   },
   {
    "duration": 5,
    "start_time": "2024-11-21T14:08:35.971Z"
   },
   {
    "duration": 48,
    "start_time": "2024-11-21T14:08:35.978Z"
   },
   {
    "duration": 4,
    "start_time": "2024-11-21T14:08:36.028Z"
   },
   {
    "duration": 10,
    "start_time": "2024-11-21T14:08:36.033Z"
   },
   {
    "duration": 8,
    "start_time": "2024-11-21T14:08:36.045Z"
   },
   {
    "duration": 4,
    "start_time": "2024-11-21T14:08:36.055Z"
   },
   {
    "duration": 9,
    "start_time": "2024-11-21T14:08:36.061Z"
   },
   {
    "duration": 2,
    "start_time": "2024-11-21T14:08:36.074Z"
   },
   {
    "duration": 5,
    "start_time": "2024-11-21T14:08:36.078Z"
   },
   {
    "duration": 47,
    "start_time": "2024-11-21T14:08:36.085Z"
   },
   {
    "duration": 4,
    "start_time": "2024-11-21T14:08:36.134Z"
   },
   {
    "duration": 4,
    "start_time": "2024-11-21T14:08:36.139Z"
   },
   {
    "duration": 154,
    "start_time": "2024-11-21T14:08:36.145Z"
   },
   {
    "duration": 11,
    "start_time": "2024-11-21T14:08:36.301Z"
   },
   {
    "duration": 0,
    "start_time": "2024-11-21T14:08:36.313Z"
   },
   {
    "duration": 0,
    "start_time": "2024-11-21T14:08:36.315Z"
   },
   {
    "duration": 0,
    "start_time": "2024-11-21T14:08:36.324Z"
   },
   {
    "duration": 0,
    "start_time": "2024-11-21T14:08:36.325Z"
   },
   {
    "duration": 0,
    "start_time": "2024-11-21T14:08:36.326Z"
   },
   {
    "duration": 0,
    "start_time": "2024-11-21T14:08:36.328Z"
   },
   {
    "duration": 0,
    "start_time": "2024-11-21T14:08:36.329Z"
   },
   {
    "duration": 0,
    "start_time": "2024-11-21T14:08:36.330Z"
   },
   {
    "duration": 0,
    "start_time": "2024-11-21T14:08:36.332Z"
   },
   {
    "duration": 0,
    "start_time": "2024-11-21T14:08:36.334Z"
   },
   {
    "duration": 0,
    "start_time": "2024-11-21T14:08:36.335Z"
   },
   {
    "duration": 0,
    "start_time": "2024-11-21T14:08:36.336Z"
   },
   {
    "duration": 0,
    "start_time": "2024-11-21T14:08:36.338Z"
   },
   {
    "duration": 0,
    "start_time": "2024-11-21T14:08:36.339Z"
   },
   {
    "duration": 0,
    "start_time": "2024-11-21T14:08:36.341Z"
   },
   {
    "duration": 5,
    "start_time": "2024-11-21T14:09:05.916Z"
   },
   {
    "duration": 136,
    "start_time": "2024-11-21T14:09:07.297Z"
   },
   {
    "duration": 89,
    "start_time": "2024-11-21T14:09:11.834Z"
   },
   {
    "duration": 12,
    "start_time": "2024-11-21T14:09:14.949Z"
   },
   {
    "duration": 3,
    "start_time": "2024-11-21T14:14:43.489Z"
   },
   {
    "duration": 12,
    "start_time": "2024-11-21T14:14:43.494Z"
   },
   {
    "duration": 7,
    "start_time": "2024-11-21T14:14:43.508Z"
   },
   {
    "duration": 7,
    "start_time": "2024-11-21T14:14:43.517Z"
   },
   {
    "duration": 5,
    "start_time": "2024-11-21T14:14:43.526Z"
   },
   {
    "duration": 5,
    "start_time": "2024-11-21T14:14:43.533Z"
   },
   {
    "duration": 4,
    "start_time": "2024-11-21T14:14:43.539Z"
   },
   {
    "duration": 3,
    "start_time": "2024-11-21T14:14:43.545Z"
   },
   {
    "duration": 7,
    "start_time": "2024-11-21T14:14:43.550Z"
   },
   {
    "duration": 7,
    "start_time": "2024-11-21T14:14:43.558Z"
   },
   {
    "duration": 3,
    "start_time": "2024-11-21T14:14:43.567Z"
   },
   {
    "duration": 53,
    "start_time": "2024-11-21T14:14:43.572Z"
   },
   {
    "duration": 4,
    "start_time": "2024-11-21T14:14:43.627Z"
   },
   {
    "duration": 5,
    "start_time": "2024-11-21T14:14:43.634Z"
   },
   {
    "duration": 7,
    "start_time": "2024-11-21T14:14:43.642Z"
   },
   {
    "duration": 9,
    "start_time": "2024-11-21T14:14:43.650Z"
   },
   {
    "duration": 5,
    "start_time": "2024-11-21T14:14:43.661Z"
   },
   {
    "duration": 5,
    "start_time": "2024-11-21T14:14:43.668Z"
   },
   {
    "duration": 50,
    "start_time": "2024-11-21T14:14:43.675Z"
   },
   {
    "duration": 9,
    "start_time": "2024-11-21T14:14:43.726Z"
   },
   {
    "duration": 6,
    "start_time": "2024-11-21T14:14:43.736Z"
   },
   {
    "duration": 5,
    "start_time": "2024-11-21T14:14:43.743Z"
   },
   {
    "duration": 10,
    "start_time": "2024-11-21T14:14:43.749Z"
   },
   {
    "duration": 3,
    "start_time": "2024-11-21T14:14:43.761Z"
   },
   {
    "duration": 8,
    "start_time": "2024-11-21T14:14:43.765Z"
   },
   {
    "duration": 6,
    "start_time": "2024-11-21T14:14:43.774Z"
   },
   {
    "duration": 43,
    "start_time": "2024-11-21T14:14:43.781Z"
   },
   {
    "duration": 11,
    "start_time": "2024-11-21T14:14:43.826Z"
   },
   {
    "duration": 2,
    "start_time": "2024-11-21T14:14:43.838Z"
   },
   {
    "duration": 5,
    "start_time": "2024-11-21T14:14:43.842Z"
   },
   {
    "duration": 13,
    "start_time": "2024-11-21T14:14:43.848Z"
   },
   {
    "duration": 8,
    "start_time": "2024-11-21T14:14:43.863Z"
   },
   {
    "duration": 5,
    "start_time": "2024-11-21T14:14:43.873Z"
   },
   {
    "duration": 172,
    "start_time": "2024-11-21T14:14:43.880Z"
   },
   {
    "duration": 11,
    "start_time": "2024-11-21T14:14:44.054Z"
   },
   {
    "duration": 0,
    "start_time": "2024-11-21T14:14:44.067Z"
   },
   {
    "duration": 0,
    "start_time": "2024-11-21T14:14:44.068Z"
   },
   {
    "duration": 0,
    "start_time": "2024-11-21T14:14:44.069Z"
   },
   {
    "duration": 0,
    "start_time": "2024-11-21T14:14:44.070Z"
   },
   {
    "duration": 0,
    "start_time": "2024-11-21T14:14:44.071Z"
   },
   {
    "duration": 0,
    "start_time": "2024-11-21T14:14:44.072Z"
   },
   {
    "duration": 0,
    "start_time": "2024-11-21T14:14:44.073Z"
   },
   {
    "duration": 0,
    "start_time": "2024-11-21T14:14:44.074Z"
   },
   {
    "duration": 0,
    "start_time": "2024-11-21T14:14:44.075Z"
   },
   {
    "duration": 0,
    "start_time": "2024-11-21T14:14:44.076Z"
   },
   {
    "duration": 0,
    "start_time": "2024-11-21T14:14:44.077Z"
   },
   {
    "duration": 0,
    "start_time": "2024-11-21T14:14:44.078Z"
   },
   {
    "duration": 0,
    "start_time": "2024-11-21T14:14:44.079Z"
   },
   {
    "duration": 0,
    "start_time": "2024-11-21T14:14:44.080Z"
   },
   {
    "duration": 0,
    "start_time": "2024-11-21T14:14:44.082Z"
   },
   {
    "duration": 2,
    "start_time": "2024-11-21T14:15:19.365Z"
   },
   {
    "duration": 10,
    "start_time": "2024-11-21T14:15:19.371Z"
   },
   {
    "duration": 7,
    "start_time": "2024-11-21T14:15:19.383Z"
   },
   {
    "duration": 7,
    "start_time": "2024-11-21T14:15:19.392Z"
   },
   {
    "duration": 5,
    "start_time": "2024-11-21T14:15:19.400Z"
   },
   {
    "duration": 5,
    "start_time": "2024-11-21T14:15:19.407Z"
   },
   {
    "duration": 4,
    "start_time": "2024-11-21T14:15:19.414Z"
   },
   {
    "duration": 4,
    "start_time": "2024-11-21T14:15:19.419Z"
   },
   {
    "duration": 8,
    "start_time": "2024-11-21T14:15:19.424Z"
   },
   {
    "duration": 7,
    "start_time": "2024-11-21T14:15:19.435Z"
   },
   {
    "duration": 3,
    "start_time": "2024-11-21T14:15:19.444Z"
   },
   {
    "duration": 8,
    "start_time": "2024-11-21T14:15:19.449Z"
   },
   {
    "duration": 4,
    "start_time": "2024-11-21T14:15:19.459Z"
   },
   {
    "duration": 5,
    "start_time": "2024-11-21T14:15:19.464Z"
   },
   {
    "duration": 6,
    "start_time": "2024-11-21T14:15:19.472Z"
   },
   {
    "duration": 45,
    "start_time": "2024-11-21T14:15:19.480Z"
   },
   {
    "duration": 6,
    "start_time": "2024-11-21T14:15:19.526Z"
   },
   {
    "duration": 5,
    "start_time": "2024-11-21T14:15:19.534Z"
   },
   {
    "duration": 11,
    "start_time": "2024-11-21T14:15:19.541Z"
   },
   {
    "duration": 8,
    "start_time": "2024-11-21T14:15:19.554Z"
   },
   {
    "duration": 5,
    "start_time": "2024-11-21T14:15:19.563Z"
   },
   {
    "duration": 5,
    "start_time": "2024-11-21T14:15:19.570Z"
   },
   {
    "duration": 56,
    "start_time": "2024-11-21T14:15:19.576Z"
   },
   {
    "duration": 3,
    "start_time": "2024-11-21T14:15:19.633Z"
   },
   {
    "duration": 7,
    "start_time": "2024-11-21T14:15:19.638Z"
   },
   {
    "duration": 6,
    "start_time": "2024-11-21T14:15:19.647Z"
   },
   {
    "duration": 5,
    "start_time": "2024-11-21T14:15:19.654Z"
   },
   {
    "duration": 9,
    "start_time": "2024-11-21T14:15:19.660Z"
   },
   {
    "duration": 2,
    "start_time": "2024-11-21T14:15:19.671Z"
   },
   {
    "duration": 5,
    "start_time": "2024-11-21T14:15:19.674Z"
   },
   {
    "duration": 51,
    "start_time": "2024-11-21T14:15:19.681Z"
   },
   {
    "duration": 3,
    "start_time": "2024-11-21T14:15:19.734Z"
   },
   {
    "duration": 4,
    "start_time": "2024-11-21T14:15:19.739Z"
   },
   {
    "duration": 150,
    "start_time": "2024-11-21T14:15:19.746Z"
   },
   {
    "duration": 11,
    "start_time": "2024-11-21T14:15:19.897Z"
   },
   {
    "duration": 0,
    "start_time": "2024-11-21T14:15:19.910Z"
   },
   {
    "duration": 0,
    "start_time": "2024-11-21T14:15:19.911Z"
   },
   {
    "duration": 0,
    "start_time": "2024-11-21T14:15:19.912Z"
   },
   {
    "duration": 0,
    "start_time": "2024-11-21T14:15:19.924Z"
   },
   {
    "duration": 0,
    "start_time": "2024-11-21T14:15:19.925Z"
   },
   {
    "duration": 0,
    "start_time": "2024-11-21T14:15:19.926Z"
   },
   {
    "duration": 0,
    "start_time": "2024-11-21T14:15:19.927Z"
   },
   {
    "duration": 0,
    "start_time": "2024-11-21T14:15:19.928Z"
   },
   {
    "duration": 0,
    "start_time": "2024-11-21T14:15:19.929Z"
   },
   {
    "duration": 0,
    "start_time": "2024-11-21T14:15:19.930Z"
   },
   {
    "duration": 0,
    "start_time": "2024-11-21T14:15:19.931Z"
   },
   {
    "duration": 0,
    "start_time": "2024-11-21T14:15:19.932Z"
   },
   {
    "duration": 0,
    "start_time": "2024-11-21T14:15:19.933Z"
   },
   {
    "duration": 0,
    "start_time": "2024-11-21T14:15:19.934Z"
   },
   {
    "duration": 0,
    "start_time": "2024-11-21T14:15:19.935Z"
   },
   {
    "duration": 12,
    "start_time": "2024-11-21T14:17:26.487Z"
   },
   {
    "duration": 12,
    "start_time": "2024-11-21T14:18:14.861Z"
   },
   {
    "duration": 2,
    "start_time": "2024-11-21T14:19:08.760Z"
   },
   {
    "duration": 12,
    "start_time": "2024-11-21T14:22:09.602Z"
   },
   {
    "duration": 5,
    "start_time": "2024-11-21T14:22:21.841Z"
   },
   {
    "duration": 133,
    "start_time": "2024-11-21T14:22:24.210Z"
   },
   {
    "duration": 11,
    "start_time": "2024-11-21T14:22:27.197Z"
   },
   {
    "duration": 6,
    "start_time": "2024-11-21T14:22:31.875Z"
   },
   {
    "duration": 5,
    "start_time": "2024-11-21T14:22:35.184Z"
   },
   {
    "duration": 136,
    "start_time": "2024-11-21T14:22:37.208Z"
   },
   {
    "duration": 14,
    "start_time": "2024-11-21T14:22:41.175Z"
   },
   {
    "duration": 413,
    "start_time": "2024-11-21T14:24:11.875Z"
   },
   {
    "duration": 46,
    "start_time": "2024-11-21T14:24:12.291Z"
   },
   {
    "duration": 9,
    "start_time": "2024-11-21T14:24:12.338Z"
   },
   {
    "duration": 9,
    "start_time": "2024-11-21T14:24:12.349Z"
   },
   {
    "duration": 4,
    "start_time": "2024-11-21T14:24:12.360Z"
   },
   {
    "duration": 5,
    "start_time": "2024-11-21T14:24:12.366Z"
   },
   {
    "duration": 4,
    "start_time": "2024-11-21T14:24:12.372Z"
   },
   {
    "duration": 4,
    "start_time": "2024-11-21T14:24:12.377Z"
   },
   {
    "duration": 44,
    "start_time": "2024-11-21T14:24:12.382Z"
   },
   {
    "duration": 8,
    "start_time": "2024-11-21T14:24:12.428Z"
   },
   {
    "duration": 4,
    "start_time": "2024-11-21T14:24:12.437Z"
   },
   {
    "duration": 9,
    "start_time": "2024-11-21T14:24:12.443Z"
   },
   {
    "duration": 4,
    "start_time": "2024-11-21T14:24:12.453Z"
   },
   {
    "duration": 6,
    "start_time": "2024-11-21T14:24:12.461Z"
   },
   {
    "duration": 8,
    "start_time": "2024-11-21T14:24:12.470Z"
   },
   {
    "duration": 49,
    "start_time": "2024-11-21T14:24:12.479Z"
   },
   {
    "duration": 6,
    "start_time": "2024-11-21T14:24:12.530Z"
   },
   {
    "duration": 5,
    "start_time": "2024-11-21T14:24:12.537Z"
   },
   {
    "duration": 12,
    "start_time": "2024-11-21T14:24:12.544Z"
   },
   {
    "duration": 8,
    "start_time": "2024-11-21T14:24:12.557Z"
   },
   {
    "duration": 5,
    "start_time": "2024-11-21T14:24:12.567Z"
   },
   {
    "duration": 5,
    "start_time": "2024-11-21T14:24:12.573Z"
   },
   {
    "duration": 46,
    "start_time": "2024-11-21T14:24:12.579Z"
   },
   {
    "duration": 3,
    "start_time": "2024-11-21T14:24:12.627Z"
   },
   {
    "duration": 8,
    "start_time": "2024-11-21T14:24:12.632Z"
   },
   {
    "duration": 6,
    "start_time": "2024-11-21T14:24:12.641Z"
   },
   {
    "duration": 4,
    "start_time": "2024-11-21T14:24:12.649Z"
   },
   {
    "duration": 10,
    "start_time": "2024-11-21T14:24:12.655Z"
   },
   {
    "duration": 2,
    "start_time": "2024-11-21T14:24:12.666Z"
   },
   {
    "duration": 6,
    "start_time": "2024-11-21T14:24:12.670Z"
   },
   {
    "duration": 51,
    "start_time": "2024-11-21T14:24:12.678Z"
   },
   {
    "duration": 4,
    "start_time": "2024-11-21T14:24:12.731Z"
   },
   {
    "duration": 4,
    "start_time": "2024-11-21T14:24:12.737Z"
   },
   {
    "duration": 155,
    "start_time": "2024-11-21T14:24:12.742Z"
   },
   {
    "duration": 191,
    "start_time": "2024-11-21T14:24:12.898Z"
   },
   {
    "duration": 0,
    "start_time": "2024-11-21T14:24:13.090Z"
   },
   {
    "duration": 0,
    "start_time": "2024-11-21T14:24:13.092Z"
   },
   {
    "duration": 0,
    "start_time": "2024-11-21T14:24:13.093Z"
   },
   {
    "duration": 0,
    "start_time": "2024-11-21T14:24:13.095Z"
   },
   {
    "duration": 0,
    "start_time": "2024-11-21T14:24:13.096Z"
   },
   {
    "duration": 0,
    "start_time": "2024-11-21T14:24:13.097Z"
   },
   {
    "duration": 0,
    "start_time": "2024-11-21T14:24:13.098Z"
   },
   {
    "duration": 0,
    "start_time": "2024-11-21T14:24:13.099Z"
   },
   {
    "duration": 0,
    "start_time": "2024-11-21T14:24:13.100Z"
   },
   {
    "duration": 0,
    "start_time": "2024-11-21T14:24:13.101Z"
   },
   {
    "duration": 0,
    "start_time": "2024-11-21T14:24:13.102Z"
   },
   {
    "duration": 0,
    "start_time": "2024-11-21T14:24:13.103Z"
   },
   {
    "duration": 0,
    "start_time": "2024-11-21T14:24:13.104Z"
   },
   {
    "duration": 0,
    "start_time": "2024-11-21T14:24:13.105Z"
   },
   {
    "duration": 0,
    "start_time": "2024-11-21T14:24:13.124Z"
   },
   {
    "duration": 13,
    "start_time": "2024-11-21T14:26:28.849Z"
   },
   {
    "duration": 135,
    "start_time": "2024-11-21T14:26:34.874Z"
   },
   {
    "duration": 94,
    "start_time": "2024-11-21T14:26:38.358Z"
   },
   {
    "duration": 12,
    "start_time": "2024-11-21T14:26:40.600Z"
   },
   {
    "duration": 12,
    "start_time": "2024-11-21T14:27:42.304Z"
   },
   {
    "duration": 5,
    "start_time": "2024-11-21T14:27:47.489Z"
   },
   {
    "duration": 132,
    "start_time": "2024-11-21T14:27:48.830Z"
   },
   {
    "duration": 83,
    "start_time": "2024-11-21T14:27:52.369Z"
   },
   {
    "duration": 12,
    "start_time": "2024-11-21T14:27:54.116Z"
   },
   {
    "duration": 12,
    "start_time": "2024-11-21T14:27:57.034Z"
   },
   {
    "duration": 141,
    "start_time": "2024-11-21T14:28:06.144Z"
   },
   {
    "duration": 11,
    "start_time": "2024-11-21T14:28:08.860Z"
   },
   {
    "duration": 10,
    "start_time": "2024-11-21T14:28:15.145Z"
   },
   {
    "duration": 88,
    "start_time": "2024-11-21T14:28:18.860Z"
   },
   {
    "duration": 11,
    "start_time": "2024-11-21T14:28:20.662Z"
   },
   {
    "duration": 85,
    "start_time": "2024-11-21T14:28:34.180Z"
   },
   {
    "duration": 9,
    "start_time": "2024-11-21T14:28:35.868Z"
   },
   {
    "duration": 13,
    "start_time": "2024-11-21T14:28:39.898Z"
   },
   {
    "duration": 155,
    "start_time": "2024-11-21T14:28:55.055Z"
   },
   {
    "duration": 11,
    "start_time": "2024-11-21T14:28:56.629Z"
   },
   {
    "duration": 88,
    "start_time": "2024-11-21T14:29:00.614Z"
   },
   {
    "duration": 10,
    "start_time": "2024-11-21T14:29:02.943Z"
   },
   {
    "duration": 5,
    "start_time": "2024-11-21T14:29:07.274Z"
   },
   {
    "duration": 12,
    "start_time": "2024-11-21T14:29:08.869Z"
   },
   {
    "duration": 12,
    "start_time": "2024-11-21T14:29:13.622Z"
   },
   {
    "duration": 11,
    "start_time": "2024-11-21T14:29:16.898Z"
   },
   {
    "duration": 11,
    "start_time": "2024-11-21T14:29:20.329Z"
   },
   {
    "duration": 151,
    "start_time": "2024-11-21T14:29:24.014Z"
   },
   {
    "duration": 4,
    "start_time": "2024-11-21T14:29:39.735Z"
   },
   {
    "duration": 4,
    "start_time": "2024-11-21T14:29:41.264Z"
   },
   {
    "duration": 144,
    "start_time": "2024-11-21T14:29:44.593Z"
   },
   {
    "duration": 14,
    "start_time": "2024-11-21T14:29:55.216Z"
   },
   {
    "duration": 275,
    "start_time": "2024-11-21T14:29:58.538Z"
   },
   {
    "duration": 13,
    "start_time": "2024-11-21T14:30:08.889Z"
   },
   {
    "duration": 4,
    "start_time": "2024-11-21T14:30:16.846Z"
   },
   {
    "duration": 10,
    "start_time": "2024-11-21T14:30:45.168Z"
   },
   {
    "duration": 11,
    "start_time": "2024-11-21T14:31:03.577Z"
   },
   {
    "duration": 195,
    "start_time": "2024-11-21T14:32:15.487Z"
   },
   {
    "duration": 7,
    "start_time": "2024-11-21T14:41:09.679Z"
   },
   {
    "duration": 6,
    "start_time": "2024-11-21T14:42:27.306Z"
   },
   {
    "duration": 8,
    "start_time": "2024-11-21T14:42:31.860Z"
   },
   {
    "duration": 298,
    "start_time": "2024-11-21T14:47:20.922Z"
   },
   {
    "duration": 243,
    "start_time": "2024-11-21T14:48:35.949Z"
   },
   {
    "duration": 229,
    "start_time": "2024-11-21T14:48:56.174Z"
   },
   {
    "duration": 250,
    "start_time": "2024-11-21T14:51:21.062Z"
   },
   {
    "duration": 244,
    "start_time": "2024-11-21T14:51:45.204Z"
   },
   {
    "duration": 5,
    "start_time": "2024-11-21T15:01:16.935Z"
   },
   {
    "duration": 9,
    "start_time": "2024-11-21T15:01:24.107Z"
   },
   {
    "duration": 3,
    "start_time": "2024-11-21T15:05:13.171Z"
   },
   {
    "duration": 8,
    "start_time": "2024-11-21T15:05:18.756Z"
   },
   {
    "duration": 7,
    "start_time": "2024-11-21T15:06:01.834Z"
   },
   {
    "duration": 2,
    "start_time": "2024-11-21T15:08:42.524Z"
   },
   {
    "duration": 2,
    "start_time": "2024-11-21T15:08:44.259Z"
   },
   {
    "duration": 9,
    "start_time": "2024-11-21T15:10:37.027Z"
   },
   {
    "duration": 8,
    "start_time": "2024-11-21T15:10:44.499Z"
   },
   {
    "duration": 16,
    "start_time": "2024-11-21T15:10:48.870Z"
   },
   {
    "duration": 404,
    "start_time": "2024-11-21T15:11:02.865Z"
   },
   {
    "duration": 110,
    "start_time": "2024-11-21T15:11:20.331Z"
   },
   {
    "duration": 19,
    "start_time": "2024-11-21T15:24:21.371Z"
   },
   {
    "duration": 16,
    "start_time": "2024-11-21T15:24:25.890Z"
   },
   {
    "duration": 57,
    "start_time": "2024-11-21T15:24:32.435Z"
   },
   {
    "duration": 43,
    "start_time": "2024-11-21T15:25:23.132Z"
   },
   {
    "duration": 51,
    "start_time": "2024-11-21T15:25:44.100Z"
   },
   {
    "duration": 113,
    "start_time": "2024-11-21T15:25:52.541Z"
   },
   {
    "duration": 57,
    "start_time": "2024-11-21T15:25:55.595Z"
   },
   {
    "duration": 93,
    "start_time": "2024-11-21T15:27:15.181Z"
   },
   {
    "duration": 114,
    "start_time": "2024-11-21T15:27:51.898Z"
   },
   {
    "duration": 4,
    "start_time": "2024-11-21T15:31:24.405Z"
   },
   {
    "duration": 5,
    "start_time": "2024-11-21T15:31:44.634Z"
   },
   {
    "duration": 3,
    "start_time": "2024-11-21T15:31:56.608Z"
   },
   {
    "duration": 2166,
    "start_time": "2024-11-21T16:19:35.832Z"
   },
   {
    "duration": 17,
    "start_time": "2024-11-21T16:19:38.000Z"
   },
   {
    "duration": 9,
    "start_time": "2024-11-21T16:19:38.020Z"
   },
   {
    "duration": 9,
    "start_time": "2024-11-21T16:19:38.030Z"
   },
   {
    "duration": 5,
    "start_time": "2024-11-21T16:19:38.041Z"
   },
   {
    "duration": 24,
    "start_time": "2024-11-21T16:19:38.048Z"
   },
   {
    "duration": 3,
    "start_time": "2024-11-21T16:19:38.074Z"
   },
   {
    "duration": 4,
    "start_time": "2024-11-21T16:19:38.079Z"
   },
   {
    "duration": 7,
    "start_time": "2024-11-21T16:19:38.085Z"
   },
   {
    "duration": 7,
    "start_time": "2024-11-21T16:19:38.094Z"
   },
   {
    "duration": 3,
    "start_time": "2024-11-21T16:19:38.103Z"
   },
   {
    "duration": 9,
    "start_time": "2024-11-21T16:19:38.109Z"
   },
   {
    "duration": 3,
    "start_time": "2024-11-21T16:19:38.119Z"
   },
   {
    "duration": 46,
    "start_time": "2024-11-21T16:19:38.127Z"
   },
   {
    "duration": 7,
    "start_time": "2024-11-21T16:19:38.175Z"
   },
   {
    "duration": 9,
    "start_time": "2024-11-21T16:19:38.183Z"
   },
   {
    "duration": 5,
    "start_time": "2024-11-21T16:19:38.194Z"
   },
   {
    "duration": 5,
    "start_time": "2024-11-21T16:19:38.200Z"
   },
   {
    "duration": 11,
    "start_time": "2024-11-21T16:19:38.206Z"
   },
   {
    "duration": 8,
    "start_time": "2024-11-21T16:19:38.218Z"
   },
   {
    "duration": 44,
    "start_time": "2024-11-21T16:19:38.228Z"
   },
   {
    "duration": 4,
    "start_time": "2024-11-21T16:19:38.274Z"
   },
   {
    "duration": 9,
    "start_time": "2024-11-21T16:19:38.280Z"
   },
   {
    "duration": 3,
    "start_time": "2024-11-21T16:19:38.291Z"
   },
   {
    "duration": 7,
    "start_time": "2024-11-21T16:19:38.296Z"
   },
   {
    "duration": 6,
    "start_time": "2024-11-21T16:19:38.305Z"
   },
   {
    "duration": 5,
    "start_time": "2024-11-21T16:19:38.312Z"
   },
   {
    "duration": 10,
    "start_time": "2024-11-21T16:19:38.318Z"
   },
   {
    "duration": 2,
    "start_time": "2024-11-21T16:19:38.370Z"
   },
   {
    "duration": 6,
    "start_time": "2024-11-21T16:19:38.374Z"
   },
   {
    "duration": 12,
    "start_time": "2024-11-21T16:19:38.382Z"
   },
   {
    "duration": 4,
    "start_time": "2024-11-21T16:19:38.396Z"
   },
   {
    "duration": 5,
    "start_time": "2024-11-21T16:19:38.402Z"
   },
   {
    "duration": 165,
    "start_time": "2024-11-21T16:19:38.408Z"
   },
   {
    "duration": 10,
    "start_time": "2024-11-21T16:19:38.574Z"
   },
   {
    "duration": 107,
    "start_time": "2024-11-21T16:19:38.585Z"
   },
   {
    "duration": 9,
    "start_time": "2024-11-21T16:19:38.694Z"
   },
   {
    "duration": 5,
    "start_time": "2024-11-21T16:19:38.705Z"
   },
   {
    "duration": 10,
    "start_time": "2024-11-21T16:19:38.711Z"
   },
   {
    "duration": 11,
    "start_time": "2024-11-21T16:19:38.723Z"
   },
   {
    "duration": 34,
    "start_time": "2024-11-21T16:19:38.739Z"
   },
   {
    "duration": 10,
    "start_time": "2024-11-21T16:19:38.775Z"
   },
   {
    "duration": 166,
    "start_time": "2024-11-21T16:19:38.787Z"
   },
   {
    "duration": 4,
    "start_time": "2024-11-21T16:19:38.955Z"
   },
   {
    "duration": 3,
    "start_time": "2024-11-21T16:19:38.970Z"
   },
   {
    "duration": 160,
    "start_time": "2024-11-21T16:19:38.974Z"
   },
   {
    "duration": 14,
    "start_time": "2024-11-21T16:19:39.136Z"
   },
   {
    "duration": 300,
    "start_time": "2024-11-21T16:19:39.152Z"
   },
   {
    "duration": 19,
    "start_time": "2024-11-21T16:19:39.454Z"
   },
   {
    "duration": 4,
    "start_time": "2024-11-21T16:19:39.476Z"
   },
   {
    "duration": 11,
    "start_time": "2024-11-21T16:19:39.482Z"
   },
   {
    "duration": 10,
    "start_time": "2024-11-21T16:19:39.494Z"
   },
   {
    "duration": 262,
    "start_time": "2024-11-21T16:19:39.506Z"
   },
   {
    "duration": 7,
    "start_time": "2024-11-21T16:19:39.770Z"
   },
   {
    "duration": 7,
    "start_time": "2024-11-21T16:19:39.781Z"
   },
   {
    "duration": 275,
    "start_time": "2024-11-21T16:19:39.790Z"
   },
   {
    "duration": 10,
    "start_time": "2024-11-21T16:19:40.070Z"
   },
   {
    "duration": 8,
    "start_time": "2024-11-21T16:19:40.082Z"
   },
   {
    "duration": 136,
    "start_time": "2024-11-21T16:19:40.091Z"
   },
   {
    "duration": 110,
    "start_time": "2024-11-21T16:19:40.229Z"
   },
   {
    "duration": 3,
    "start_time": "2024-11-21T16:19:40.341Z"
   },
   {
    "duration": 2,
    "start_time": "2024-11-21T16:20:18.344Z"
   },
   {
    "duration": 128,
    "start_time": "2024-11-21T16:20:35.516Z"
   },
   {
    "duration": 2,
    "start_time": "2024-11-21T16:20:45.919Z"
   },
   {
    "duration": 141,
    "start_time": "2024-11-21T16:20:47.150Z"
   },
   {
    "duration": 138,
    "start_time": "2024-11-21T16:22:09.968Z"
   },
   {
    "duration": 5,
    "start_time": "2024-11-21T16:22:19.860Z"
   },
   {
    "duration": 4,
    "start_time": "2024-11-21T16:31:37.141Z"
   },
   {
    "duration": 57,
    "start_time": "2024-11-21T16:35:12.887Z"
   },
   {
    "duration": 7,
    "start_time": "2024-11-21T16:35:18.355Z"
   },
   {
    "duration": 64,
    "start_time": "2024-11-21T16:35:29.295Z"
   },
   {
    "duration": 7,
    "start_time": "2024-11-21T16:35:32.370Z"
   },
   {
    "duration": 4,
    "start_time": "2024-11-21T16:35:48.388Z"
   },
   {
    "duration": 5,
    "start_time": "2024-11-21T16:35:58.717Z"
   },
   {
    "duration": 185,
    "start_time": "2024-11-21T16:36:12.035Z"
   },
   {
    "duration": 330,
    "start_time": "2024-11-21T16:36:41.185Z"
   },
   {
    "duration": 4,
    "start_time": "2024-11-21T16:36:46.227Z"
   },
   {
    "duration": 16,
    "start_time": "2024-11-21T16:36:49.267Z"
   },
   {
    "duration": 8,
    "start_time": "2024-11-21T16:38:53.636Z"
   },
   {
    "duration": 7,
    "start_time": "2024-11-21T16:40:41.848Z"
   },
   {
    "duration": 6,
    "start_time": "2024-11-21T16:41:12.132Z"
   },
   {
    "duration": 7,
    "start_time": "2024-11-21T16:41:19.321Z"
   },
   {
    "duration": 4,
    "start_time": "2024-11-21T16:41:29.679Z"
   },
   {
    "duration": 16,
    "start_time": "2024-11-21T16:42:08.799Z"
   },
   {
    "duration": 9,
    "start_time": "2024-11-21T16:46:00.436Z"
   },
   {
    "duration": 6,
    "start_time": "2024-11-21T16:49:03.672Z"
   },
   {
    "duration": 2,
    "start_time": "2024-11-21T16:54:43.500Z"
   },
   {
    "duration": 3,
    "start_time": "2024-11-21T16:57:02.615Z"
   },
   {
    "duration": 3,
    "start_time": "2024-11-21T16:57:05.832Z"
   },
   {
    "duration": 7,
    "start_time": "2024-11-21T16:57:26.393Z"
   },
   {
    "duration": 3,
    "start_time": "2024-11-21T16:58:02.795Z"
   },
   {
    "duration": 423,
    "start_time": "2024-11-21T16:58:05.195Z"
   },
   {
    "duration": 3,
    "start_time": "2024-11-21T16:58:16.143Z"
   },
   {
    "duration": 8,
    "start_time": "2024-11-21T16:58:19.283Z"
   },
   {
    "duration": 9,
    "start_time": "2024-11-21T16:58:22.918Z"
   },
   {
    "duration": 4,
    "start_time": "2024-11-21T16:58:42.903Z"
   },
   {
    "duration": 10,
    "start_time": "2024-11-21T16:58:44.502Z"
   },
   {
    "duration": 12,
    "start_time": "2024-11-21T16:59:36.134Z"
   },
   {
    "duration": 3,
    "start_time": "2024-11-21T16:59:39.902Z"
   },
   {
    "duration": 9,
    "start_time": "2024-11-21T16:59:41.805Z"
   },
   {
    "duration": 7,
    "start_time": "2024-11-21T16:59:45.210Z"
   },
   {
    "duration": 4,
    "start_time": "2024-11-21T16:59:48.286Z"
   },
   {
    "duration": 10,
    "start_time": "2024-11-21T16:59:50.910Z"
   },
   {
    "duration": 2,
    "start_time": "2024-11-21T17:12:41.881Z"
   },
   {
    "duration": 13,
    "start_time": "2024-11-21T17:12:41.885Z"
   },
   {
    "duration": 6,
    "start_time": "2024-11-21T17:12:41.899Z"
   },
   {
    "duration": 8,
    "start_time": "2024-11-21T17:12:41.907Z"
   },
   {
    "duration": 5,
    "start_time": "2024-11-21T17:12:41.916Z"
   },
   {
    "duration": 5,
    "start_time": "2024-11-21T17:12:41.923Z"
   },
   {
    "duration": 3,
    "start_time": "2024-11-21T17:12:41.930Z"
   },
   {
    "duration": 7,
    "start_time": "2024-11-21T17:12:41.934Z"
   },
   {
    "duration": 4,
    "start_time": "2024-11-21T17:12:41.970Z"
   },
   {
    "duration": 4,
    "start_time": "2024-11-21T17:12:41.976Z"
   },
   {
    "duration": 7,
    "start_time": "2024-11-21T17:12:41.982Z"
   },
   {
    "duration": 8,
    "start_time": "2024-11-21T17:12:41.991Z"
   },
   {
    "duration": 4,
    "start_time": "2024-11-21T17:12:42.001Z"
   },
   {
    "duration": 9,
    "start_time": "2024-11-21T17:12:42.006Z"
   },
   {
    "duration": 54,
    "start_time": "2024-11-21T17:12:42.018Z"
   },
   {
    "duration": 6,
    "start_time": "2024-11-21T17:12:42.074Z"
   },
   {
    "duration": 7,
    "start_time": "2024-11-21T17:12:42.082Z"
   },
   {
    "duration": 7,
    "start_time": "2024-11-21T17:12:42.091Z"
   },
   {
    "duration": 5,
    "start_time": "2024-11-21T17:12:42.100Z"
   },
   {
    "duration": 5,
    "start_time": "2024-11-21T17:12:42.106Z"
   },
   {
    "duration": 11,
    "start_time": "2024-11-21T17:12:42.112Z"
   },
   {
    "duration": 50,
    "start_time": "2024-11-21T17:12:42.125Z"
   },
   {
    "duration": 5,
    "start_time": "2024-11-21T17:12:42.177Z"
   },
   {
    "duration": 5,
    "start_time": "2024-11-21T17:12:42.183Z"
   },
   {
    "duration": 7,
    "start_time": "2024-11-21T17:12:42.190Z"
   },
   {
    "duration": 3,
    "start_time": "2024-11-21T17:12:42.199Z"
   },
   {
    "duration": 8,
    "start_time": "2024-11-21T17:12:42.203Z"
   },
   {
    "duration": 6,
    "start_time": "2024-11-21T17:12:42.213Z"
   },
   {
    "duration": 4,
    "start_time": "2024-11-21T17:12:42.220Z"
   },
   {
    "duration": 52,
    "start_time": "2024-11-21T17:12:42.226Z"
   },
   {
    "duration": 2,
    "start_time": "2024-11-21T17:12:42.281Z"
   },
   {
    "duration": 7,
    "start_time": "2024-11-21T17:12:42.285Z"
   },
   {
    "duration": 11,
    "start_time": "2024-11-21T17:12:42.293Z"
   },
   {
    "duration": 4,
    "start_time": "2024-11-21T17:12:42.306Z"
   },
   {
    "duration": 3,
    "start_time": "2024-11-21T17:12:42.312Z"
   },
   {
    "duration": 172,
    "start_time": "2024-11-21T17:12:42.317Z"
   },
   {
    "duration": 9,
    "start_time": "2024-11-21T17:12:42.491Z"
   },
   {
    "duration": 91,
    "start_time": "2024-11-21T17:12:42.502Z"
   },
   {
    "duration": 8,
    "start_time": "2024-11-21T17:12:42.598Z"
   },
   {
    "duration": 5,
    "start_time": "2024-11-21T17:12:42.607Z"
   },
   {
    "duration": 10,
    "start_time": "2024-11-21T17:12:42.614Z"
   },
   {
    "duration": 11,
    "start_time": "2024-11-21T17:12:42.626Z"
   },
   {
    "duration": 39,
    "start_time": "2024-11-21T17:12:42.638Z"
   },
   {
    "duration": 10,
    "start_time": "2024-11-21T17:12:42.679Z"
   },
   {
    "duration": 160,
    "start_time": "2024-11-21T17:12:42.690Z"
   },
   {
    "duration": 4,
    "start_time": "2024-11-21T17:12:42.851Z"
   },
   {
    "duration": 13,
    "start_time": "2024-11-21T17:12:42.858Z"
   },
   {
    "duration": 153,
    "start_time": "2024-11-21T17:12:42.872Z"
   },
   {
    "duration": 14,
    "start_time": "2024-11-21T17:12:43.026Z"
   },
   {
    "duration": 266,
    "start_time": "2024-11-21T17:12:43.041Z"
   },
   {
    "duration": 13,
    "start_time": "2024-11-21T17:12:43.309Z"
   },
   {
    "duration": 4,
    "start_time": "2024-11-21T17:12:43.324Z"
   },
   {
    "duration": 12,
    "start_time": "2024-11-21T17:12:43.330Z"
   },
   {
    "duration": 31,
    "start_time": "2024-11-21T17:12:43.343Z"
   },
   {
    "duration": 192,
    "start_time": "2024-11-21T17:12:43.375Z"
   },
   {
    "duration": 6,
    "start_time": "2024-11-21T17:12:43.570Z"
   },
   {
    "duration": 9,
    "start_time": "2024-11-21T17:12:43.578Z"
   },
   {
    "duration": 269,
    "start_time": "2024-11-21T17:12:43.589Z"
   },
   {
    "duration": 19,
    "start_time": "2024-11-21T17:12:43.860Z"
   },
   {
    "duration": 8,
    "start_time": "2024-11-21T17:12:43.881Z"
   },
   {
    "duration": 204,
    "start_time": "2024-11-21T17:12:43.890Z"
   },
   {
    "duration": 108,
    "start_time": "2024-11-21T17:12:44.096Z"
   },
   {
    "duration": 3,
    "start_time": "2024-11-21T17:12:44.206Z"
   },
   {
    "duration": 6,
    "start_time": "2024-11-21T17:12:44.211Z"
   },
   {
    "duration": 145,
    "start_time": "2024-11-21T17:12:44.218Z"
   },
   {
    "duration": 139,
    "start_time": "2024-11-21T17:12:44.364Z"
   },
   {
    "duration": 4,
    "start_time": "2024-11-21T17:12:44.504Z"
   },
   {
    "duration": 80,
    "start_time": "2024-11-21T17:12:44.510Z"
   },
   {
    "duration": 7,
    "start_time": "2024-11-21T17:12:44.592Z"
   },
   {
    "duration": 88,
    "start_time": "2024-11-21T17:12:44.601Z"
   },
   {
    "duration": 7,
    "start_time": "2024-11-21T17:12:44.691Z"
   },
   {
    "duration": 5,
    "start_time": "2024-11-21T17:12:44.700Z"
   },
   {
    "duration": 4,
    "start_time": "2024-11-21T17:12:44.706Z"
   },
   {
    "duration": 15,
    "start_time": "2024-11-21T17:12:44.713Z"
   },
   {
    "duration": 41,
    "start_time": "2024-11-21T17:12:44.729Z"
   },
   {
    "duration": 7,
    "start_time": "2024-11-21T17:12:44.772Z"
   },
   {
    "duration": 6,
    "start_time": "2024-11-21T17:12:44.780Z"
   },
   {
    "duration": 8,
    "start_time": "2024-11-21T17:12:44.787Z"
   },
   {
    "duration": 15,
    "start_time": "2024-11-21T17:12:44.797Z"
   },
   {
    "duration": 8,
    "start_time": "2024-11-21T17:12:44.814Z"
   },
   {
    "duration": 6,
    "start_time": "2024-11-21T17:12:44.823Z"
   }
  ],
  "kernelspec": {
   "display_name": "Python 3 (ipykernel)",
   "language": "python",
   "name": "python3"
  },
  "language_info": {
   "codemirror_mode": {
    "name": "ipython",
    "version": 3
   },
   "file_extension": ".py",
   "mimetype": "text/x-python",
   "name": "python",
   "nbconvert_exporter": "python",
   "pygments_lexer": "ipython3",
   "version": "3.9.19"
  },
  "toc": {
   "base_numbering": 1,
   "nav_menu": {},
   "number_sections": true,
   "sideBar": true,
   "skip_h1_title": true,
   "title_cell": "Table of Contents",
   "title_sidebar": "Contents",
   "toc_cell": false,
   "toc_position": {
    "height": "calc(100% - 180px)",
    "left": "10px",
    "top": "150px",
    "width": "266px"
   },
   "toc_section_display": true,
   "toc_window_display": true
  }
 },
 "nbformat": 4,
 "nbformat_minor": 2
}
